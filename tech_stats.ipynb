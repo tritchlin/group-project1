{
 "metadata": {
  "language_info": {
   "codemirror_mode": {
    "name": "ipython",
    "version": 3
   },
   "file_extension": ".py",
   "mimetype": "text/x-python",
   "name": "python",
   "nbconvert_exporter": "python",
   "pygments_lexer": "ipython3",
   "version": "3.6.10"
  },
  "orig_nbformat": 4,
  "kernelspec": {
   "name": "python3",
   "display_name": "Python 3.6.10 64-bit ('PythonData': conda)"
  },
  "interpreter": {
   "hash": "03e16bf20b38c5bc3bf00c976c15238982088169e9834c6084af3096887b3e40"
  }
 },
 "nbformat": 4,
 "nbformat_minor": 2,
 "cells": [
  {
   "cell_type": "code",
   "execution_count": 1,
   "metadata": {},
   "outputs": [],
   "source": [
    "# Dependencies and Setup\n",
    "import matplotlib.pyplot as plt\n",
    "import pandas as pd\n",
    "import numpy as np\n",
    "import requests\n",
    "import gmaps\n",
    "import os\n",
    "import json"
   ]
  },
  {
   "cell_type": "code",
   "execution_count": 4,
   "metadata": {},
   "outputs": [
    {
     "output_type": "execute_result",
     "data": {
      "text/plain": [
       "         Date          Type              Company   Female %    Male %   \\\n",
       "0        2014       Country      U.S. Population       50.79     49.21   \n",
       "1        2014  Social Media             Facebook       31.00     69.00   \n",
       "2        2014  Social Media            Instagram       31.00     69.00   \n",
       "3        2014  Social Media              Google+       30.00     70.00   \n",
       "4        2014  Social Media              YouTube       30.00     70.00   \n",
       "..        ...           ...                  ...         ...       ...   \n",
       "157  May 2018          Tech              Netflix       43.00     57.00   \n",
       "158  May 2018          Tech                 Yelp       54.00     46.00   \n",
       "159  May 2018        Entity  DiversityInc top 50       44.00     56.00   \n",
       "160  May 2018        Entity     Fortune 500 CEOs        6.00     94.00   \n",
       "161  May 2018    Government          US Congress       20.00     80.00   \n",
       "\n",
       "      % White    % Asian    % Latino    % Black    % Multi   % Other   \\\n",
       "0         64.0        4.0        16.0       12.0        1.0     3.00    \n",
       "1         57.0       34.0         4.0        2.0        3.0      -      \n",
       "2         57.0       34.0         4.0        2.0        3.0      -      \n",
       "3         61.0       30.0         3.0        2.0        4.0       NaN   \n",
       "4         61.0       30.0         3.0        2.0        4.0       NaN   \n",
       "..         ...        ...         ...        ...        ...       ...   \n",
       "157       49.0       24.0         6.0        4.0        NaN     4.00    \n",
       "158       62.0       15.0        10.0        6.0        5.0     2.00    \n",
       "159       78.0        6.0         7.0        9.0        NaN       NaN   \n",
       "160       73.0       21.0         3.0        2.0        0.5     0.50    \n",
       "161       80.0        3.0         7.0        9.0        NaN     1.00    \n",
       "\n",
       "      % Undeclared   \n",
       "0               NaN  \n",
       "1               NaN  \n",
       "2               NaN  \n",
       "3               NaN  \n",
       "4               NaN  \n",
       "..              ...  \n",
       "157            13.0  \n",
       "158             NaN  \n",
       "159             NaN  \n",
       "160             NaN  \n",
       "161             NaN  \n",
       "\n",
       "[162 rows x 12 columns]"
      ],
      "text/html": "<div>\n<style scoped>\n    .dataframe tbody tr th:only-of-type {\n        vertical-align: middle;\n    }\n\n    .dataframe tbody tr th {\n        vertical-align: top;\n    }\n\n    .dataframe thead th {\n        text-align: right;\n    }\n</style>\n<table border=\"1\" class=\"dataframe\">\n  <thead>\n    <tr style=\"text-align: right;\">\n      <th></th>\n      <th>Date</th>\n      <th>Type</th>\n      <th>Company</th>\n      <th>Female %</th>\n      <th>Male %</th>\n      <th>% White</th>\n      <th>% Asian</th>\n      <th>% Latino</th>\n      <th>% Black</th>\n      <th>% Multi</th>\n      <th>% Other</th>\n      <th>% Undeclared</th>\n    </tr>\n  </thead>\n  <tbody>\n    <tr>\n      <th>0</th>\n      <td>2014</td>\n      <td>Country</td>\n      <td>U.S. Population</td>\n      <td>50.79</td>\n      <td>49.21</td>\n      <td>64.0</td>\n      <td>4.0</td>\n      <td>16.0</td>\n      <td>12.0</td>\n      <td>1.0</td>\n      <td>3.00</td>\n      <td>NaN</td>\n    </tr>\n    <tr>\n      <th>1</th>\n      <td>2014</td>\n      <td>Social Media</td>\n      <td>Facebook</td>\n      <td>31.00</td>\n      <td>69.00</td>\n      <td>57.0</td>\n      <td>34.0</td>\n      <td>4.0</td>\n      <td>2.0</td>\n      <td>3.0</td>\n      <td>-</td>\n      <td>NaN</td>\n    </tr>\n    <tr>\n      <th>2</th>\n      <td>2014</td>\n      <td>Social Media</td>\n      <td>Instagram</td>\n      <td>31.00</td>\n      <td>69.00</td>\n      <td>57.0</td>\n      <td>34.0</td>\n      <td>4.0</td>\n      <td>2.0</td>\n      <td>3.0</td>\n      <td>-</td>\n      <td>NaN</td>\n    </tr>\n    <tr>\n      <th>3</th>\n      <td>2014</td>\n      <td>Social Media</td>\n      <td>Google+</td>\n      <td>30.00</td>\n      <td>70.00</td>\n      <td>61.0</td>\n      <td>30.0</td>\n      <td>3.0</td>\n      <td>2.0</td>\n      <td>4.0</td>\n      <td>NaN</td>\n      <td>NaN</td>\n    </tr>\n    <tr>\n      <th>4</th>\n      <td>2014</td>\n      <td>Social Media</td>\n      <td>YouTube</td>\n      <td>30.00</td>\n      <td>70.00</td>\n      <td>61.0</td>\n      <td>30.0</td>\n      <td>3.0</td>\n      <td>2.0</td>\n      <td>4.0</td>\n      <td>NaN</td>\n      <td>NaN</td>\n    </tr>\n    <tr>\n      <th>...</th>\n      <td>...</td>\n      <td>...</td>\n      <td>...</td>\n      <td>...</td>\n      <td>...</td>\n      <td>...</td>\n      <td>...</td>\n      <td>...</td>\n      <td>...</td>\n      <td>...</td>\n      <td>...</td>\n      <td>...</td>\n    </tr>\n    <tr>\n      <th>157</th>\n      <td>May 2018</td>\n      <td>Tech</td>\n      <td>Netflix</td>\n      <td>43.00</td>\n      <td>57.00</td>\n      <td>49.0</td>\n      <td>24.0</td>\n      <td>6.0</td>\n      <td>4.0</td>\n      <td>NaN</td>\n      <td>4.00</td>\n      <td>13.0</td>\n    </tr>\n    <tr>\n      <th>158</th>\n      <td>May 2018</td>\n      <td>Tech</td>\n      <td>Yelp</td>\n      <td>54.00</td>\n      <td>46.00</td>\n      <td>62.0</td>\n      <td>15.0</td>\n      <td>10.0</td>\n      <td>6.0</td>\n      <td>5.0</td>\n      <td>2.00</td>\n      <td>NaN</td>\n    </tr>\n    <tr>\n      <th>159</th>\n      <td>May 2018</td>\n      <td>Entity</td>\n      <td>DiversityInc top 50</td>\n      <td>44.00</td>\n      <td>56.00</td>\n      <td>78.0</td>\n      <td>6.0</td>\n      <td>7.0</td>\n      <td>9.0</td>\n      <td>NaN</td>\n      <td>NaN</td>\n      <td>NaN</td>\n    </tr>\n    <tr>\n      <th>160</th>\n      <td>May 2018</td>\n      <td>Entity</td>\n      <td>Fortune 500 CEOs</td>\n      <td>6.00</td>\n      <td>94.00</td>\n      <td>73.0</td>\n      <td>21.0</td>\n      <td>3.0</td>\n      <td>2.0</td>\n      <td>0.5</td>\n      <td>0.50</td>\n      <td>NaN</td>\n    </tr>\n    <tr>\n      <th>161</th>\n      <td>May 2018</td>\n      <td>Government</td>\n      <td>US Congress</td>\n      <td>20.00</td>\n      <td>80.00</td>\n      <td>80.0</td>\n      <td>3.0</td>\n      <td>7.0</td>\n      <td>9.0</td>\n      <td>NaN</td>\n      <td>1.00</td>\n      <td>NaN</td>\n    </tr>\n  </tbody>\n</table>\n<p>162 rows × 12 columns</p>\n</div>"
     },
     "metadata": {},
     "execution_count": 4
    }
   ],
   "source": [
    "# Load the csv exported in Part I to a DataFrame\n",
    "diversity_df = pd.read_csv(\"Data\\Employee Diversity in Tech.csv\",sep=\"\\t\")\n",
    "diversity_df"
   ]
  },
  {
   "cell_type": "code",
   "execution_count": 11,
   "metadata": {},
   "outputs": [
    {
     "output_type": "execute_result",
     "data": {
      "text/plain": [
       "         Date  Type  Company   Female %    Male %    % White    % Asian   \\\n",
       "10       2014  Tech   Yahoo!       37.00      62.0      50.00      39.00   \n",
       "11       2014  Tech   Google       30.00      70.0      61.00      30.00   \n",
       "12       2014  Tech    Apple       30.00      70.0      55.00      15.00   \n",
       "13       2014  Tech    Cisco       23.00      77.0      54.00        NaN   \n",
       "14       2014  Tech     eBay       42.00      58.0      61.00      24.00   \n",
       "..        ...   ...      ...         ...       ...        ...        ...   \n",
       "154  May 2018  Tech     Uber       38.00      62.0      48.60      32.30   \n",
       "155  May 2018  Tech    Slack       44.70      55.3      58.70      24.40   \n",
       "156  May 2018  Tech   AirBnB       41.15      59.0      49.81      36.36   \n",
       "157  May 2018  Tech  Netflix       43.00      57.0      49.00      24.00   \n",
       "158  May 2018  Tech     Yelp       54.00      46.0      62.00      15.00   \n",
       "\n",
       "      % Latino    % Black    % Multi   % Other    % Undeclared   \n",
       "10         4.00       2.00       2.00     2.00              NaN  \n",
       "11         3.00       2.00       4.00       NaN             NaN  \n",
       "12        11.00       7.00       2.00     1.00              9.0  \n",
       "13          NaN        NaN        NaN       NaN             NaN  \n",
       "14         5.00       7.00       1.00     1.00              NaN  \n",
       "..          ...        ...        ...       ...             ...  \n",
       "154        6.10       8.10       4.30     0.70              NaN  \n",
       "155        6.90       4.90       4.40     0.70              NaN  \n",
       "156        7.44       3.45       2.52     0.50              NaN  \n",
       "157        6.00       4.00        NaN     4.00             13.0  \n",
       "158       10.00       6.00       5.00     2.00              NaN  \n",
       "\n",
       "[91 rows x 12 columns]"
      ],
      "text/html": "<div>\n<style scoped>\n    .dataframe tbody tr th:only-of-type {\n        vertical-align: middle;\n    }\n\n    .dataframe tbody tr th {\n        vertical-align: top;\n    }\n\n    .dataframe thead th {\n        text-align: right;\n    }\n</style>\n<table border=\"1\" class=\"dataframe\">\n  <thead>\n    <tr style=\"text-align: right;\">\n      <th></th>\n      <th>Date</th>\n      <th>Type</th>\n      <th>Company</th>\n      <th>Female %</th>\n      <th>Male %</th>\n      <th>% White</th>\n      <th>% Asian</th>\n      <th>% Latino</th>\n      <th>% Black</th>\n      <th>% Multi</th>\n      <th>% Other</th>\n      <th>% Undeclared</th>\n    </tr>\n  </thead>\n  <tbody>\n    <tr>\n      <th>10</th>\n      <td>2014</td>\n      <td>Tech</td>\n      <td>Yahoo!</td>\n      <td>37.00</td>\n      <td>62.0</td>\n      <td>50.00</td>\n      <td>39.00</td>\n      <td>4.00</td>\n      <td>2.00</td>\n      <td>2.00</td>\n      <td>2.00</td>\n      <td>NaN</td>\n    </tr>\n    <tr>\n      <th>11</th>\n      <td>2014</td>\n      <td>Tech</td>\n      <td>Google</td>\n      <td>30.00</td>\n      <td>70.0</td>\n      <td>61.00</td>\n      <td>30.00</td>\n      <td>3.00</td>\n      <td>2.00</td>\n      <td>4.00</td>\n      <td>NaN</td>\n      <td>NaN</td>\n    </tr>\n    <tr>\n      <th>12</th>\n      <td>2014</td>\n      <td>Tech</td>\n      <td>Apple</td>\n      <td>30.00</td>\n      <td>70.0</td>\n      <td>55.00</td>\n      <td>15.00</td>\n      <td>11.00</td>\n      <td>7.00</td>\n      <td>2.00</td>\n      <td>1.00</td>\n      <td>9.0</td>\n    </tr>\n    <tr>\n      <th>13</th>\n      <td>2014</td>\n      <td>Tech</td>\n      <td>Cisco</td>\n      <td>23.00</td>\n      <td>77.0</td>\n      <td>54.00</td>\n      <td>NaN</td>\n      <td>NaN</td>\n      <td>NaN</td>\n      <td>NaN</td>\n      <td>NaN</td>\n      <td>NaN</td>\n    </tr>\n    <tr>\n      <th>14</th>\n      <td>2014</td>\n      <td>Tech</td>\n      <td>eBay</td>\n      <td>42.00</td>\n      <td>58.0</td>\n      <td>61.00</td>\n      <td>24.00</td>\n      <td>5.00</td>\n      <td>7.00</td>\n      <td>1.00</td>\n      <td>1.00</td>\n      <td>NaN</td>\n    </tr>\n    <tr>\n      <th>...</th>\n      <td>...</td>\n      <td>...</td>\n      <td>...</td>\n      <td>...</td>\n      <td>...</td>\n      <td>...</td>\n      <td>...</td>\n      <td>...</td>\n      <td>...</td>\n      <td>...</td>\n      <td>...</td>\n      <td>...</td>\n    </tr>\n    <tr>\n      <th>154</th>\n      <td>May 2018</td>\n      <td>Tech</td>\n      <td>Uber</td>\n      <td>38.00</td>\n      <td>62.0</td>\n      <td>48.60</td>\n      <td>32.30</td>\n      <td>6.10</td>\n      <td>8.10</td>\n      <td>4.30</td>\n      <td>0.70</td>\n      <td>NaN</td>\n    </tr>\n    <tr>\n      <th>155</th>\n      <td>May 2018</td>\n      <td>Tech</td>\n      <td>Slack</td>\n      <td>44.70</td>\n      <td>55.3</td>\n      <td>58.70</td>\n      <td>24.40</td>\n      <td>6.90</td>\n      <td>4.90</td>\n      <td>4.40</td>\n      <td>0.70</td>\n      <td>NaN</td>\n    </tr>\n    <tr>\n      <th>156</th>\n      <td>May 2018</td>\n      <td>Tech</td>\n      <td>AirBnB</td>\n      <td>41.15</td>\n      <td>59.0</td>\n      <td>49.81</td>\n      <td>36.36</td>\n      <td>7.44</td>\n      <td>3.45</td>\n      <td>2.52</td>\n      <td>0.50</td>\n      <td>NaN</td>\n    </tr>\n    <tr>\n      <th>157</th>\n      <td>May 2018</td>\n      <td>Tech</td>\n      <td>Netflix</td>\n      <td>43.00</td>\n      <td>57.0</td>\n      <td>49.00</td>\n      <td>24.00</td>\n      <td>6.00</td>\n      <td>4.00</td>\n      <td>NaN</td>\n      <td>4.00</td>\n      <td>13.0</td>\n    </tr>\n    <tr>\n      <th>158</th>\n      <td>May 2018</td>\n      <td>Tech</td>\n      <td>Yelp</td>\n      <td>54.00</td>\n      <td>46.0</td>\n      <td>62.00</td>\n      <td>15.00</td>\n      <td>10.00</td>\n      <td>6.00</td>\n      <td>5.00</td>\n      <td>2.00</td>\n      <td>NaN</td>\n    </tr>\n  </tbody>\n</table>\n<p>91 rows × 12 columns</p>\n</div>"
     },
     "metadata": {},
     "execution_count": 11
    }
   ],
   "source": [
    "tech_diversity = diversity_df[diversity_df[\"Type\"] == \"Tech\"]\n",
    "tech_diversity"
   ]
  },
  {
   "cell_type": "code",
   "execution_count": 15,
   "metadata": {},
   "outputs": [
    {
     "output_type": "execute_result",
     "data": {
      "text/plain": [
       "['Yahoo!',\n",
       " 'Google',\n",
       " 'Apple',\n",
       " 'Cisco',\n",
       " 'eBay',\n",
       " 'HP',\n",
       " 'Indiegogo',\n",
       " 'Nvidia',\n",
       " 'Dell',\n",
       " 'Ingram Micro',\n",
       " 'Intel',\n",
       " 'Groupon',\n",
       " 'Amazon',\n",
       " 'Salesforce',\n",
       " 'Pandora',\n",
       " 'Microsoft',\n",
       " 'Etsy',\n",
       " 'Uber',\n",
       " 'Slack',\n",
       " 'AirBnB',\n",
       " 'Netflix',\n",
       " 'Yelp']"
      ]
     },
     "metadata": {},
     "execution_count": 15
    }
   ],
   "source": [
    "tech_companies = list(tech_diversity[\"Company\"].unique())\n",
    "tech_companies"
   ]
  },
  {
   "cell_type": "code",
   "execution_count": 17,
   "metadata": {},
   "outputs": [
    {
     "output_type": "execute_result",
     "data": {
      "text/plain": [
       "               Female %     Male %    % White    % Asian    % Latino   \\\n",
       "Company                                                                 \n",
       "AirBnB         41.150000  59.000000     49.810  36.360000    7.440000   \n",
       "Amazon         37.800000  62.200000     55.200  13.000000   10.600000   \n",
       "Apple          31.400000  68.600000     54.600  18.800000   12.000000   \n",
       "Cisco          23.400000  76.600000     53.600  37.000000    5.000000   \n",
       "Dell           29.200000  71.070000     68.650   9.110000   11.140000   \n",
       "Etsy           52.500000  47.500000     79.000  10.500000    4.000000   \n",
       "Google         30.600000  69.400000     57.800  32.800000    3.400000   \n",
       "Groupon        45.800000  54.200000     67.400  17.000000    6.200000   \n",
       "HP             34.600000  65.400000     72.400   8.400000   11.600000   \n",
       "Indiegogo      47.000000  53.000000     61.600  25.000000    7.600000   \n",
       "Ingram Micro   37.600000  62.532000     58.618  11.912000   17.020000   \n",
       "Intel          25.500000  74.744000     55.646  30.930000    8.738000   \n",
       "Microsoft      27.400000  72.600000     58.120  29.740000    5.460000   \n",
       "Netflix        43.000000  57.000000     49.000  24.000000    6.000000   \n",
       "Nvidia         16.430000  83.570000     37.600  44.400000    3.000000   \n",
       "Pandora        49.000000  51.000000     68.600  13.600000    7.400000   \n",
       "Salesforce     29.780000  70.140000     66.138  22.774000    3.980000   \n",
       "Slack          44.700000  55.300000     58.700  24.400000    6.900000   \n",
       "Uber           36.733333  63.266667     49.400  31.366667    5.766667   \n",
       "Yahoo!         37.000000  62.400000     47.400  41.800000    4.000000   \n",
       "Yelp           54.000000  46.000000     62.000  15.000000   10.000000   \n",
       "eBay           41.200000  58.800000     56.600  30.600000    5.000000   \n",
       "\n",
       "               % Black    % Multi    % Undeclared   \n",
       "Company                                             \n",
       "AirBnB         3.450000      2.520             NaN  \n",
       "Amazon        17.400000        NaN             NaN  \n",
       "Apple          8.400000      2.400            4.20  \n",
       "Cisco          4.000000      1.000             NaN  \n",
       "Dell          10.040000        NaN             NaN  \n",
       "Etsy           3.000000      3.500             NaN  \n",
       "Google         2.200000      3.600             NaN  \n",
       "Groupon        5.600000        NaN             NaN  \n",
       "HP             5.800000      1.400             NaN  \n",
       "Indiegogo      2.800000        NaN             NaN  \n",
       "Ingram Micro  11.678000      1.000             NaN  \n",
       "Intel          3.766000      0.600             NaN  \n",
       "Microsoft      3.700000      1.520             NaN  \n",
       "Netflix        4.000000        NaN           13.00  \n",
       "Nvidia         1.000000     14.000             NaN  \n",
       "Pandora        3.800000      5.600             NaN  \n",
       "Salesforce     2.306000      2.312            1.99  \n",
       "Slack          4.900000      4.400             NaN  \n",
       "Uber           8.566667      4.300             NaN  \n",
       "Yahoo!         2.000000      2.000            1.00  \n",
       "Yelp           6.000000      5.000             NaN  \n",
       "eBay           5.600000      1.000             NaN  "
      ],
      "text/html": "<div>\n<style scoped>\n    .dataframe tbody tr th:only-of-type {\n        vertical-align: middle;\n    }\n\n    .dataframe tbody tr th {\n        vertical-align: top;\n    }\n\n    .dataframe thead th {\n        text-align: right;\n    }\n</style>\n<table border=\"1\" class=\"dataframe\">\n  <thead>\n    <tr style=\"text-align: right;\">\n      <th></th>\n      <th>Female %</th>\n      <th>Male %</th>\n      <th>% White</th>\n      <th>% Asian</th>\n      <th>% Latino</th>\n      <th>% Black</th>\n      <th>% Multi</th>\n      <th>% Undeclared</th>\n    </tr>\n    <tr>\n      <th>Company</th>\n      <th></th>\n      <th></th>\n      <th></th>\n      <th></th>\n      <th></th>\n      <th></th>\n      <th></th>\n      <th></th>\n    </tr>\n  </thead>\n  <tbody>\n    <tr>\n      <th>AirBnB</th>\n      <td>41.150000</td>\n      <td>59.000000</td>\n      <td>49.810</td>\n      <td>36.360000</td>\n      <td>7.440000</td>\n      <td>3.450000</td>\n      <td>2.520</td>\n      <td>NaN</td>\n    </tr>\n    <tr>\n      <th>Amazon</th>\n      <td>37.800000</td>\n      <td>62.200000</td>\n      <td>55.200</td>\n      <td>13.000000</td>\n      <td>10.600000</td>\n      <td>17.400000</td>\n      <td>NaN</td>\n      <td>NaN</td>\n    </tr>\n    <tr>\n      <th>Apple</th>\n      <td>31.400000</td>\n      <td>68.600000</td>\n      <td>54.600</td>\n      <td>18.800000</td>\n      <td>12.000000</td>\n      <td>8.400000</td>\n      <td>2.400</td>\n      <td>4.20</td>\n    </tr>\n    <tr>\n      <th>Cisco</th>\n      <td>23.400000</td>\n      <td>76.600000</td>\n      <td>53.600</td>\n      <td>37.000000</td>\n      <td>5.000000</td>\n      <td>4.000000</td>\n      <td>1.000</td>\n      <td>NaN</td>\n    </tr>\n    <tr>\n      <th>Dell</th>\n      <td>29.200000</td>\n      <td>71.070000</td>\n      <td>68.650</td>\n      <td>9.110000</td>\n      <td>11.140000</td>\n      <td>10.040000</td>\n      <td>NaN</td>\n      <td>NaN</td>\n    </tr>\n    <tr>\n      <th>Etsy</th>\n      <td>52.500000</td>\n      <td>47.500000</td>\n      <td>79.000</td>\n      <td>10.500000</td>\n      <td>4.000000</td>\n      <td>3.000000</td>\n      <td>3.500</td>\n      <td>NaN</td>\n    </tr>\n    <tr>\n      <th>Google</th>\n      <td>30.600000</td>\n      <td>69.400000</td>\n      <td>57.800</td>\n      <td>32.800000</td>\n      <td>3.400000</td>\n      <td>2.200000</td>\n      <td>3.600</td>\n      <td>NaN</td>\n    </tr>\n    <tr>\n      <th>Groupon</th>\n      <td>45.800000</td>\n      <td>54.200000</td>\n      <td>67.400</td>\n      <td>17.000000</td>\n      <td>6.200000</td>\n      <td>5.600000</td>\n      <td>NaN</td>\n      <td>NaN</td>\n    </tr>\n    <tr>\n      <th>HP</th>\n      <td>34.600000</td>\n      <td>65.400000</td>\n      <td>72.400</td>\n      <td>8.400000</td>\n      <td>11.600000</td>\n      <td>5.800000</td>\n      <td>1.400</td>\n      <td>NaN</td>\n    </tr>\n    <tr>\n      <th>Indiegogo</th>\n      <td>47.000000</td>\n      <td>53.000000</td>\n      <td>61.600</td>\n      <td>25.000000</td>\n      <td>7.600000</td>\n      <td>2.800000</td>\n      <td>NaN</td>\n      <td>NaN</td>\n    </tr>\n    <tr>\n      <th>Ingram Micro</th>\n      <td>37.600000</td>\n      <td>62.532000</td>\n      <td>58.618</td>\n      <td>11.912000</td>\n      <td>17.020000</td>\n      <td>11.678000</td>\n      <td>1.000</td>\n      <td>NaN</td>\n    </tr>\n    <tr>\n      <th>Intel</th>\n      <td>25.500000</td>\n      <td>74.744000</td>\n      <td>55.646</td>\n      <td>30.930000</td>\n      <td>8.738000</td>\n      <td>3.766000</td>\n      <td>0.600</td>\n      <td>NaN</td>\n    </tr>\n    <tr>\n      <th>Microsoft</th>\n      <td>27.400000</td>\n      <td>72.600000</td>\n      <td>58.120</td>\n      <td>29.740000</td>\n      <td>5.460000</td>\n      <td>3.700000</td>\n      <td>1.520</td>\n      <td>NaN</td>\n    </tr>\n    <tr>\n      <th>Netflix</th>\n      <td>43.000000</td>\n      <td>57.000000</td>\n      <td>49.000</td>\n      <td>24.000000</td>\n      <td>6.000000</td>\n      <td>4.000000</td>\n      <td>NaN</td>\n      <td>13.00</td>\n    </tr>\n    <tr>\n      <th>Nvidia</th>\n      <td>16.430000</td>\n      <td>83.570000</td>\n      <td>37.600</td>\n      <td>44.400000</td>\n      <td>3.000000</td>\n      <td>1.000000</td>\n      <td>14.000</td>\n      <td>NaN</td>\n    </tr>\n    <tr>\n      <th>Pandora</th>\n      <td>49.000000</td>\n      <td>51.000000</td>\n      <td>68.600</td>\n      <td>13.600000</td>\n      <td>7.400000</td>\n      <td>3.800000</td>\n      <td>5.600</td>\n      <td>NaN</td>\n    </tr>\n    <tr>\n      <th>Salesforce</th>\n      <td>29.780000</td>\n      <td>70.140000</td>\n      <td>66.138</td>\n      <td>22.774000</td>\n      <td>3.980000</td>\n      <td>2.306000</td>\n      <td>2.312</td>\n      <td>1.99</td>\n    </tr>\n    <tr>\n      <th>Slack</th>\n      <td>44.700000</td>\n      <td>55.300000</td>\n      <td>58.700</td>\n      <td>24.400000</td>\n      <td>6.900000</td>\n      <td>4.900000</td>\n      <td>4.400</td>\n      <td>NaN</td>\n    </tr>\n    <tr>\n      <th>Uber</th>\n      <td>36.733333</td>\n      <td>63.266667</td>\n      <td>49.400</td>\n      <td>31.366667</td>\n      <td>5.766667</td>\n      <td>8.566667</td>\n      <td>4.300</td>\n      <td>NaN</td>\n    </tr>\n    <tr>\n      <th>Yahoo!</th>\n      <td>37.000000</td>\n      <td>62.400000</td>\n      <td>47.400</td>\n      <td>41.800000</td>\n      <td>4.000000</td>\n      <td>2.000000</td>\n      <td>2.000</td>\n      <td>1.00</td>\n    </tr>\n    <tr>\n      <th>Yelp</th>\n      <td>54.000000</td>\n      <td>46.000000</td>\n      <td>62.000</td>\n      <td>15.000000</td>\n      <td>10.000000</td>\n      <td>6.000000</td>\n      <td>5.000</td>\n      <td>NaN</td>\n    </tr>\n    <tr>\n      <th>eBay</th>\n      <td>41.200000</td>\n      <td>58.800000</td>\n      <td>56.600</td>\n      <td>30.600000</td>\n      <td>5.000000</td>\n      <td>5.600000</td>\n      <td>1.000</td>\n      <td>NaN</td>\n    </tr>\n  </tbody>\n</table>\n</div>"
     },
     "metadata": {},
     "execution_count": 17
    }
   ],
   "source": [
    "tech_div_summary = tech_diversity.groupby(\"Company\").mean()\n",
    "tech_div_summary"
   ]
  },
  {
   "cell_type": "code",
   "execution_count": null,
   "metadata": {},
   "outputs": [],
   "source": []
  }
 ]
}