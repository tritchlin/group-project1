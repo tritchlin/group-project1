{
 "metadata": {
  "language_info": {
   "codemirror_mode": {
    "name": "ipython",
    "version": 3
   },
   "file_extension": ".py",
   "mimetype": "text/x-python",
   "name": "python",
   "nbconvert_exporter": "python",
   "pygments_lexer": "ipython3",
   "version": "3.6.10"
  },
  "orig_nbformat": 4,
  "kernelspec": {
   "name": "python3",
   "display_name": "Python 3.6.10 64-bit ('PythonData': conda)"
  },
  "interpreter": {
   "hash": "03e16bf20b38c5bc3bf00c976c15238982088169e9834c6084af3096887b3e40"
  }
 },
 "nbformat": 4,
 "nbformat_minor": 2,
 "cells": [
  {
   "cell_type": "code",
   "execution_count": 1,
   "metadata": {},
   "outputs": [],
   "source": [
    "# Dependencies and Setup\n",
    "import matplotlib.pyplot as plt\n",
    "import pandas as pd\n",
    "import numpy as np\n",
    "import json"
   ]
  },
  {
   "cell_type": "code",
   "execution_count": 2,
   "metadata": {},
   "outputs": [],
   "source": [
    "# Load the csv exported in Part I to a DataFrame\n",
    "diversity_df = pd.read_csv(\"Data\\Employee Diversity in Tech.csv\",sep=\"\\t\")\n",
    "tech_salaries = pd.read_csv(\"Data\\Top tech companies comparison 2014_2015.csv\")\n",
    "salary_survey = pd.read_csv(\"Data\\Data_Professional_Salary_Survey_Responses.csv\",encoding='latin1')"
   ]
  },
  {
   "cell_type": "code",
   "execution_count": 3,
   "metadata": {},
   "outputs": [],
   "source": [
    "tech_diversity = diversity_df[diversity_df[\"Type\"] == \"Tech\"]\n",
    "tech_div_summary = tech_diversity.groupby(\"Company\").mean()"
   ]
  },
  {
   "cell_type": "code",
   "execution_count": 4,
   "metadata": {},
   "outputs": [],
   "source": [
    "tech_companies = list(tech_diversity[\"Company\"].unique())"
   ]
  },
  {
   "cell_type": "code",
   "execution_count": 5,
   "metadata": {},
   "outputs": [
    {
     "output_type": "execute_result",
     "data": {
      "text/plain": [
       "2    Survey Year          Timestamp SalaryUSD         Country PostalCode  \\\n",
       "0           2017   1/5/2017 5:10:20    200000   United States  Not Asked   \n",
       "1           2017   1/5/2017 5:26:23     61515  United Kingdom  Not Asked   \n",
       "2           2017   1/5/2017 5:32:57     95000         Germany  Not Asked   \n",
       "3           2017   1/5/2017 5:33:03     56000  United Kingdom  Not Asked   \n",
       "4           2017   1/5/2017 5:34:34     35000          France  Not Asked   \n",
       "...          ...                ...       ...             ...        ...   \n",
       "6888        2019   1/4/2019 6:16:12     32000         Hungary        NaN   \n",
       "6889        2019   1/4/2019 6:18:47     32000         Hungary        NaN   \n",
       "6890        2019   1/4/2019 9:06:06     40000        Portugal       1000   \n",
       "6891        2019  1/4/2019 10:06:25    130000   United States      49506   \n",
       "6892        2019  1/5/2019 18:25:22     84500          Canada    N2K 4L5   \n",
       "\n",
       "2          PrimaryDatabase YearsWithThisDatabase  \\\n",
       "0     Microsoft SQL Server                    10   \n",
       "1     Microsoft SQL Server                    15   \n",
       "2     Microsoft SQL Server                     5   \n",
       "3     Microsoft SQL Server                     6   \n",
       "4     Microsoft SQL Server                    10   \n",
       "...                    ...                   ...   \n",
       "6888  Microsoft SQL Server                     3   \n",
       "6889  Microsoft SQL Server                     3   \n",
       "6890  Microsoft SQL Server                    10   \n",
       "6891  Microsoft SQL Server                    20   \n",
       "6892  Microsoft SQL Server                    19   \n",
       "\n",
       "2                            OtherDatabases  \\\n",
       "0                             MySQL/MariaDB   \n",
       "1                        Oracle, PostgreSQL   \n",
       "2           Oracle, MySQL/MariaDB, Informix   \n",
       "3                                       NaN   \n",
       "4                                    Oracle   \n",
       "...                                     ...   \n",
       "6888  Azure SQL DB, Amazon RDS (any flavor)   \n",
       "6889  Azure SQL DB, Amazon RDS (any flavor)   \n",
       "6890                                    NaN   \n",
       "6891                                    NaN   \n",
       "6892                                    NaN   \n",
       "\n",
       "2                                      EmploymentStatus  \\\n",
       "0                                    Full time employee   \n",
       "1                                    Full time employee   \n",
       "2                                    Full time employee   \n",
       "3                                    Full time employee   \n",
       "4     Full time employee of a consulting/contracting...   \n",
       "...                                                 ...   \n",
       "6888                                 Full time employee   \n",
       "6889                                 Full time employee   \n",
       "6890  Full time employee of a consulting/contracting...   \n",
       "6891  Full time employee of a consulting/contracting...   \n",
       "6892                                 Full time employee   \n",
       "\n",
       "2                                              JobTitle  ...  \\\n",
       "0                                                   DBA  ...   \n",
       "1                                                   DBA  ...   \n",
       "2                                                 Other  ...   \n",
       "3                                                   DBA  ...   \n",
       "4                                                   DBA  ...   \n",
       "...                                                 ...  ...   \n",
       "6888  DBA (General - splits time evenly between writ...  ...   \n",
       "6889  DBA (General - splits time evenly between writ...  ...   \n",
       "6890                  Developer: App code (C#, JS, etc)  ...   \n",
       "6891  DBA (General - splits time evenly between writ...  ...   \n",
       "6892                                          Architect  ...   \n",
       "\n",
       "2    HoursWorkedPerWeek             TelecommuteDaysPerWeek  \\\n",
       "0                    45                                  1   \n",
       "1                    35                                  2   \n",
       "2                    45  None, or less than 1 day per week   \n",
       "3                    40                                  1   \n",
       "4                    40  None, or less than 1 day per week   \n",
       "...                 ...                                ...   \n",
       "6888                 40                                  2   \n",
       "6889                 40                                  2   \n",
       "6890                 40  None, or less than 1 day per week   \n",
       "6891                 42  None, or less than 1 day per week   \n",
       "6892                 40  None, or less than 1 day per week   \n",
       "\n",
       "2    PopulationOfLargestCityWithin20Miles  EmploymentSector  \\\n",
       "0                               Not Asked  Private business   \n",
       "1                               Not Asked  Private business   \n",
       "2                               Not Asked  Private business   \n",
       "3                               Not Asked  Private business   \n",
       "4                               Not Asked  Private business   \n",
       "...                                   ...               ...   \n",
       "6888                 20K-99K (large town)  Private business   \n",
       "6889                 20K-99K (large town)  Private business   \n",
       "6890                 300K-1M (large city)  Private business   \n",
       "6891                     100K-299K (city)  Private business   \n",
       "6892                 300K-1M (large city)  Private business   \n",
       "\n",
       "2                         LookingForAnotherJob  \\\n",
       "0       Yes, but only passively (just curious)   \n",
       "1                                           No   \n",
       "2       Yes, but only passively (just curious)   \n",
       "3       Yes, but only passively (just curious)   \n",
       "4       Yes, but only passively (just curious)   \n",
       "...                                        ...   \n",
       "6888                                        No   \n",
       "6889                                        No   \n",
       "6890    Yes, but only passively (just curious)   \n",
       "6891  Yes, actively looking for something else   \n",
       "6892    Yes, but only passively (just curious)   \n",
       "\n",
       "2                        CareerPlansThisYear     Gender  \\\n",
       "0                                  Not Asked  Not Asked   \n",
       "1                                  Not Asked  Not Asked   \n",
       "2                                  Not Asked  Not Asked   \n",
       "3                                  Not Asked  Not Asked   \n",
       "4                                  Not Asked  Not Asked   \n",
       "...                                      ...        ...   \n",
       "6888  Stay with the same employer, same role       Male   \n",
       "6889  Stay with the same employer, same role       Male   \n",
       "6890  Stay with the same employer, same role       Male   \n",
       "6891                       Prefer not to say     Female   \n",
       "6892                       Prefer not to say       Male   \n",
       "\n",
       "2                                        OtherJobDuties  \\\n",
       "0                                             Not Asked   \n",
       "1                                             Not Asked   \n",
       "2                                             Not Asked   \n",
       "3                                             Not Asked   \n",
       "4                                             Not Asked   \n",
       "...                                                 ...   \n",
       "6888                                                NaN   \n",
       "6889                                                NaN   \n",
       "6890  DBA (Development Focus - tunes queries, indexe...   \n",
       "6891                                                NaN   \n",
       "6892  DBA (Development Focus - tunes queries, indexe...   \n",
       "\n",
       "2                                 KindsOfTasksPerformed Counter  \n",
       "0                                             Not Asked       1  \n",
       "1                                             Not Asked       1  \n",
       "2                                             Not Asked       1  \n",
       "3                                             Not Asked       1  \n",
       "4                                             Not Asked       1  \n",
       "...                                                 ...     ...  \n",
       "6888            On-call as part of a rotation, Projects       1  \n",
       "6889                                           Projects       1  \n",
       "6890  Manual tasks, Meetings & management, On-call a...       1  \n",
       "6891    Build scripts & automation tools, Projects, R&D       1  \n",
       "6892                                                NaN       1  \n",
       "\n",
       "[6893 rows x 29 columns]"
      ],
      "text/html": "<div>\n<style scoped>\n    .dataframe tbody tr th:only-of-type {\n        vertical-align: middle;\n    }\n\n    .dataframe tbody tr th {\n        vertical-align: top;\n    }\n\n    .dataframe thead th {\n        text-align: right;\n    }\n</style>\n<table border=\"1\" class=\"dataframe\">\n  <thead>\n    <tr style=\"text-align: right;\">\n      <th>2</th>\n      <th>Survey Year</th>\n      <th>Timestamp</th>\n      <th>SalaryUSD</th>\n      <th>Country</th>\n      <th>PostalCode</th>\n      <th>PrimaryDatabase</th>\n      <th>YearsWithThisDatabase</th>\n      <th>OtherDatabases</th>\n      <th>EmploymentStatus</th>\n      <th>JobTitle</th>\n      <th>...</th>\n      <th>HoursWorkedPerWeek</th>\n      <th>TelecommuteDaysPerWeek</th>\n      <th>PopulationOfLargestCityWithin20Miles</th>\n      <th>EmploymentSector</th>\n      <th>LookingForAnotherJob</th>\n      <th>CareerPlansThisYear</th>\n      <th>Gender</th>\n      <th>OtherJobDuties</th>\n      <th>KindsOfTasksPerformed</th>\n      <th>Counter</th>\n    </tr>\n  </thead>\n  <tbody>\n    <tr>\n      <th>0</th>\n      <td>2017</td>\n      <td>1/5/2017 5:10:20</td>\n      <td>200000</td>\n      <td>United States</td>\n      <td>Not Asked</td>\n      <td>Microsoft SQL Server</td>\n      <td>10</td>\n      <td>MySQL/MariaDB</td>\n      <td>Full time employee</td>\n      <td>DBA</td>\n      <td>...</td>\n      <td>45</td>\n      <td>1</td>\n      <td>Not Asked</td>\n      <td>Private business</td>\n      <td>Yes, but only passively (just curious)</td>\n      <td>Not Asked</td>\n      <td>Not Asked</td>\n      <td>Not Asked</td>\n      <td>Not Asked</td>\n      <td>1</td>\n    </tr>\n    <tr>\n      <th>1</th>\n      <td>2017</td>\n      <td>1/5/2017 5:26:23</td>\n      <td>61515</td>\n      <td>United Kingdom</td>\n      <td>Not Asked</td>\n      <td>Microsoft SQL Server</td>\n      <td>15</td>\n      <td>Oracle, PostgreSQL</td>\n      <td>Full time employee</td>\n      <td>DBA</td>\n      <td>...</td>\n      <td>35</td>\n      <td>2</td>\n      <td>Not Asked</td>\n      <td>Private business</td>\n      <td>No</td>\n      <td>Not Asked</td>\n      <td>Not Asked</td>\n      <td>Not Asked</td>\n      <td>Not Asked</td>\n      <td>1</td>\n    </tr>\n    <tr>\n      <th>2</th>\n      <td>2017</td>\n      <td>1/5/2017 5:32:57</td>\n      <td>95000</td>\n      <td>Germany</td>\n      <td>Not Asked</td>\n      <td>Microsoft SQL Server</td>\n      <td>5</td>\n      <td>Oracle, MySQL/MariaDB, Informix</td>\n      <td>Full time employee</td>\n      <td>Other</td>\n      <td>...</td>\n      <td>45</td>\n      <td>None, or less than 1 day per week</td>\n      <td>Not Asked</td>\n      <td>Private business</td>\n      <td>Yes, but only passively (just curious)</td>\n      <td>Not Asked</td>\n      <td>Not Asked</td>\n      <td>Not Asked</td>\n      <td>Not Asked</td>\n      <td>1</td>\n    </tr>\n    <tr>\n      <th>3</th>\n      <td>2017</td>\n      <td>1/5/2017 5:33:03</td>\n      <td>56000</td>\n      <td>United Kingdom</td>\n      <td>Not Asked</td>\n      <td>Microsoft SQL Server</td>\n      <td>6</td>\n      <td>NaN</td>\n      <td>Full time employee</td>\n      <td>DBA</td>\n      <td>...</td>\n      <td>40</td>\n      <td>1</td>\n      <td>Not Asked</td>\n      <td>Private business</td>\n      <td>Yes, but only passively (just curious)</td>\n      <td>Not Asked</td>\n      <td>Not Asked</td>\n      <td>Not Asked</td>\n      <td>Not Asked</td>\n      <td>1</td>\n    </tr>\n    <tr>\n      <th>4</th>\n      <td>2017</td>\n      <td>1/5/2017 5:34:34</td>\n      <td>35000</td>\n      <td>France</td>\n      <td>Not Asked</td>\n      <td>Microsoft SQL Server</td>\n      <td>10</td>\n      <td>Oracle</td>\n      <td>Full time employee of a consulting/contracting...</td>\n      <td>DBA</td>\n      <td>...</td>\n      <td>40</td>\n      <td>None, or less than 1 day per week</td>\n      <td>Not Asked</td>\n      <td>Private business</td>\n      <td>Yes, but only passively (just curious)</td>\n      <td>Not Asked</td>\n      <td>Not Asked</td>\n      <td>Not Asked</td>\n      <td>Not Asked</td>\n      <td>1</td>\n    </tr>\n    <tr>\n      <th>...</th>\n      <td>...</td>\n      <td>...</td>\n      <td>...</td>\n      <td>...</td>\n      <td>...</td>\n      <td>...</td>\n      <td>...</td>\n      <td>...</td>\n      <td>...</td>\n      <td>...</td>\n      <td>...</td>\n      <td>...</td>\n      <td>...</td>\n      <td>...</td>\n      <td>...</td>\n      <td>...</td>\n      <td>...</td>\n      <td>...</td>\n      <td>...</td>\n      <td>...</td>\n      <td>...</td>\n    </tr>\n    <tr>\n      <th>6888</th>\n      <td>2019</td>\n      <td>1/4/2019 6:16:12</td>\n      <td>32000</td>\n      <td>Hungary</td>\n      <td>NaN</td>\n      <td>Microsoft SQL Server</td>\n      <td>3</td>\n      <td>Azure SQL DB, Amazon RDS (any flavor)</td>\n      <td>Full time employee</td>\n      <td>DBA (General - splits time evenly between writ...</td>\n      <td>...</td>\n      <td>40</td>\n      <td>2</td>\n      <td>20K-99K (large town)</td>\n      <td>Private business</td>\n      <td>No</td>\n      <td>Stay with the same employer, same role</td>\n      <td>Male</td>\n      <td>NaN</td>\n      <td>On-call as part of a rotation, Projects</td>\n      <td>1</td>\n    </tr>\n    <tr>\n      <th>6889</th>\n      <td>2019</td>\n      <td>1/4/2019 6:18:47</td>\n      <td>32000</td>\n      <td>Hungary</td>\n      <td>NaN</td>\n      <td>Microsoft SQL Server</td>\n      <td>3</td>\n      <td>Azure SQL DB, Amazon RDS (any flavor)</td>\n      <td>Full time employee</td>\n      <td>DBA (General - splits time evenly between writ...</td>\n      <td>...</td>\n      <td>40</td>\n      <td>2</td>\n      <td>20K-99K (large town)</td>\n      <td>Private business</td>\n      <td>No</td>\n      <td>Stay with the same employer, same role</td>\n      <td>Male</td>\n      <td>NaN</td>\n      <td>Projects</td>\n      <td>1</td>\n    </tr>\n    <tr>\n      <th>6890</th>\n      <td>2019</td>\n      <td>1/4/2019 9:06:06</td>\n      <td>40000</td>\n      <td>Portugal</td>\n      <td>1000</td>\n      <td>Microsoft SQL Server</td>\n      <td>10</td>\n      <td>NaN</td>\n      <td>Full time employee of a consulting/contracting...</td>\n      <td>Developer: App code (C#, JS, etc)</td>\n      <td>...</td>\n      <td>40</td>\n      <td>None, or less than 1 day per week</td>\n      <td>300K-1M (large city)</td>\n      <td>Private business</td>\n      <td>Yes, but only passively (just curious)</td>\n      <td>Stay with the same employer, same role</td>\n      <td>Male</td>\n      <td>DBA (Development Focus - tunes queries, indexe...</td>\n      <td>Manual tasks, Meetings &amp; management, On-call a...</td>\n      <td>1</td>\n    </tr>\n    <tr>\n      <th>6891</th>\n      <td>2019</td>\n      <td>1/4/2019 10:06:25</td>\n      <td>130000</td>\n      <td>United States</td>\n      <td>49506</td>\n      <td>Microsoft SQL Server</td>\n      <td>20</td>\n      <td>NaN</td>\n      <td>Full time employee of a consulting/contracting...</td>\n      <td>DBA (General - splits time evenly between writ...</td>\n      <td>...</td>\n      <td>42</td>\n      <td>None, or less than 1 day per week</td>\n      <td>100K-299K (city)</td>\n      <td>Private business</td>\n      <td>Yes, actively looking for something else</td>\n      <td>Prefer not to say</td>\n      <td>Female</td>\n      <td>NaN</td>\n      <td>Build scripts &amp; automation tools, Projects, R&amp;D</td>\n      <td>1</td>\n    </tr>\n    <tr>\n      <th>6892</th>\n      <td>2019</td>\n      <td>1/5/2019 18:25:22</td>\n      <td>84500</td>\n      <td>Canada</td>\n      <td>N2K 4L5</td>\n      <td>Microsoft SQL Server</td>\n      <td>19</td>\n      <td>NaN</td>\n      <td>Full time employee</td>\n      <td>Architect</td>\n      <td>...</td>\n      <td>40</td>\n      <td>None, or less than 1 day per week</td>\n      <td>300K-1M (large city)</td>\n      <td>Private business</td>\n      <td>Yes, but only passively (just curious)</td>\n      <td>Prefer not to say</td>\n      <td>Male</td>\n      <td>DBA (Development Focus - tunes queries, indexe...</td>\n      <td>NaN</td>\n      <td>1</td>\n    </tr>\n  </tbody>\n</table>\n<p>6893 rows × 29 columns</p>\n</div>"
     },
     "metadata": {},
     "execution_count": 5
    }
   ],
   "source": [
    "salary_survey.columns = salary_survey.iloc[2]\n",
    "salary_survey_cleaned = salary_survey.drop([0,1,2])\n",
    "salary_survey_cleaned.reset_index(drop=True)"
   ]
  },
  {
   "cell_type": "code",
   "execution_count": 6,
   "metadata": {},
   "outputs": [],
   "source": [
    "# Data cleanup for relevant info only. 2017 removed as it has no gender data.\n",
    "\n",
    "us_salary = salary_survey_cleaned[salary_survey_cleaned[\"Country\"]==\"United States\"]\n",
    "us_salary = us_salary[us_salary.JobTitle != \"Other\"]\n",
    "us_salary = us_salary[us_salary.JobTitle != \"Manager\"]\n",
    "us_salary = us_salary[us_salary.JobTitle != \"Consultant\"]\n",
    "us_salary = us_salary[us_salary.JobTitle != \"Sr Consultant\"]\n",
    "us_salary = us_salary[us_salary.JobTitle != \"Analytics consultant\"]\n",
    "us_salary = us_salary[(us_salary[\"Survey Year\"] != \"2017\")]"
   ]
  },
  {
   "cell_type": "code",
   "execution_count": 7,
   "metadata": {},
   "outputs": [
    {
     "output_type": "execute_result",
     "data": {
      "text/plain": [
       "2    Survey Year SalaryUSD                                           JobTitle  \\\n",
       "2901        2018    115000  DBA (General - splits time evenly between writ...   \n",
       "2904        2018     49000  DBA (General - splits time evenly between writ...   \n",
       "2905        2018    156000                                          Architect   \n",
       "2906        2018    105000  DBA (General - splits time evenly between writ...   \n",
       "2907        2018    95,000  DBA (General - splits time evenly between writ...   \n",
       "...          ...       ...                                                ...   \n",
       "6886        2019    101500  DBA (Production Focus - build & troubleshoot s...   \n",
       "6887        2019    107000  DBA (Production Focus - build & troubleshoot s...   \n",
       "6889        2019    132000  DBA (Development Focus - tunes queries, indexe...   \n",
       "6890        2019     58500                                            Analyst   \n",
       "6894        2019    130000  DBA (General - splits time evenly between writ...   \n",
       "\n",
       "2     Gender YearsWithThisTypeOfJob                       EmploymentSector  \n",
       "2901    Male                      1                       Private business  \n",
       "2904    Male                      3                       Private business  \n",
       "2905    Male                      5                       Private business  \n",
       "2906    Male                     20                       Private business  \n",
       "2907    Male                      6  Education (K-12, college, university)  \n",
       "...      ...                    ...                                    ...  \n",
       "6886    Male                      9                       Private business  \n",
       "6887    Male                      8                       Private business  \n",
       "6889    Male                     20                       Private business  \n",
       "6890    Male                      5                       Private business  \n",
       "6894  Female                     17                       Private business  \n",
       "\n",
       "[2407 rows x 6 columns]"
      ],
      "text/html": "<div>\n<style scoped>\n    .dataframe tbody tr th:only-of-type {\n        vertical-align: middle;\n    }\n\n    .dataframe tbody tr th {\n        vertical-align: top;\n    }\n\n    .dataframe thead th {\n        text-align: right;\n    }\n</style>\n<table border=\"1\" class=\"dataframe\">\n  <thead>\n    <tr style=\"text-align: right;\">\n      <th>2</th>\n      <th>Survey Year</th>\n      <th>SalaryUSD</th>\n      <th>JobTitle</th>\n      <th>Gender</th>\n      <th>YearsWithThisTypeOfJob</th>\n      <th>EmploymentSector</th>\n    </tr>\n  </thead>\n  <tbody>\n    <tr>\n      <th>2901</th>\n      <td>2018</td>\n      <td>115000</td>\n      <td>DBA (General - splits time evenly between writ...</td>\n      <td>Male</td>\n      <td>1</td>\n      <td>Private business</td>\n    </tr>\n    <tr>\n      <th>2904</th>\n      <td>2018</td>\n      <td>49000</td>\n      <td>DBA (General - splits time evenly between writ...</td>\n      <td>Male</td>\n      <td>3</td>\n      <td>Private business</td>\n    </tr>\n    <tr>\n      <th>2905</th>\n      <td>2018</td>\n      <td>156000</td>\n      <td>Architect</td>\n      <td>Male</td>\n      <td>5</td>\n      <td>Private business</td>\n    </tr>\n    <tr>\n      <th>2906</th>\n      <td>2018</td>\n      <td>105000</td>\n      <td>DBA (General - splits time evenly between writ...</td>\n      <td>Male</td>\n      <td>20</td>\n      <td>Private business</td>\n    </tr>\n    <tr>\n      <th>2907</th>\n      <td>2018</td>\n      <td>95,000</td>\n      <td>DBA (General - splits time evenly between writ...</td>\n      <td>Male</td>\n      <td>6</td>\n      <td>Education (K-12, college, university)</td>\n    </tr>\n    <tr>\n      <th>...</th>\n      <td>...</td>\n      <td>...</td>\n      <td>...</td>\n      <td>...</td>\n      <td>...</td>\n      <td>...</td>\n    </tr>\n    <tr>\n      <th>6886</th>\n      <td>2019</td>\n      <td>101500</td>\n      <td>DBA (Production Focus - build &amp; troubleshoot s...</td>\n      <td>Male</td>\n      <td>9</td>\n      <td>Private business</td>\n    </tr>\n    <tr>\n      <th>6887</th>\n      <td>2019</td>\n      <td>107000</td>\n      <td>DBA (Production Focus - build &amp; troubleshoot s...</td>\n      <td>Male</td>\n      <td>8</td>\n      <td>Private business</td>\n    </tr>\n    <tr>\n      <th>6889</th>\n      <td>2019</td>\n      <td>132000</td>\n      <td>DBA (Development Focus - tunes queries, indexe...</td>\n      <td>Male</td>\n      <td>20</td>\n      <td>Private business</td>\n    </tr>\n    <tr>\n      <th>6890</th>\n      <td>2019</td>\n      <td>58500</td>\n      <td>Analyst</td>\n      <td>Male</td>\n      <td>5</td>\n      <td>Private business</td>\n    </tr>\n    <tr>\n      <th>6894</th>\n      <td>2019</td>\n      <td>130000</td>\n      <td>DBA (General - splits time evenly between writ...</td>\n      <td>Female</td>\n      <td>17</td>\n      <td>Private business</td>\n    </tr>\n  </tbody>\n</table>\n<p>2407 rows × 6 columns</p>\n</div>"
     },
     "metadata": {},
     "execution_count": 7
    }
   ],
   "source": [
    "# Identify extraneous columns and create new DF with only data needed.\n",
    "us_salary.columns\n",
    "us_salary_cleaned = pd.DataFrame(us_salary[[\"Survey Year\",\"SalaryUSD\",\"JobTitle\",\"Gender\",\"YearsWithThisTypeOfJob\",\"EmploymentSector\"]])\n",
    "us_salary_cleaned"
   ]
  },
  {
   "cell_type": "code",
   "execution_count": 8,
   "metadata": {},
   "outputs": [
    {
     "output_type": "execute_result",
     "data": {
      "text/plain": [
       "['DBA (General - splits time evenly between writing & tuning queries AND building & troubleshooting servers)',\n",
       " 'Architect',\n",
       " 'DBA (Development Focus - tunes queries, indexes, does deployments)',\n",
       " 'Developer: Business Intelligence (SSRS, PowerBI, etc)',\n",
       " 'Engineer',\n",
       " 'Analyst',\n",
       " 'Developer: App code (C#, JS, etc)',\n",
       " 'Developer: T-SQL',\n",
       " 'DBA (Production Focus - build & troubleshoot servers, HA/DR)',\n",
       " 'Data Scientist']"
      ]
     },
     "metadata": {},
     "execution_count": 8
    }
   ],
   "source": [
    "positions = list(us_salary_cleaned[\"JobTitle\"].unique())\n",
    "positions"
   ]
  },
  {
   "cell_type": "code",
   "execution_count": 9,
   "metadata": {},
   "outputs": [],
   "source": [
    "# Standardize job titles for calculations\n",
    "\n",
    "us_salary_cleaned[\"JobTitle\"] = np.where((us_salary_cleaned.JobTitle == \"DBA (General - splits time evenly between writing & tuning queries AND building & troubleshooting servers)\"),\"DBA\",us_salary_cleaned.JobTitle)\n",
    "us_salary_cleaned[\"JobTitle\"] = np.where((us_salary_cleaned.JobTitle == \"DBA (Development Focus - tunes queries, indexes, does deployments)\"),\"DBA\",us_salary_cleaned.JobTitle)\n",
    "us_salary_cleaned[\"JobTitle\"] = np.where((us_salary_cleaned.JobTitle == \"DBA (Production Focus - build & troubleshoot servers, HA/DR)\"), \"DBA\",us_salary_cleaned.JobTitle)\n",
    "us_salary_cleaned[\"JobTitle\"] = np.where((us_salary_cleaned.JobTitle == \"Developer: App code (C#, JS, etc)\"),\"Developer\",us_salary_cleaned.JobTitle)\n",
    "us_salary_cleaned[\"JobTitle\"] = np.where((us_salary_cleaned.JobTitle == \"Developer: T-SQL\"),\"Developer\",us_salary_cleaned.JobTitle)\n",
    "us_salary_cleaned[\"JobTitle\"] = np.where((us_salary_cleaned.JobTitle == \"Developer: Business Intelligence (SSRS, PowerBI, etc)\"),\"Developer\",us_salary_cleaned.JobTitle)\n",
    "\n",
    "# us_salary_cleaned.SalaryUSD = us_salary_cleaned.SalaryUSD.str.replace(r\"[\\,\\'.00'\\$]\",'')\n",
    "# us_salary_cleaned[[\"YearsWithThisTypeOfJob\",\"SalaryUSD\"]].astype(int)"
   ]
  },
  {
   "cell_type": "code",
   "execution_count": 30,
   "metadata": {},
   "outputs": [],
   "source": [
    "us_salary_cleaned = pd.DataFrame(us_salary_cleaned).reset_index(drop=True)"
   ]
  },
  {
   "cell_type": "code",
   "execution_count": 19,
   "metadata": {},
   "outputs": [],
   "source": [
    "salary_list = list(us_salary_cleaned[\"YearsWithThisTypeOfJob\"])"
   ]
  },
  {
   "cell_type": "code",
   "execution_count": 32,
   "metadata": {},
   "outputs": [],
   "source": [
    "bins=[0,5,10,100]\n",
    "labels = [\"Early Career\",\"Growth\",\"Mid Career\"]\n"
   ]
  },
  {
   "cell_type": "code",
   "execution_count": 33,
   "metadata": {},
   "outputs": [
    {
     "output_type": "error",
     "ename": "TypeError",
     "evalue": "'<' not supported between instances of 'int' and 'str'",
     "traceback": [
      "\u001b[1;31m---------------------------------------------------------------------------\u001b[0m",
      "\u001b[1;31mTypeError\u001b[0m                                 Traceback (most recent call last)",
      "\u001b[1;32m<ipython-input-33-320343e95bf2>\u001b[0m in \u001b[0;36m<module>\u001b[1;34m\u001b[0m\n\u001b[1;32m----> 1\u001b[1;33m \u001b[0mus_salary_cleaned\u001b[0m\u001b[1;33m[\u001b[0m\u001b[1;34m\"Bin\"\u001b[0m\u001b[1;33m]\u001b[0m \u001b[1;33m=\u001b[0m \u001b[0mpd\u001b[0m\u001b[1;33m.\u001b[0m\u001b[0mcut\u001b[0m\u001b[1;33m(\u001b[0m\u001b[0mus_salary_cleaned\u001b[0m\u001b[1;33m[\u001b[0m\u001b[1;34m\"YearsWithThisTypeOfJob\"\u001b[0m\u001b[1;33m]\u001b[0m\u001b[1;33m,\u001b[0m\u001b[0mbins\u001b[0m\u001b[1;33m,\u001b[0m\u001b[0mlabels\u001b[0m\u001b[1;33m=\u001b[0m\u001b[0mlabels\u001b[0m\u001b[1;33m,\u001b[0m\u001b[0minclude_lowest\u001b[0m\u001b[1;33m=\u001b[0m\u001b[1;32mTrue\u001b[0m\u001b[1;33m)\u001b[0m\u001b[1;33m\u001b[0m\u001b[1;33m\u001b[0m\u001b[0m\n\u001b[0m",
      "\u001b[1;32m~\\anaconda3\\envs\\PythonData\\lib\\site-packages\\pandas\\core\\reshape\\tile.py\u001b[0m in \u001b[0;36mcut\u001b[1;34m(x, bins, right, labels, retbins, precision, include_lowest, duplicates)\u001b[0m\n\u001b[0;32m    263\u001b[0m         \u001b[0minclude_lowest\u001b[0m\u001b[1;33m=\u001b[0m\u001b[0minclude_lowest\u001b[0m\u001b[1;33m,\u001b[0m\u001b[1;33m\u001b[0m\u001b[1;33m\u001b[0m\u001b[0m\n\u001b[0;32m    264\u001b[0m         \u001b[0mdtype\u001b[0m\u001b[1;33m=\u001b[0m\u001b[0mdtype\u001b[0m\u001b[1;33m,\u001b[0m\u001b[1;33m\u001b[0m\u001b[1;33m\u001b[0m\u001b[0m\n\u001b[1;32m--> 265\u001b[1;33m         \u001b[0mduplicates\u001b[0m\u001b[1;33m=\u001b[0m\u001b[0mduplicates\u001b[0m\u001b[1;33m,\u001b[0m\u001b[1;33m\u001b[0m\u001b[1;33m\u001b[0m\u001b[0m\n\u001b[0m\u001b[0;32m    266\u001b[0m     )\n\u001b[0;32m    267\u001b[0m \u001b[1;33m\u001b[0m\u001b[0m\n",
      "\u001b[1;32m~\\anaconda3\\envs\\PythonData\\lib\\site-packages\\pandas\\core\\reshape\\tile.py\u001b[0m in \u001b[0;36m_bins_to_cuts\u001b[1;34m(x, bins, right, labels, precision, include_lowest, dtype, duplicates)\u001b[0m\n\u001b[0;32m    386\u001b[0m \u001b[1;33m\u001b[0m\u001b[0m\n\u001b[0;32m    387\u001b[0m     \u001b[0mside\u001b[0m \u001b[1;33m=\u001b[0m \u001b[1;34m\"left\"\u001b[0m \u001b[1;32mif\u001b[0m \u001b[0mright\u001b[0m \u001b[1;32melse\u001b[0m \u001b[1;34m\"right\"\u001b[0m\u001b[1;33m\u001b[0m\u001b[1;33m\u001b[0m\u001b[0m\n\u001b[1;32m--> 388\u001b[1;33m     \u001b[0mids\u001b[0m \u001b[1;33m=\u001b[0m \u001b[0mensure_int64\u001b[0m\u001b[1;33m(\u001b[0m\u001b[0mbins\u001b[0m\u001b[1;33m.\u001b[0m\u001b[0msearchsorted\u001b[0m\u001b[1;33m(\u001b[0m\u001b[0mx\u001b[0m\u001b[1;33m,\u001b[0m \u001b[0mside\u001b[0m\u001b[1;33m=\u001b[0m\u001b[0mside\u001b[0m\u001b[1;33m)\u001b[0m\u001b[1;33m)\u001b[0m\u001b[1;33m\u001b[0m\u001b[1;33m\u001b[0m\u001b[0m\n\u001b[0m\u001b[0;32m    389\u001b[0m \u001b[1;33m\u001b[0m\u001b[0m\n\u001b[0;32m    390\u001b[0m     \u001b[1;32mif\u001b[0m \u001b[0minclude_lowest\u001b[0m\u001b[1;33m:\u001b[0m\u001b[1;33m\u001b[0m\u001b[1;33m\u001b[0m\u001b[0m\n",
      "\u001b[1;31mTypeError\u001b[0m: '<' not supported between instances of 'int' and 'str'"
     ]
    }
   ],
   "source": [
    "us_salary_cleaned[\"Bin\"] = pd.cut(us_salary_cleaned[\"YearsWithThisTypeOfJob\"],bins,labels=labels,include_lowest=True)"
   ]
  },
  {
   "cell_type": "code",
   "execution_count": 26,
   "metadata": {},
   "outputs": [
    {
     "output_type": "execute_result",
     "data": {
      "text/plain": [
       "2    Survey Year SalaryUSD   JobTitle  Gender YearsWithThisTypeOfJob  \\\n",
       "2901        2018    115000        DBA    Male                      1   \n",
       "2904        2018     49000        DBA    Male                      3   \n",
       "2905        2018    156000  Architect    Male                      5   \n",
       "2906        2018    105000        DBA    Male                     20   \n",
       "2907        2018    95,000        DBA    Male                      6   \n",
       "...          ...       ...        ...     ...                    ...   \n",
       "6886        2019    101500        DBA    Male                      9   \n",
       "6887        2019    107000        DBA    Male                      8   \n",
       "6889        2019    132000        DBA    Male                     20   \n",
       "6890        2019     58500    Analyst    Male                      5   \n",
       "6894        2019    130000        DBA  Female                     17   \n",
       "\n",
       "2                          EmploymentSector  Bin  \n",
       "2901                       Private business  NaN  \n",
       "2904                       Private business  NaN  \n",
       "2905                       Private business  NaN  \n",
       "2906                       Private business  NaN  \n",
       "2907  Education (K-12, college, university)  NaN  \n",
       "...                                     ...  ...  \n",
       "6886                       Private business  NaN  \n",
       "6887                       Private business  NaN  \n",
       "6889                       Private business  NaN  \n",
       "6890                       Private business  NaN  \n",
       "6894                       Private business  NaN  \n",
       "\n",
       "[2407 rows x 7 columns]"
      ],
      "text/html": "<div>\n<style scoped>\n    .dataframe tbody tr th:only-of-type {\n        vertical-align: middle;\n    }\n\n    .dataframe tbody tr th {\n        vertical-align: top;\n    }\n\n    .dataframe thead th {\n        text-align: right;\n    }\n</style>\n<table border=\"1\" class=\"dataframe\">\n  <thead>\n    <tr style=\"text-align: right;\">\n      <th>2</th>\n      <th>Survey Year</th>\n      <th>SalaryUSD</th>\n      <th>JobTitle</th>\n      <th>Gender</th>\n      <th>YearsWithThisTypeOfJob</th>\n      <th>EmploymentSector</th>\n      <th>Bin</th>\n    </tr>\n  </thead>\n  <tbody>\n    <tr>\n      <th>2901</th>\n      <td>2018</td>\n      <td>115000</td>\n      <td>DBA</td>\n      <td>Male</td>\n      <td>1</td>\n      <td>Private business</td>\n      <td>NaN</td>\n    </tr>\n    <tr>\n      <th>2904</th>\n      <td>2018</td>\n      <td>49000</td>\n      <td>DBA</td>\n      <td>Male</td>\n      <td>3</td>\n      <td>Private business</td>\n      <td>NaN</td>\n    </tr>\n    <tr>\n      <th>2905</th>\n      <td>2018</td>\n      <td>156000</td>\n      <td>Architect</td>\n      <td>Male</td>\n      <td>5</td>\n      <td>Private business</td>\n      <td>NaN</td>\n    </tr>\n    <tr>\n      <th>2906</th>\n      <td>2018</td>\n      <td>105000</td>\n      <td>DBA</td>\n      <td>Male</td>\n      <td>20</td>\n      <td>Private business</td>\n      <td>NaN</td>\n    </tr>\n    <tr>\n      <th>2907</th>\n      <td>2018</td>\n      <td>95,000</td>\n      <td>DBA</td>\n      <td>Male</td>\n      <td>6</td>\n      <td>Education (K-12, college, university)</td>\n      <td>NaN</td>\n    </tr>\n    <tr>\n      <th>...</th>\n      <td>...</td>\n      <td>...</td>\n      <td>...</td>\n      <td>...</td>\n      <td>...</td>\n      <td>...</td>\n      <td>...</td>\n    </tr>\n    <tr>\n      <th>6886</th>\n      <td>2019</td>\n      <td>101500</td>\n      <td>DBA</td>\n      <td>Male</td>\n      <td>9</td>\n      <td>Private business</td>\n      <td>NaN</td>\n    </tr>\n    <tr>\n      <th>6887</th>\n      <td>2019</td>\n      <td>107000</td>\n      <td>DBA</td>\n      <td>Male</td>\n      <td>8</td>\n      <td>Private business</td>\n      <td>NaN</td>\n    </tr>\n    <tr>\n      <th>6889</th>\n      <td>2019</td>\n      <td>132000</td>\n      <td>DBA</td>\n      <td>Male</td>\n      <td>20</td>\n      <td>Private business</td>\n      <td>NaN</td>\n    </tr>\n    <tr>\n      <th>6890</th>\n      <td>2019</td>\n      <td>58500</td>\n      <td>Analyst</td>\n      <td>Male</td>\n      <td>5</td>\n      <td>Private business</td>\n      <td>NaN</td>\n    </tr>\n    <tr>\n      <th>6894</th>\n      <td>2019</td>\n      <td>130000</td>\n      <td>DBA</td>\n      <td>Female</td>\n      <td>17</td>\n      <td>Private business</td>\n      <td>NaN</td>\n    </tr>\n  </tbody>\n</table>\n<p>2407 rows × 7 columns</p>\n</div>"
     },
     "metadata": {},
     "execution_count": 26
    }
   ],
   "source": [
    "us_salary_cleaned"
   ]
  },
  {
   "cell_type": "code",
   "execution_count": null,
   "metadata": {},
   "outputs": [],
   "source": []
  }
 ]
}