{
 "metadata": {
  "language_info": {
   "codemirror_mode": {
    "name": "ipython",
    "version": 3
   },
   "file_extension": ".py",
   "mimetype": "text/x-python",
   "name": "python",
   "nbconvert_exporter": "python",
   "pygments_lexer": "ipython3",
   "version": "3.6.10"
  },
  "orig_nbformat": 4,
  "kernelspec": {
   "name": "python3",
   "display_name": "Python 3.6.10 64-bit ('PythonData': conda)"
  },
  "interpreter": {
   "hash": "03e16bf20b38c5bc3bf00c976c15238982088169e9834c6084af3096887b3e40"
  }
 },
 "nbformat": 4,
 "nbformat_minor": 2,
 "cells": [
  {
   "cell_type": "code",
   "execution_count": 1,
   "metadata": {},
   "outputs": [],
   "source": [
    "# Dependencies and Setup\n",
    "import matplotlib.pyplot as plt\n",
    "import pandas as pd\n",
    "import numpy as np\n",
    "import json"
   ]
  },
  {
   "cell_type": "code",
   "execution_count": 2,
   "metadata": {},
   "outputs": [],
   "source": [
    "# Import code for combined companies data (tech_wages_bycompany.ipynb)\n",
    "tech_salaries = pd.read_csv(\"Data\\Top tech companies comparison 2014_2015.csv\")\n",
    "tech_salaries = pd.DataFrame(tech_salaries)\n",
    "tech_salaries_set = pd.DataFrame(tech_salaries[[\"Employer Name\",\"Early Career Median Pay\",\"Mid-Career Median Pay\",\"Years of Experience\"]])\n",
    "\n",
    "# Remove SpaceX as an incomplete record \n",
    "tech_salaries_set = tech_salaries_set[(tech_salaries_set[\"Employer Name\"] != \"SpaceX\")].reset_index(drop=True)\n",
    "\n",
    "#Format to integers and calculate means of pay categories\n",
    "tech_salaries_set[[\"Early Career Median Pay\",\"Mid-Career Median Pay\"]] = tech_salaries_set[[\"Early Career Median Pay\",\"Mid-Career Median Pay\"]].replace('[\\$\\,\\.]',\"\",regex=True).astype(int)\n",
    "\n",
    "companies = tech_salaries_set.mean()"
   ]
  },
  {
   "cell_type": "code",
   "execution_count": 3,
   "metadata": {},
   "outputs": [],
   "source": [
    "# Load the csv exported in Part I to a DataFrame\n",
    "diversity_df = pd.read_csv(\"Data\\Employee Diversity in Tech.csv\",sep=\"\\t\")\n",
    "tech_salaries = pd.read_csv(\"Data\\Top tech companies comparison 2014_2015.csv\")\n",
    "survey = pd.read_csv(\"Data\\Data_Professional_Salary_Survey_Responses.csv\",encoding='latin1')"
   ]
  },
  {
   "cell_type": "code",
   "execution_count": 4,
   "metadata": {},
   "outputs": [
    {
     "output_type": "execute_result",
     "data": {
      "text/plain": [
       "2    Survey Year          Timestamp SalaryUSD         Country PostalCode  \\\n",
       "0           2017   1/5/2017 5:10:20    200000   United States  Not Asked   \n",
       "1           2017   1/5/2017 5:26:23     61515  United Kingdom  Not Asked   \n",
       "2           2017   1/5/2017 5:32:57     95000         Germany  Not Asked   \n",
       "3           2017   1/5/2017 5:33:03     56000  United Kingdom  Not Asked   \n",
       "4           2017   1/5/2017 5:34:34     35000          France  Not Asked   \n",
       "...          ...                ...       ...             ...        ...   \n",
       "6888        2019   1/4/2019 6:16:12     32000         Hungary        NaN   \n",
       "6889        2019   1/4/2019 6:18:47     32000         Hungary        NaN   \n",
       "6890        2019   1/4/2019 9:06:06     40000        Portugal       1000   \n",
       "6891        2019  1/4/2019 10:06:25    130000   United States      49506   \n",
       "6892        2019  1/5/2019 18:25:22     84500          Canada    N2K 4L5   \n",
       "\n",
       "2          PrimaryDatabase YearsWithThisDatabase  \\\n",
       "0     Microsoft SQL Server                    10   \n",
       "1     Microsoft SQL Server                    15   \n",
       "2     Microsoft SQL Server                     5   \n",
       "3     Microsoft SQL Server                     6   \n",
       "4     Microsoft SQL Server                    10   \n",
       "...                    ...                   ...   \n",
       "6888  Microsoft SQL Server                     3   \n",
       "6889  Microsoft SQL Server                     3   \n",
       "6890  Microsoft SQL Server                    10   \n",
       "6891  Microsoft SQL Server                    20   \n",
       "6892  Microsoft SQL Server                    19   \n",
       "\n",
       "2                            OtherDatabases  \\\n",
       "0                             MySQL/MariaDB   \n",
       "1                        Oracle, PostgreSQL   \n",
       "2           Oracle, MySQL/MariaDB, Informix   \n",
       "3                                       NaN   \n",
       "4                                    Oracle   \n",
       "...                                     ...   \n",
       "6888  Azure SQL DB, Amazon RDS (any flavor)   \n",
       "6889  Azure SQL DB, Amazon RDS (any flavor)   \n",
       "6890                                    NaN   \n",
       "6891                                    NaN   \n",
       "6892                                    NaN   \n",
       "\n",
       "2                                      EmploymentStatus  \\\n",
       "0                                    Full time employee   \n",
       "1                                    Full time employee   \n",
       "2                                    Full time employee   \n",
       "3                                    Full time employee   \n",
       "4     Full time employee of a consulting/contracting...   \n",
       "...                                                 ...   \n",
       "6888                                 Full time employee   \n",
       "6889                                 Full time employee   \n",
       "6890  Full time employee of a consulting/contracting...   \n",
       "6891  Full time employee of a consulting/contracting...   \n",
       "6892                                 Full time employee   \n",
       "\n",
       "2                                              JobTitle  ...  \\\n",
       "0                                                   DBA  ...   \n",
       "1                                                   DBA  ...   \n",
       "2                                                 Other  ...   \n",
       "3                                                   DBA  ...   \n",
       "4                                                   DBA  ...   \n",
       "...                                                 ...  ...   \n",
       "6888  DBA (General - splits time evenly between writ...  ...   \n",
       "6889  DBA (General - splits time evenly between writ...  ...   \n",
       "6890                  Developer: App code (C#, JS, etc)  ...   \n",
       "6891  DBA (General - splits time evenly between writ...  ...   \n",
       "6892                                          Architect  ...   \n",
       "\n",
       "2    HoursWorkedPerWeek             TelecommuteDaysPerWeek  \\\n",
       "0                    45                                  1   \n",
       "1                    35                                  2   \n",
       "2                    45  None, or less than 1 day per week   \n",
       "3                    40                                  1   \n",
       "4                    40  None, or less than 1 day per week   \n",
       "...                 ...                                ...   \n",
       "6888                 40                                  2   \n",
       "6889                 40                                  2   \n",
       "6890                 40  None, or less than 1 day per week   \n",
       "6891                 42  None, or less than 1 day per week   \n",
       "6892                 40  None, or less than 1 day per week   \n",
       "\n",
       "2    PopulationOfLargestCityWithin20Miles  EmploymentSector  \\\n",
       "0                               Not Asked  Private business   \n",
       "1                               Not Asked  Private business   \n",
       "2                               Not Asked  Private business   \n",
       "3                               Not Asked  Private business   \n",
       "4                               Not Asked  Private business   \n",
       "...                                   ...               ...   \n",
       "6888                 20K-99K (large town)  Private business   \n",
       "6889                 20K-99K (large town)  Private business   \n",
       "6890                 300K-1M (large city)  Private business   \n",
       "6891                     100K-299K (city)  Private business   \n",
       "6892                 300K-1M (large city)  Private business   \n",
       "\n",
       "2                         LookingForAnotherJob  \\\n",
       "0       Yes, but only passively (just curious)   \n",
       "1                                           No   \n",
       "2       Yes, but only passively (just curious)   \n",
       "3       Yes, but only passively (just curious)   \n",
       "4       Yes, but only passively (just curious)   \n",
       "...                                        ...   \n",
       "6888                                        No   \n",
       "6889                                        No   \n",
       "6890    Yes, but only passively (just curious)   \n",
       "6891  Yes, actively looking for something else   \n",
       "6892    Yes, but only passively (just curious)   \n",
       "\n",
       "2                        CareerPlansThisYear     Gender  \\\n",
       "0                                  Not Asked  Not Asked   \n",
       "1                                  Not Asked  Not Asked   \n",
       "2                                  Not Asked  Not Asked   \n",
       "3                                  Not Asked  Not Asked   \n",
       "4                                  Not Asked  Not Asked   \n",
       "...                                      ...        ...   \n",
       "6888  Stay with the same employer, same role       Male   \n",
       "6889  Stay with the same employer, same role       Male   \n",
       "6890  Stay with the same employer, same role       Male   \n",
       "6891                       Prefer not to say     Female   \n",
       "6892                       Prefer not to say       Male   \n",
       "\n",
       "2                                        OtherJobDuties  \\\n",
       "0                                             Not Asked   \n",
       "1                                             Not Asked   \n",
       "2                                             Not Asked   \n",
       "3                                             Not Asked   \n",
       "4                                             Not Asked   \n",
       "...                                                 ...   \n",
       "6888                                                NaN   \n",
       "6889                                                NaN   \n",
       "6890  DBA (Development Focus - tunes queries, indexe...   \n",
       "6891                                                NaN   \n",
       "6892  DBA (Development Focus - tunes queries, indexe...   \n",
       "\n",
       "2                                 KindsOfTasksPerformed Counter  \n",
       "0                                             Not Asked       1  \n",
       "1                                             Not Asked       1  \n",
       "2                                             Not Asked       1  \n",
       "3                                             Not Asked       1  \n",
       "4                                             Not Asked       1  \n",
       "...                                                 ...     ...  \n",
       "6888            On-call as part of a rotation, Projects       1  \n",
       "6889                                           Projects       1  \n",
       "6890  Manual tasks, Meetings & management, On-call a...       1  \n",
       "6891    Build scripts & automation tools, Projects, R&D       1  \n",
       "6892                                                NaN       1  \n",
       "\n",
       "[6893 rows x 29 columns]"
      ],
      "text/html": "<div>\n<style scoped>\n    .dataframe tbody tr th:only-of-type {\n        vertical-align: middle;\n    }\n\n    .dataframe tbody tr th {\n        vertical-align: top;\n    }\n\n    .dataframe thead th {\n        text-align: right;\n    }\n</style>\n<table border=\"1\" class=\"dataframe\">\n  <thead>\n    <tr style=\"text-align: right;\">\n      <th>2</th>\n      <th>Survey Year</th>\n      <th>Timestamp</th>\n      <th>SalaryUSD</th>\n      <th>Country</th>\n      <th>PostalCode</th>\n      <th>PrimaryDatabase</th>\n      <th>YearsWithThisDatabase</th>\n      <th>OtherDatabases</th>\n      <th>EmploymentStatus</th>\n      <th>JobTitle</th>\n      <th>...</th>\n      <th>HoursWorkedPerWeek</th>\n      <th>TelecommuteDaysPerWeek</th>\n      <th>PopulationOfLargestCityWithin20Miles</th>\n      <th>EmploymentSector</th>\n      <th>LookingForAnotherJob</th>\n      <th>CareerPlansThisYear</th>\n      <th>Gender</th>\n      <th>OtherJobDuties</th>\n      <th>KindsOfTasksPerformed</th>\n      <th>Counter</th>\n    </tr>\n  </thead>\n  <tbody>\n    <tr>\n      <th>0</th>\n      <td>2017</td>\n      <td>1/5/2017 5:10:20</td>\n      <td>200000</td>\n      <td>United States</td>\n      <td>Not Asked</td>\n      <td>Microsoft SQL Server</td>\n      <td>10</td>\n      <td>MySQL/MariaDB</td>\n      <td>Full time employee</td>\n      <td>DBA</td>\n      <td>...</td>\n      <td>45</td>\n      <td>1</td>\n      <td>Not Asked</td>\n      <td>Private business</td>\n      <td>Yes, but only passively (just curious)</td>\n      <td>Not Asked</td>\n      <td>Not Asked</td>\n      <td>Not Asked</td>\n      <td>Not Asked</td>\n      <td>1</td>\n    </tr>\n    <tr>\n      <th>1</th>\n      <td>2017</td>\n      <td>1/5/2017 5:26:23</td>\n      <td>61515</td>\n      <td>United Kingdom</td>\n      <td>Not Asked</td>\n      <td>Microsoft SQL Server</td>\n      <td>15</td>\n      <td>Oracle, PostgreSQL</td>\n      <td>Full time employee</td>\n      <td>DBA</td>\n      <td>...</td>\n      <td>35</td>\n      <td>2</td>\n      <td>Not Asked</td>\n      <td>Private business</td>\n      <td>No</td>\n      <td>Not Asked</td>\n      <td>Not Asked</td>\n      <td>Not Asked</td>\n      <td>Not Asked</td>\n      <td>1</td>\n    </tr>\n    <tr>\n      <th>2</th>\n      <td>2017</td>\n      <td>1/5/2017 5:32:57</td>\n      <td>95000</td>\n      <td>Germany</td>\n      <td>Not Asked</td>\n      <td>Microsoft SQL Server</td>\n      <td>5</td>\n      <td>Oracle, MySQL/MariaDB, Informix</td>\n      <td>Full time employee</td>\n      <td>Other</td>\n      <td>...</td>\n      <td>45</td>\n      <td>None, or less than 1 day per week</td>\n      <td>Not Asked</td>\n      <td>Private business</td>\n      <td>Yes, but only passively (just curious)</td>\n      <td>Not Asked</td>\n      <td>Not Asked</td>\n      <td>Not Asked</td>\n      <td>Not Asked</td>\n      <td>1</td>\n    </tr>\n    <tr>\n      <th>3</th>\n      <td>2017</td>\n      <td>1/5/2017 5:33:03</td>\n      <td>56000</td>\n      <td>United Kingdom</td>\n      <td>Not Asked</td>\n      <td>Microsoft SQL Server</td>\n      <td>6</td>\n      <td>NaN</td>\n      <td>Full time employee</td>\n      <td>DBA</td>\n      <td>...</td>\n      <td>40</td>\n      <td>1</td>\n      <td>Not Asked</td>\n      <td>Private business</td>\n      <td>Yes, but only passively (just curious)</td>\n      <td>Not Asked</td>\n      <td>Not Asked</td>\n      <td>Not Asked</td>\n      <td>Not Asked</td>\n      <td>1</td>\n    </tr>\n    <tr>\n      <th>4</th>\n      <td>2017</td>\n      <td>1/5/2017 5:34:34</td>\n      <td>35000</td>\n      <td>France</td>\n      <td>Not Asked</td>\n      <td>Microsoft SQL Server</td>\n      <td>10</td>\n      <td>Oracle</td>\n      <td>Full time employee of a consulting/contracting...</td>\n      <td>DBA</td>\n      <td>...</td>\n      <td>40</td>\n      <td>None, or less than 1 day per week</td>\n      <td>Not Asked</td>\n      <td>Private business</td>\n      <td>Yes, but only passively (just curious)</td>\n      <td>Not Asked</td>\n      <td>Not Asked</td>\n      <td>Not Asked</td>\n      <td>Not Asked</td>\n      <td>1</td>\n    </tr>\n    <tr>\n      <th>...</th>\n      <td>...</td>\n      <td>...</td>\n      <td>...</td>\n      <td>...</td>\n      <td>...</td>\n      <td>...</td>\n      <td>...</td>\n      <td>...</td>\n      <td>...</td>\n      <td>...</td>\n      <td>...</td>\n      <td>...</td>\n      <td>...</td>\n      <td>...</td>\n      <td>...</td>\n      <td>...</td>\n      <td>...</td>\n      <td>...</td>\n      <td>...</td>\n      <td>...</td>\n      <td>...</td>\n    </tr>\n    <tr>\n      <th>6888</th>\n      <td>2019</td>\n      <td>1/4/2019 6:16:12</td>\n      <td>32000</td>\n      <td>Hungary</td>\n      <td>NaN</td>\n      <td>Microsoft SQL Server</td>\n      <td>3</td>\n      <td>Azure SQL DB, Amazon RDS (any flavor)</td>\n      <td>Full time employee</td>\n      <td>DBA (General - splits time evenly between writ...</td>\n      <td>...</td>\n      <td>40</td>\n      <td>2</td>\n      <td>20K-99K (large town)</td>\n      <td>Private business</td>\n      <td>No</td>\n      <td>Stay with the same employer, same role</td>\n      <td>Male</td>\n      <td>NaN</td>\n      <td>On-call as part of a rotation, Projects</td>\n      <td>1</td>\n    </tr>\n    <tr>\n      <th>6889</th>\n      <td>2019</td>\n      <td>1/4/2019 6:18:47</td>\n      <td>32000</td>\n      <td>Hungary</td>\n      <td>NaN</td>\n      <td>Microsoft SQL Server</td>\n      <td>3</td>\n      <td>Azure SQL DB, Amazon RDS (any flavor)</td>\n      <td>Full time employee</td>\n      <td>DBA (General - splits time evenly between writ...</td>\n      <td>...</td>\n      <td>40</td>\n      <td>2</td>\n      <td>20K-99K (large town)</td>\n      <td>Private business</td>\n      <td>No</td>\n      <td>Stay with the same employer, same role</td>\n      <td>Male</td>\n      <td>NaN</td>\n      <td>Projects</td>\n      <td>1</td>\n    </tr>\n    <tr>\n      <th>6890</th>\n      <td>2019</td>\n      <td>1/4/2019 9:06:06</td>\n      <td>40000</td>\n      <td>Portugal</td>\n      <td>1000</td>\n      <td>Microsoft SQL Server</td>\n      <td>10</td>\n      <td>NaN</td>\n      <td>Full time employee of a consulting/contracting...</td>\n      <td>Developer: App code (C#, JS, etc)</td>\n      <td>...</td>\n      <td>40</td>\n      <td>None, or less than 1 day per week</td>\n      <td>300K-1M (large city)</td>\n      <td>Private business</td>\n      <td>Yes, but only passively (just curious)</td>\n      <td>Stay with the same employer, same role</td>\n      <td>Male</td>\n      <td>DBA (Development Focus - tunes queries, indexe...</td>\n      <td>Manual tasks, Meetings &amp; management, On-call a...</td>\n      <td>1</td>\n    </tr>\n    <tr>\n      <th>6891</th>\n      <td>2019</td>\n      <td>1/4/2019 10:06:25</td>\n      <td>130000</td>\n      <td>United States</td>\n      <td>49506</td>\n      <td>Microsoft SQL Server</td>\n      <td>20</td>\n      <td>NaN</td>\n      <td>Full time employee of a consulting/contracting...</td>\n      <td>DBA (General - splits time evenly between writ...</td>\n      <td>...</td>\n      <td>42</td>\n      <td>None, or less than 1 day per week</td>\n      <td>100K-299K (city)</td>\n      <td>Private business</td>\n      <td>Yes, actively looking for something else</td>\n      <td>Prefer not to say</td>\n      <td>Female</td>\n      <td>NaN</td>\n      <td>Build scripts &amp; automation tools, Projects, R&amp;D</td>\n      <td>1</td>\n    </tr>\n    <tr>\n      <th>6892</th>\n      <td>2019</td>\n      <td>1/5/2019 18:25:22</td>\n      <td>84500</td>\n      <td>Canada</td>\n      <td>N2K 4L5</td>\n      <td>Microsoft SQL Server</td>\n      <td>19</td>\n      <td>NaN</td>\n      <td>Full time employee</td>\n      <td>Architect</td>\n      <td>...</td>\n      <td>40</td>\n      <td>None, or less than 1 day per week</td>\n      <td>300K-1M (large city)</td>\n      <td>Private business</td>\n      <td>Yes, but only passively (just curious)</td>\n      <td>Prefer not to say</td>\n      <td>Male</td>\n      <td>DBA (Development Focus - tunes queries, indexe...</td>\n      <td>NaN</td>\n      <td>1</td>\n    </tr>\n  </tbody>\n</table>\n<p>6893 rows × 29 columns</p>\n</div>"
     },
     "metadata": {},
     "execution_count": 4
    }
   ],
   "source": [
    "# Reset row 2 as column names, remove empty rows, reset index\n",
    "survey.columns = survey.iloc[2]\n",
    "survey_cleaned = survey.drop([0,1,2])\n",
    "survey_cleaned.reset_index(drop=True)"
   ]
  },
  {
   "cell_type": "code",
   "execution_count": 5,
   "metadata": {},
   "outputs": [],
   "source": [
    "# Data cleanup for relevant info only. 2017 removed for data formatting inconsistencies.\n",
    "\n",
    "us_salary = survey_cleaned[survey_cleaned[\"Country\"]==\"United States\"]\n",
    "us_salary = us_salary[us_salary.JobTitle != \"Other\"]\n",
    "us_salary = us_salary[us_salary.JobTitle != \"Manager\"]\n",
    "us_salary = us_salary[us_salary.JobTitle != \"Consultant\"]\n",
    "us_salary = us_salary[us_salary.JobTitle != \"Sr Consultant\"]\n",
    "us_salary = us_salary[us_salary.JobTitle != \"Analytics consultant\"]\n",
    "us_salary = us_salary[(us_salary[\"Survey Year\"] != \"2017\")]"
   ]
  },
  {
   "cell_type": "code",
   "execution_count": 6,
   "metadata": {},
   "outputs": [],
   "source": [
    "# Create new DF with necessary data only.\n",
    "us_survey_summary = pd.DataFrame(us_salary[[\"SalaryUSD\",\"JobTitle\",\"YearsWithThisTypeOfJob\"]])"
   ]
  },
  {
   "cell_type": "code",
   "execution_count": 7,
   "metadata": {},
   "outputs": [],
   "source": [
    "# Standardize job titles for calculations\n",
    "\n",
    "us_survey_summary[\"JobTitle\"] = np.where((us_survey_summary.JobTitle == \"DBA (General - splits time evenly between writing & tuning queries AND building & troubleshooting servers)\"),\"DBA\",us_survey_summary.JobTitle)\n",
    "us_survey_summary[\"JobTitle\"] = np.where((us_survey_summary.JobTitle == \"DBA (Development Focus - tunes queries, indexes, does deployments)\"),\"DBA\",us_survey_summary.JobTitle)\n",
    "us_survey_summary[\"JobTitle\"] = np.where((us_survey_summary.JobTitle == \"DBA (Production Focus - build & troubleshoot servers, HA/DR)\"), \"DBA\",us_survey_summary.JobTitle)\n",
    "us_survey_summary[\"JobTitle\"] = np.where((us_survey_summary.JobTitle == \"Developer: App code (C#, JS, etc)\"),\"Developer\",us_survey_summary.JobTitle)\n",
    "us_survey_summary[\"JobTitle\"] = np.where((us_survey_summary.JobTitle == \"Developer: T-SQL\"),\"Developer\",us_survey_summary.JobTitle)\n",
    "us_survey_summary[\"JobTitle\"] = np.where((us_survey_summary.JobTitle == \"Developer: Business Intelligence (SSRS, PowerBI, etc)\"),\"Developer\",us_survey_summary.JobTitle)"
   ]
  },
  {
   "cell_type": "code",
   "execution_count": 8,
   "metadata": {},
   "outputs": [
    {
     "output_type": "execute_result",
     "data": {
      "text/plain": [
       "['DBA', 'Architect', 'Developer', 'Engineer', 'Analyst', 'Data Scientist']"
      ]
     },
     "metadata": {},
     "execution_count": 8
    }
   ],
   "source": [
    "# Confirm list of unique job titles.\n",
    "positions = list(us_survey_summary[\"JobTitle\"].unique())\n",
    "positions"
   ]
  },
  {
   "cell_type": "code",
   "execution_count": 9,
   "metadata": {},
   "outputs": [],
   "source": [
    "# Prep data for salary categorization\n",
    "us_survey2 = pd.DataFrame(us_survey_summary).reset_index(drop=True)\n",
    "cond_data = us_survey2[\"YearsWithThisTypeOfJob\"].astype(int)"
   ]
  },
  {
   "cell_type": "code",
   "execution_count": 10,
   "metadata": {},
   "outputs": [],
   "source": [
    "# Binning years of experience to match \"overall companies\" data calculations\n",
    "bins=[0,5,10,100]\n",
    "labels = [\"Early Career Median Pay\",\"Growth\",\"Mid-Career Median Pay\"]\n",
    "us_survey2[\"JobTier\"] = pd.cut((cond_data),bins=bins,labels=labels,include_lowest=True)\n",
    "us_survey2 = us_survey2[us_survey2['JobTier'] != \"Growth\"]"
   ]
  },
  {
   "cell_type": "code",
   "execution_count": 11,
   "metadata": {},
   "outputs": [
    {
     "output_type": "execute_result",
     "data": {
      "text/plain": [
       "2    SalaryUSD   JobTitle YearsWithThisTypeOfJob                  JobTier\n",
       "0       115000        DBA                      1  Early Career Median Pay\n",
       "1        49000        DBA                      3  Early Career Median Pay\n",
       "2       156000  Architect                      5  Early Career Median Pay\n",
       "3       105000        DBA                     20    Mid-Career Median Pay\n",
       "5       105000        DBA                      2  Early Career Median Pay\n",
       "...        ...        ...                    ...                      ...\n",
       "2399     96000  Developer                     12    Mid-Career Median Pay\n",
       "2400    105000        DBA                     15    Mid-Career Median Pay\n",
       "2404    132000        DBA                     20    Mid-Career Median Pay\n",
       "2405     58500    Analyst                      5  Early Career Median Pay\n",
       "2406    130000        DBA                     17    Mid-Career Median Pay\n",
       "\n",
       "[1843 rows x 4 columns]"
      ],
      "text/html": "<div>\n<style scoped>\n    .dataframe tbody tr th:only-of-type {\n        vertical-align: middle;\n    }\n\n    .dataframe tbody tr th {\n        vertical-align: top;\n    }\n\n    .dataframe thead th {\n        text-align: right;\n    }\n</style>\n<table border=\"1\" class=\"dataframe\">\n  <thead>\n    <tr style=\"text-align: right;\">\n      <th>2</th>\n      <th>SalaryUSD</th>\n      <th>JobTitle</th>\n      <th>YearsWithThisTypeOfJob</th>\n      <th>JobTier</th>\n    </tr>\n  </thead>\n  <tbody>\n    <tr>\n      <th>0</th>\n      <td>115000</td>\n      <td>DBA</td>\n      <td>1</td>\n      <td>Early Career Median Pay</td>\n    </tr>\n    <tr>\n      <th>1</th>\n      <td>49000</td>\n      <td>DBA</td>\n      <td>3</td>\n      <td>Early Career Median Pay</td>\n    </tr>\n    <tr>\n      <th>2</th>\n      <td>156000</td>\n      <td>Architect</td>\n      <td>5</td>\n      <td>Early Career Median Pay</td>\n    </tr>\n    <tr>\n      <th>3</th>\n      <td>105000</td>\n      <td>DBA</td>\n      <td>20</td>\n      <td>Mid-Career Median Pay</td>\n    </tr>\n    <tr>\n      <th>5</th>\n      <td>105000</td>\n      <td>DBA</td>\n      <td>2</td>\n      <td>Early Career Median Pay</td>\n    </tr>\n    <tr>\n      <th>...</th>\n      <td>...</td>\n      <td>...</td>\n      <td>...</td>\n      <td>...</td>\n    </tr>\n    <tr>\n      <th>2399</th>\n      <td>96000</td>\n      <td>Developer</td>\n      <td>12</td>\n      <td>Mid-Career Median Pay</td>\n    </tr>\n    <tr>\n      <th>2400</th>\n      <td>105000</td>\n      <td>DBA</td>\n      <td>15</td>\n      <td>Mid-Career Median Pay</td>\n    </tr>\n    <tr>\n      <th>2404</th>\n      <td>132000</td>\n      <td>DBA</td>\n      <td>20</td>\n      <td>Mid-Career Median Pay</td>\n    </tr>\n    <tr>\n      <th>2405</th>\n      <td>58500</td>\n      <td>Analyst</td>\n      <td>5</td>\n      <td>Early Career Median Pay</td>\n    </tr>\n    <tr>\n      <th>2406</th>\n      <td>130000</td>\n      <td>DBA</td>\n      <td>17</td>\n      <td>Mid-Career Median Pay</td>\n    </tr>\n  </tbody>\n</table>\n<p>1843 rows × 4 columns</p>\n</div>"
     },
     "metadata": {},
     "execution_count": 11
    }
   ],
   "source": [
    "us_survey2"
   ]
  },
  {
   "cell_type": "code",
   "execution_count": 12,
   "metadata": {},
   "outputs": [],
   "source": [
    "# Standardize salary columns and re-format to integers for calculations.\n",
    "us_survey2[\"SalaryUSD\"] = us_survey2[\"SalaryUSD\"].replace({'\\$': '', ',': '',\" \":\"\"}, regex=True)\n",
    "salaryedit = us_survey2[\"SalaryUSD\"].astype(float)\n",
    "salaryedit = salaryedit.astype(int)"
   ]
  },
  {
   "cell_type": "code",
   "execution_count": 13,
   "metadata": {},
   "outputs": [],
   "source": [
    "    us_survey_final = us_survey2.groupby(\"JobTitle\")"
   ]
  },
  {
   "cell_type": "code",
   "execution_count": 14,
   "metadata": {},
   "outputs": [],
   "source": [
    "# Data Structure Organization\n",
    "\n",
    "survey_formatted = pd.DataFrame(\n",
    "    {\"JobTier\":us_survey2[\"JobTier\"],\n",
    "    \"JobTitle\":us_survey2[\"JobTitle\"],\n",
    "    \"Salary\":salaryedit})\n",
    "\n",
    "groupings = dict(tuple(survey_formatted.groupby(\"JobTitle\")))"
   ]
  },
  {
   "cell_type": "code",
   "execution_count": 15,
   "metadata": {},
   "outputs": [],
   "source": [
    "# Break job titles out into separate dataframes\n",
    "\n",
    "analyst_df = pd.DataFrame(groupings[\"Analyst\"])\n",
    "architect_df = pd.DataFrame(groupings[\"Architect\"])\n",
    "dba_df = pd.DataFrame(groupings[\"DBA\"])\n",
    "data_sci_df = pd.DataFrame(groupings[\"Data Scientist\"])\n",
    "developer_df = pd.DataFrame(groupings[\"Developer\"])\n",
    "engineer_df = pd.DataFrame(groupings[\"Engineer\"])"
   ]
  },
  {
   "cell_type": "code",
   "execution_count": 16,
   "metadata": {},
   "outputs": [],
   "source": [
    "# Calculate means of salaries by job level and years of experience categorization.\n",
    "engineer = engineer_df.groupby(\"JobTier\").mean()\n",
    "developer = developer_df.groupby(\"JobTier\").mean()\n",
    "data_sci = data_sci_df.groupby(\"JobTier\").mean()\n",
    "dba = dba_df.groupby(\"JobTier\").mean()\n",
    "architect = architect_df.groupby(\"JobTier\").mean()\n",
    "analyst = analyst_df.groupby(\"JobTier\").mean()\n",
    "salary_array = [companies,engineer,developer,data_sci,dba,architect,analyst]\n"
   ]
  },
  {
   "cell_type": "code",
   "execution_count": 17,
   "metadata": {},
   "outputs": [
    {
     "output_type": "execute_result",
     "data": {
      "text/plain": [
       "                               Overall       Engineer      Developer  \\\n",
       "Early Career Median Pay   88035.294118  118520.106061   95617.517964   \n",
       "Mid-Career Median Pay    135876.470588  126119.166667  123749.482270   \n",
       "\n",
       "                         Data Scientist           DBA      Architect  \\\n",
       "Early Career Median Pay    98900.000000  101322.78012  126446.057692   \n",
       "Mid-Career Median Pay     126833.333333  113822.22082  145780.188679   \n",
       "\n",
       "                              Analyst  \n",
       "Early Career Median Pay  75445.394737  \n",
       "Mid-Career Median Pay    89555.578947  "
      ],
      "text/html": "<div>\n<style scoped>\n    .dataframe tbody tr th:only-of-type {\n        vertical-align: middle;\n    }\n\n    .dataframe tbody tr th {\n        vertical-align: top;\n    }\n\n    .dataframe thead th {\n        text-align: right;\n    }\n</style>\n<table border=\"1\" class=\"dataframe\">\n  <thead>\n    <tr style=\"text-align: right;\">\n      <th></th>\n      <th>Overall</th>\n      <th>Engineer</th>\n      <th>Developer</th>\n      <th>Data Scientist</th>\n      <th>DBA</th>\n      <th>Architect</th>\n      <th>Analyst</th>\n    </tr>\n  </thead>\n  <tbody>\n    <tr>\n      <th>Early Career Median Pay</th>\n      <td>88035.294118</td>\n      <td>118520.106061</td>\n      <td>95617.517964</td>\n      <td>98900.000000</td>\n      <td>101322.78012</td>\n      <td>126446.057692</td>\n      <td>75445.394737</td>\n    </tr>\n    <tr>\n      <th>Mid-Career Median Pay</th>\n      <td>135876.470588</td>\n      <td>126119.166667</td>\n      <td>123749.482270</td>\n      <td>126833.333333</td>\n      <td>113822.22082</td>\n      <td>145780.188679</td>\n      <td>89555.578947</td>\n    </tr>\n  </tbody>\n</table>\n</div>"
     },
     "metadata": {},
     "execution_count": 17
    }
   ],
   "source": [
    "# Combine all job dataframes into one summary dataframe, rename columns for charting\n",
    "salaries_summary = pd.concat(salary_array,axis=1,ignore_index=True)\n",
    "# salaries_summary\n",
    "salaries_summary_df = pd.DataFrame(salaries_summary).dropna()\n",
    "# salaries_summary_df.melt()\n",
    "sal_rename = salaries_summary_df.rename({0:\"Overall\",1:\"Engineer\",2:\"Developer\",3:\"Data Scientist\",4:\"DBA\",5:\"Architect\",6:\"Analyst\"},axis='columns')\n",
    "\n",
    "sal_rename\n"
   ]
  },
  {
   "cell_type": "code",
   "execution_count": 18,
   "metadata": {},
   "outputs": [
    {
     "output_type": "execute_result",
     "data": {
      "text/plain": [
       "         Overall       Engineer      Developer  Data Scientist           DBA  \\\n",
       "0   88035.294118  118520.106061   95617.517964    98900.000000  101322.78012   \n",
       "1  135876.470588  126119.166667  123749.482270   126833.333333  113822.22082   \n",
       "\n",
       "       Architect       Analyst  \n",
       "0  126446.057692  75445.394737  \n",
       "1  145780.188679  89555.578947  "
      ],
      "text/html": "<div>\n<style scoped>\n    .dataframe tbody tr th:only-of-type {\n        vertical-align: middle;\n    }\n\n    .dataframe tbody tr th {\n        vertical-align: top;\n    }\n\n    .dataframe thead th {\n        text-align: right;\n    }\n</style>\n<table border=\"1\" class=\"dataframe\">\n  <thead>\n    <tr style=\"text-align: right;\">\n      <th></th>\n      <th>Overall</th>\n      <th>Engineer</th>\n      <th>Developer</th>\n      <th>Data Scientist</th>\n      <th>DBA</th>\n      <th>Architect</th>\n      <th>Analyst</th>\n    </tr>\n  </thead>\n  <tbody>\n    <tr>\n      <th>0</th>\n      <td>88035.294118</td>\n      <td>118520.106061</td>\n      <td>95617.517964</td>\n      <td>98900.000000</td>\n      <td>101322.78012</td>\n      <td>126446.057692</td>\n      <td>75445.394737</td>\n    </tr>\n    <tr>\n      <th>1</th>\n      <td>135876.470588</td>\n      <td>126119.166667</td>\n      <td>123749.482270</td>\n      <td>126833.333333</td>\n      <td>113822.22082</td>\n      <td>145780.188679</td>\n      <td>89555.578947</td>\n    </tr>\n  </tbody>\n</table>\n</div>"
     },
     "metadata": {},
     "execution_count": 18
    }
   ],
   "source": [
    "sal_rename = pd.DataFrame(sal_rename).reset_index(drop=True)\n",
    "sal_rename"
   ]
  },
  {
   "cell_type": "code",
   "execution_count": 28,
   "metadata": {},
   "outputs": [
    {
     "output_type": "execute_result",
     "data": {
      "text/plain": [
       "        Job Title  Early Career Median Pay  Mid-Career Median Pay\n",
       "0         Overall             88035.294118          135876.470588\n",
       "1        Engineer            118520.106061          126119.166667\n",
       "2       Developer             95617.517964          123749.482270\n",
       "3  Data Scientist             98900.000000          126833.333333\n",
       "4             DBA            101322.780120          113822.220820\n",
       "5       Architect            126446.057692          145780.188679\n",
       "6         Analyst             75445.394737           89555.578947"
      ],
      "text/html": "<div>\n<style scoped>\n    .dataframe tbody tr th:only-of-type {\n        vertical-align: middle;\n    }\n\n    .dataframe tbody tr th {\n        vertical-align: top;\n    }\n\n    .dataframe thead th {\n        text-align: right;\n    }\n</style>\n<table border=\"1\" class=\"dataframe\">\n  <thead>\n    <tr style=\"text-align: right;\">\n      <th></th>\n      <th>Job Title</th>\n      <th>Early Career Median Pay</th>\n      <th>Mid-Career Median Pay</th>\n    </tr>\n  </thead>\n  <tbody>\n    <tr>\n      <th>0</th>\n      <td>Overall</td>\n      <td>88035.294118</td>\n      <td>135876.470588</td>\n    </tr>\n    <tr>\n      <th>1</th>\n      <td>Engineer</td>\n      <td>118520.106061</td>\n      <td>126119.166667</td>\n    </tr>\n    <tr>\n      <th>2</th>\n      <td>Developer</td>\n      <td>95617.517964</td>\n      <td>123749.482270</td>\n    </tr>\n    <tr>\n      <th>3</th>\n      <td>Data Scientist</td>\n      <td>98900.000000</td>\n      <td>126833.333333</td>\n    </tr>\n    <tr>\n      <th>4</th>\n      <td>DBA</td>\n      <td>101322.780120</td>\n      <td>113822.220820</td>\n    </tr>\n    <tr>\n      <th>5</th>\n      <td>Architect</td>\n      <td>126446.057692</td>\n      <td>145780.188679</td>\n    </tr>\n    <tr>\n      <th>6</th>\n      <td>Analyst</td>\n      <td>75445.394737</td>\n      <td>89555.578947</td>\n    </tr>\n  </tbody>\n</table>\n</div>"
     },
     "metadata": {},
     "execution_count": 28
    }
   ],
   "source": [
    "salary_pivot = sal_rename.transpose().reset_index()\n",
    "salary_pivot = salary_pivot.rename({\"index\":\"Job Title\",0:\"Early Career Median Pay\",1:\"Mid-Career Median Pay\"},axis='columns')\n",
    "salary_pivot"
   ]
  },
  {
   "cell_type": "code",
   "execution_count": 29,
   "metadata": {},
   "outputs": [
    {
     "output_type": "display_data",
     "data": {
      "text/plain": "<Figure size 432x864 with 1 Axes>",
      "image/svg+xml": "<?xml version=\"1.0\" encoding=\"utf-8\" standalone=\"no\"?>\r\n<!DOCTYPE svg PUBLIC \"-//W3C//DTD SVG 1.1//EN\"\r\n  \"http://www.w3.org/Graphics/SVG/1.1/DTD/svg11.dtd\">\r\n<!-- Created with matplotlib (https://matplotlib.org/) -->\r\n<svg height=\"712.194375pt\" version=\"1.1\" viewBox=\"0 0 426.198438 712.194375\" width=\"426.198438pt\" xmlns=\"http://www.w3.org/2000/svg\" xmlns:xlink=\"http://www.w3.org/1999/xlink\">\r\n <defs>\r\n  <style type=\"text/css\">\r\n*{stroke-linecap:butt;stroke-linejoin:round;}\r\n  </style>\r\n </defs>\r\n <g id=\"figure_1\">\r\n  <g id=\"patch_1\">\r\n   <path d=\"M 0 712.194375 \r\nL 426.198438 712.194375 \r\nL 426.198438 0 \r\nL 0 0 \r\nz\r\n\" style=\"fill:none;\"/>\r\n  </g>\r\n  <g id=\"axes_1\">\r\n   <g id=\"patch_2\">\r\n    <path d=\"M 84.198438 674.638125 \r\nL 418.998438 674.638125 \r\nL 418.998438 22.318125 \r\nL 84.198438 22.318125 \r\nz\r\n\" style=\"fill:#ffffff;\"/>\r\n   </g>\r\n   <g id=\"patch_3\">\r\n    <path clip-path=\"url(#p909f25b0fd)\" d=\"M 84.198438 644.987216 \r\nL 187.313706 644.987216 \r\nL 187.313706 575.220371 \r\nL 84.198438 575.220371 \r\nz\r\n\" style=\"fill:#5f9ea0;\"/>\r\n   </g>\r\n   <g id=\"patch_4\">\r\n    <path clip-path=\"url(#p909f25b0fd)\" d=\"M 84.198438 557.77866 \r\nL 223.020402 557.77866 \r\nL 223.020402 488.011815 \r\nL 84.198438 488.011815 \r\nz\r\n\" style=\"fill:#5f9ea0;\"/>\r\n   </g>\r\n   <g id=\"patch_5\">\r\n    <path clip-path=\"url(#p909f25b0fd)\" d=\"M 84.198438 470.570104 \r\nL 196.194724 470.570104 \r\nL 196.194724 400.803259 \r\nL 84.198438 400.803259 \r\nz\r\n\" style=\"fill:#5f9ea0;\"/>\r\n   </g>\r\n   <g id=\"patch_6\">\r\n    <path clip-path=\"url(#p909f25b0fd)\" d=\"M 84.198438 383.361547 \r\nL 200.039477 383.361547 \r\nL 200.039477 313.594703 \r\nL 84.198438 313.594703 \r\nz\r\n\" style=\"fill:#5f9ea0;\"/>\r\n   </g>\r\n   <g id=\"patch_7\">\r\n    <path clip-path=\"url(#p909f25b0fd)\" d=\"M 84.198438 296.152991 \r\nL 202.877267 296.152991 \r\nL 202.877267 226.386146 \r\nL 84.198438 226.386146 \r\nz\r\n\" style=\"fill:#5f9ea0;\"/>\r\n   </g>\r\n   <g id=\"patch_8\">\r\n    <path clip-path=\"url(#p909f25b0fd)\" d=\"M 84.198438 208.944435 \r\nL 232.304027 208.944435 \r\nL 232.304027 139.17759 \r\nL 84.198438 139.17759 \r\nz\r\n\" style=\"fill:#5f9ea0;\"/>\r\n   </g>\r\n   <g id=\"patch_9\">\r\n    <path clip-path=\"url(#p909f25b0fd)\" d=\"M 84.198438 121.735879 \r\nL 172.567224 121.735879 \r\nL 172.567224 51.969034 \r\nL 84.198438 51.969034 \r\nz\r\n\" style=\"fill:#5f9ea0;\"/>\r\n   </g>\r\n   <g id=\"patch_10\">\r\n    <path clip-path=\"url(#p909f25b0fd)\" d=\"M 187.313706 644.987216 \r\nL 346.465087 644.987216 \r\nL 346.465087 575.220371 \r\nL 187.313706 575.220371 \r\nz\r\n\" style=\"fill:#000080;\"/>\r\n   </g>\r\n   <g id=\"patch_11\">\r\n    <path clip-path=\"url(#p909f25b0fd)\" d=\"M 223.020402 557.77866 \r\nL 370.743106 557.77866 \r\nL 370.743106 488.011815 \r\nL 223.020402 488.011815 \r\nz\r\n\" style=\"fill:#000080;\"/>\r\n   </g>\r\n   <g id=\"patch_12\">\r\n    <path clip-path=\"url(#p909f25b0fd)\" d=\"M 196.194724 470.570104 \r\nL 341.141829 470.570104 \r\nL 341.141829 400.803259 \r\nL 196.194724 400.803259 \r\nz\r\n\" style=\"fill:#000080;\"/>\r\n   </g>\r\n   <g id=\"patch_13\">\r\n    <path clip-path=\"url(#p909f25b0fd)\" d=\"M 200.039477 383.361547 \r\nL 348.598681 383.361547 \r\nL 348.598681 313.594703 \r\nL 200.039477 313.594703 \r\nz\r\n\" style=\"fill:#000080;\"/>\r\n   </g>\r\n   <g id=\"patch_14\">\r\n    <path clip-path=\"url(#p909f25b0fd)\" d=\"M 202.877267 296.152991 \r\nL 336.196624 296.152991 \r\nL 336.196624 226.386146 \r\nL 202.877267 226.386146 \r\nz\r\n\" style=\"fill:#000080;\"/>\r\n   </g>\r\n   <g id=\"patch_15\">\r\n    <path clip-path=\"url(#p909f25b0fd)\" d=\"M 232.304027 208.944435 \r\nL 403.05558 208.944435 \r\nL 403.05558 139.17759 \r\nL 232.304027 139.17759 \r\nz\r\n\" style=\"fill:#000080;\"/>\r\n   </g>\r\n   <g id=\"patch_16\">\r\n    <path clip-path=\"url(#p909f25b0fd)\" d=\"M 172.567224 121.735879 \r\nL 277.463193 121.735879 \r\nL 277.463193 51.969034 \r\nL 172.567224 51.969034 \r\nz\r\n\" style=\"fill:#000080;\"/>\r\n   </g>\r\n   <g id=\"matplotlib.axis_1\">\r\n    <g id=\"xtick_1\">\r\n     <g id=\"line2d_1\">\r\n      <defs>\r\n       <path d=\"M 0 0 \r\nL 0 3.5 \r\n\" id=\"m055925cf51\" style=\"stroke:#000000;stroke-width:0.8;\"/>\r\n      </defs>\r\n      <g>\r\n       <use style=\"stroke:#000000;stroke-width:0.8;\" x=\"84.198438\" xlink:href=\"#m055925cf51\" y=\"674.638125\"/>\r\n      </g>\r\n     </g>\r\n     <g id=\"text_1\">\r\n      <!-- 0 -->\r\n      <defs>\r\n       <path d=\"M 31.78125 66.40625 \r\nQ 24.171875 66.40625 20.328125 58.90625 \r\nQ 16.5 51.421875 16.5 36.375 \r\nQ 16.5 21.390625 20.328125 13.890625 \r\nQ 24.171875 6.390625 31.78125 6.390625 \r\nQ 39.453125 6.390625 43.28125 13.890625 \r\nQ 47.125 21.390625 47.125 36.375 \r\nQ 47.125 51.421875 43.28125 58.90625 \r\nQ 39.453125 66.40625 31.78125 66.40625 \r\nz\r\nM 31.78125 74.21875 \r\nQ 44.046875 74.21875 50.515625 64.515625 \r\nQ 56.984375 54.828125 56.984375 36.375 \r\nQ 56.984375 17.96875 50.515625 8.265625 \r\nQ 44.046875 -1.421875 31.78125 -1.421875 \r\nQ 19.53125 -1.421875 13.0625 8.265625 \r\nQ 6.59375 17.96875 6.59375 36.375 \r\nQ 6.59375 54.828125 13.0625 64.515625 \r\nQ 19.53125 74.21875 31.78125 74.21875 \r\nz\r\n\" id=\"DejaVuSans-48\"/>\r\n      </defs>\r\n      <g transform=\"translate(81.017188 689.236562)scale(0.1 -0.1)\">\r\n       <use xlink:href=\"#DejaVuSans-48\"/>\r\n      </g>\r\n     </g>\r\n    </g>\r\n    <g id=\"xtick_2\">\r\n     <g id=\"line2d_2\">\r\n      <g>\r\n       <use style=\"stroke:#000000;stroke-width:0.8;\" x=\"142.763169\" xlink:href=\"#m055925cf51\" y=\"674.638125\"/>\r\n      </g>\r\n     </g>\r\n     <g id=\"text_2\">\r\n      <!-- 50000 -->\r\n      <defs>\r\n       <path d=\"M 10.796875 72.90625 \r\nL 49.515625 72.90625 \r\nL 49.515625 64.59375 \r\nL 19.828125 64.59375 \r\nL 19.828125 46.734375 \r\nQ 21.96875 47.46875 24.109375 47.828125 \r\nQ 26.265625 48.1875 28.421875 48.1875 \r\nQ 40.625 48.1875 47.75 41.5 \r\nQ 54.890625 34.8125 54.890625 23.390625 \r\nQ 54.890625 11.625 47.5625 5.09375 \r\nQ 40.234375 -1.421875 26.90625 -1.421875 \r\nQ 22.3125 -1.421875 17.546875 -0.640625 \r\nQ 12.796875 0.140625 7.71875 1.703125 \r\nL 7.71875 11.625 \r\nQ 12.109375 9.234375 16.796875 8.0625 \r\nQ 21.484375 6.890625 26.703125 6.890625 \r\nQ 35.15625 6.890625 40.078125 11.328125 \r\nQ 45.015625 15.765625 45.015625 23.390625 \r\nQ 45.015625 31 40.078125 35.4375 \r\nQ 35.15625 39.890625 26.703125 39.890625 \r\nQ 22.75 39.890625 18.8125 39.015625 \r\nQ 14.890625 38.140625 10.796875 36.28125 \r\nz\r\n\" id=\"DejaVuSans-53\"/>\r\n      </defs>\r\n      <g transform=\"translate(126.856919 689.236562)scale(0.1 -0.1)\">\r\n       <use xlink:href=\"#DejaVuSans-53\"/>\r\n       <use x=\"63.623047\" xlink:href=\"#DejaVuSans-48\"/>\r\n       <use x=\"127.246094\" xlink:href=\"#DejaVuSans-48\"/>\r\n       <use x=\"190.869141\" xlink:href=\"#DejaVuSans-48\"/>\r\n       <use x=\"254.492188\" xlink:href=\"#DejaVuSans-48\"/>\r\n      </g>\r\n     </g>\r\n    </g>\r\n    <g id=\"xtick_3\">\r\n     <g id=\"line2d_3\">\r\n      <g>\r\n       <use style=\"stroke:#000000;stroke-width:0.8;\" x=\"201.327901\" xlink:href=\"#m055925cf51\" y=\"674.638125\"/>\r\n      </g>\r\n     </g>\r\n     <g id=\"text_3\">\r\n      <!-- 100000 -->\r\n      <defs>\r\n       <path d=\"M 12.40625 8.296875 \r\nL 28.515625 8.296875 \r\nL 28.515625 63.921875 \r\nL 10.984375 60.40625 \r\nL 10.984375 69.390625 \r\nL 28.421875 72.90625 \r\nL 38.28125 72.90625 \r\nL 38.28125 8.296875 \r\nL 54.390625 8.296875 \r\nL 54.390625 0 \r\nL 12.40625 0 \r\nz\r\n\" id=\"DejaVuSans-49\"/>\r\n      </defs>\r\n      <g transform=\"translate(182.240401 689.236562)scale(0.1 -0.1)\">\r\n       <use xlink:href=\"#DejaVuSans-49\"/>\r\n       <use x=\"63.623047\" xlink:href=\"#DejaVuSans-48\"/>\r\n       <use x=\"127.246094\" xlink:href=\"#DejaVuSans-48\"/>\r\n       <use x=\"190.869141\" xlink:href=\"#DejaVuSans-48\"/>\r\n       <use x=\"254.492188\" xlink:href=\"#DejaVuSans-48\"/>\r\n       <use x=\"318.115234\" xlink:href=\"#DejaVuSans-48\"/>\r\n      </g>\r\n     </g>\r\n    </g>\r\n    <g id=\"xtick_4\">\r\n     <g id=\"line2d_4\">\r\n      <g>\r\n       <use style=\"stroke:#000000;stroke-width:0.8;\" x=\"259.892633\" xlink:href=\"#m055925cf51\" y=\"674.638125\"/>\r\n      </g>\r\n     </g>\r\n     <g id=\"text_4\">\r\n      <!-- 150000 -->\r\n      <g transform=\"translate(240.805133 689.236562)scale(0.1 -0.1)\">\r\n       <use xlink:href=\"#DejaVuSans-49\"/>\r\n       <use x=\"63.623047\" xlink:href=\"#DejaVuSans-53\"/>\r\n       <use x=\"127.246094\" xlink:href=\"#DejaVuSans-48\"/>\r\n       <use x=\"190.869141\" xlink:href=\"#DejaVuSans-48\"/>\r\n       <use x=\"254.492188\" xlink:href=\"#DejaVuSans-48\"/>\r\n       <use x=\"318.115234\" xlink:href=\"#DejaVuSans-48\"/>\r\n      </g>\r\n     </g>\r\n    </g>\r\n    <g id=\"xtick_5\">\r\n     <g id=\"line2d_5\">\r\n      <g>\r\n       <use style=\"stroke:#000000;stroke-width:0.8;\" x=\"318.457365\" xlink:href=\"#m055925cf51\" y=\"674.638125\"/>\r\n      </g>\r\n     </g>\r\n     <g id=\"text_5\">\r\n      <!-- 200000 -->\r\n      <defs>\r\n       <path d=\"M 19.1875 8.296875 \r\nL 53.609375 8.296875 \r\nL 53.609375 0 \r\nL 7.328125 0 \r\nL 7.328125 8.296875 \r\nQ 12.9375 14.109375 22.625 23.890625 \r\nQ 32.328125 33.6875 34.8125 36.53125 \r\nQ 39.546875 41.84375 41.421875 45.53125 \r\nQ 43.3125 49.21875 43.3125 52.78125 \r\nQ 43.3125 58.59375 39.234375 62.25 \r\nQ 35.15625 65.921875 28.609375 65.921875 \r\nQ 23.96875 65.921875 18.8125 64.3125 \r\nQ 13.671875 62.703125 7.8125 59.421875 \r\nL 7.8125 69.390625 \r\nQ 13.765625 71.78125 18.9375 73 \r\nQ 24.125 74.21875 28.421875 74.21875 \r\nQ 39.75 74.21875 46.484375 68.546875 \r\nQ 53.21875 62.890625 53.21875 53.421875 \r\nQ 53.21875 48.921875 51.53125 44.890625 \r\nQ 49.859375 40.875 45.40625 35.40625 \r\nQ 44.1875 33.984375 37.640625 27.21875 \r\nQ 31.109375 20.453125 19.1875 8.296875 \r\nz\r\n\" id=\"DejaVuSans-50\"/>\r\n      </defs>\r\n      <g transform=\"translate(299.369865 689.236562)scale(0.1 -0.1)\">\r\n       <use xlink:href=\"#DejaVuSans-50\"/>\r\n       <use x=\"63.623047\" xlink:href=\"#DejaVuSans-48\"/>\r\n       <use x=\"127.246094\" xlink:href=\"#DejaVuSans-48\"/>\r\n       <use x=\"190.869141\" xlink:href=\"#DejaVuSans-48\"/>\r\n       <use x=\"254.492188\" xlink:href=\"#DejaVuSans-48\"/>\r\n       <use x=\"318.115234\" xlink:href=\"#DejaVuSans-48\"/>\r\n      </g>\r\n     </g>\r\n    </g>\r\n    <g id=\"xtick_6\">\r\n     <g id=\"line2d_6\">\r\n      <g>\r\n       <use style=\"stroke:#000000;stroke-width:0.8;\" x=\"377.022097\" xlink:href=\"#m055925cf51\" y=\"674.638125\"/>\r\n      </g>\r\n     </g>\r\n     <g id=\"text_6\">\r\n      <!-- 250000 -->\r\n      <g transform=\"translate(357.934597 689.236562)scale(0.1 -0.1)\">\r\n       <use xlink:href=\"#DejaVuSans-50\"/>\r\n       <use x=\"63.623047\" xlink:href=\"#DejaVuSans-53\"/>\r\n       <use x=\"127.246094\" xlink:href=\"#DejaVuSans-48\"/>\r\n       <use x=\"190.869141\" xlink:href=\"#DejaVuSans-48\"/>\r\n       <use x=\"254.492188\" xlink:href=\"#DejaVuSans-48\"/>\r\n       <use x=\"318.115234\" xlink:href=\"#DejaVuSans-48\"/>\r\n      </g>\r\n     </g>\r\n    </g>\r\n    <g id=\"text_7\">\r\n     <!-- Annual Salaries -->\r\n     <defs>\r\n      <path d=\"M 34.1875 63.1875 \r\nL 20.796875 26.90625 \r\nL 47.609375 26.90625 \r\nz\r\nM 28.609375 72.90625 \r\nL 39.796875 72.90625 \r\nL 67.578125 0 \r\nL 57.328125 0 \r\nL 50.6875 18.703125 \r\nL 17.828125 18.703125 \r\nL 11.1875 0 \r\nL 0.78125 0 \r\nz\r\n\" id=\"DejaVuSans-65\"/>\r\n      <path d=\"M 54.890625 33.015625 \r\nL 54.890625 0 \r\nL 45.90625 0 \r\nL 45.90625 32.71875 \r\nQ 45.90625 40.484375 42.875 44.328125 \r\nQ 39.84375 48.1875 33.796875 48.1875 \r\nQ 26.515625 48.1875 22.3125 43.546875 \r\nQ 18.109375 38.921875 18.109375 30.90625 \r\nL 18.109375 0 \r\nL 9.078125 0 \r\nL 9.078125 54.6875 \r\nL 18.109375 54.6875 \r\nL 18.109375 46.1875 \r\nQ 21.34375 51.125 25.703125 53.5625 \r\nQ 30.078125 56 35.796875 56 \r\nQ 45.21875 56 50.046875 50.171875 \r\nQ 54.890625 44.34375 54.890625 33.015625 \r\nz\r\n\" id=\"DejaVuSans-110\"/>\r\n      <path d=\"M 8.5 21.578125 \r\nL 8.5 54.6875 \r\nL 17.484375 54.6875 \r\nL 17.484375 21.921875 \r\nQ 17.484375 14.15625 20.5 10.265625 \r\nQ 23.53125 6.390625 29.59375 6.390625 \r\nQ 36.859375 6.390625 41.078125 11.03125 \r\nQ 45.3125 15.671875 45.3125 23.6875 \r\nL 45.3125 54.6875 \r\nL 54.296875 54.6875 \r\nL 54.296875 0 \r\nL 45.3125 0 \r\nL 45.3125 8.40625 \r\nQ 42.046875 3.421875 37.71875 1 \r\nQ 33.40625 -1.421875 27.6875 -1.421875 \r\nQ 18.265625 -1.421875 13.375 4.4375 \r\nQ 8.5 10.296875 8.5 21.578125 \r\nz\r\nM 31.109375 56 \r\nz\r\n\" id=\"DejaVuSans-117\"/>\r\n      <path d=\"M 34.28125 27.484375 \r\nQ 23.390625 27.484375 19.1875 25 \r\nQ 14.984375 22.515625 14.984375 16.5 \r\nQ 14.984375 11.71875 18.140625 8.90625 \r\nQ 21.296875 6.109375 26.703125 6.109375 \r\nQ 34.1875 6.109375 38.703125 11.40625 \r\nQ 43.21875 16.703125 43.21875 25.484375 \r\nL 43.21875 27.484375 \r\nz\r\nM 52.203125 31.203125 \r\nL 52.203125 0 \r\nL 43.21875 0 \r\nL 43.21875 8.296875 \r\nQ 40.140625 3.328125 35.546875 0.953125 \r\nQ 30.953125 -1.421875 24.3125 -1.421875 \r\nQ 15.921875 -1.421875 10.953125 3.296875 \r\nQ 6 8.015625 6 15.921875 \r\nQ 6 25.140625 12.171875 29.828125 \r\nQ 18.359375 34.515625 30.609375 34.515625 \r\nL 43.21875 34.515625 \r\nL 43.21875 35.40625 \r\nQ 43.21875 41.609375 39.140625 45 \r\nQ 35.0625 48.390625 27.6875 48.390625 \r\nQ 23 48.390625 18.546875 47.265625 \r\nQ 14.109375 46.140625 10.015625 43.890625 \r\nL 10.015625 52.203125 \r\nQ 14.9375 54.109375 19.578125 55.046875 \r\nQ 24.21875 56 28.609375 56 \r\nQ 40.484375 56 46.34375 49.84375 \r\nQ 52.203125 43.703125 52.203125 31.203125 \r\nz\r\n\" id=\"DejaVuSans-97\"/>\r\n      <path d=\"M 9.421875 75.984375 \r\nL 18.40625 75.984375 \r\nL 18.40625 0 \r\nL 9.421875 0 \r\nz\r\n\" id=\"DejaVuSans-108\"/>\r\n      <path id=\"DejaVuSans-32\"/>\r\n      <path d=\"M 53.515625 70.515625 \r\nL 53.515625 60.890625 \r\nQ 47.90625 63.578125 42.921875 64.890625 \r\nQ 37.9375 66.21875 33.296875 66.21875 \r\nQ 25.25 66.21875 20.875 63.09375 \r\nQ 16.5 59.96875 16.5 54.203125 \r\nQ 16.5 49.359375 19.40625 46.890625 \r\nQ 22.3125 44.4375 30.421875 42.921875 \r\nL 36.375 41.703125 \r\nQ 47.40625 39.59375 52.65625 34.296875 \r\nQ 57.90625 29 57.90625 20.125 \r\nQ 57.90625 9.515625 50.796875 4.046875 \r\nQ 43.703125 -1.421875 29.984375 -1.421875 \r\nQ 24.8125 -1.421875 18.96875 -0.25 \r\nQ 13.140625 0.921875 6.890625 3.21875 \r\nL 6.890625 13.375 \r\nQ 12.890625 10.015625 18.65625 8.296875 \r\nQ 24.421875 6.59375 29.984375 6.59375 \r\nQ 38.421875 6.59375 43.015625 9.90625 \r\nQ 47.609375 13.234375 47.609375 19.390625 \r\nQ 47.609375 24.75 44.3125 27.78125 \r\nQ 41.015625 30.8125 33.5 32.328125 \r\nL 27.484375 33.5 \r\nQ 16.453125 35.6875 11.515625 40.375 \r\nQ 6.59375 45.0625 6.59375 53.421875 \r\nQ 6.59375 63.09375 13.40625 68.65625 \r\nQ 20.21875 74.21875 32.171875 74.21875 \r\nQ 37.3125 74.21875 42.625 73.28125 \r\nQ 47.953125 72.359375 53.515625 70.515625 \r\nz\r\n\" id=\"DejaVuSans-83\"/>\r\n      <path d=\"M 41.109375 46.296875 \r\nQ 39.59375 47.171875 37.8125 47.578125 \r\nQ 36.03125 48 33.890625 48 \r\nQ 26.265625 48 22.1875 43.046875 \r\nQ 18.109375 38.09375 18.109375 28.8125 \r\nL 18.109375 0 \r\nL 9.078125 0 \r\nL 9.078125 54.6875 \r\nL 18.109375 54.6875 \r\nL 18.109375 46.1875 \r\nQ 20.953125 51.171875 25.484375 53.578125 \r\nQ 30.03125 56 36.53125 56 \r\nQ 37.453125 56 38.578125 55.875 \r\nQ 39.703125 55.765625 41.0625 55.515625 \r\nz\r\n\" id=\"DejaVuSans-114\"/>\r\n      <path d=\"M 9.421875 54.6875 \r\nL 18.40625 54.6875 \r\nL 18.40625 0 \r\nL 9.421875 0 \r\nz\r\nM 9.421875 75.984375 \r\nL 18.40625 75.984375 \r\nL 18.40625 64.59375 \r\nL 9.421875 64.59375 \r\nz\r\n\" id=\"DejaVuSans-105\"/>\r\n      <path d=\"M 56.203125 29.59375 \r\nL 56.203125 25.203125 \r\nL 14.890625 25.203125 \r\nQ 15.484375 15.921875 20.484375 11.0625 \r\nQ 25.484375 6.203125 34.421875 6.203125 \r\nQ 39.59375 6.203125 44.453125 7.46875 \r\nQ 49.3125 8.734375 54.109375 11.28125 \r\nL 54.109375 2.78125 \r\nQ 49.265625 0.734375 44.1875 -0.34375 \r\nQ 39.109375 -1.421875 33.890625 -1.421875 \r\nQ 20.796875 -1.421875 13.15625 6.1875 \r\nQ 5.515625 13.8125 5.515625 26.8125 \r\nQ 5.515625 40.234375 12.765625 48.109375 \r\nQ 20.015625 56 32.328125 56 \r\nQ 43.359375 56 49.78125 48.890625 \r\nQ 56.203125 41.796875 56.203125 29.59375 \r\nz\r\nM 47.21875 32.234375 \r\nQ 47.125 39.59375 43.09375 43.984375 \r\nQ 39.0625 48.390625 32.421875 48.390625 \r\nQ 24.90625 48.390625 20.390625 44.140625 \r\nQ 15.875 39.890625 15.1875 32.171875 \r\nz\r\n\" id=\"DejaVuSans-101\"/>\r\n      <path d=\"M 44.28125 53.078125 \r\nL 44.28125 44.578125 \r\nQ 40.484375 46.53125 36.375 47.5 \r\nQ 32.28125 48.484375 27.875 48.484375 \r\nQ 21.1875 48.484375 17.84375 46.4375 \r\nQ 14.5 44.390625 14.5 40.28125 \r\nQ 14.5 37.15625 16.890625 35.375 \r\nQ 19.28125 33.59375 26.515625 31.984375 \r\nL 29.59375 31.296875 \r\nQ 39.15625 29.25 43.1875 25.515625 \r\nQ 47.21875 21.78125 47.21875 15.09375 \r\nQ 47.21875 7.46875 41.1875 3.015625 \r\nQ 35.15625 -1.421875 24.609375 -1.421875 \r\nQ 20.21875 -1.421875 15.453125 -0.5625 \r\nQ 10.6875 0.296875 5.421875 2 \r\nL 5.421875 11.28125 \r\nQ 10.40625 8.6875 15.234375 7.390625 \r\nQ 20.0625 6.109375 24.8125 6.109375 \r\nQ 31.15625 6.109375 34.5625 8.28125 \r\nQ 37.984375 10.453125 37.984375 14.40625 \r\nQ 37.984375 18.0625 35.515625 20.015625 \r\nQ 33.0625 21.96875 24.703125 23.78125 \r\nL 21.578125 24.515625 \r\nQ 13.234375 26.265625 9.515625 29.90625 \r\nQ 5.8125 33.546875 5.8125 39.890625 \r\nQ 5.8125 47.609375 11.28125 51.796875 \r\nQ 16.75 56 26.8125 56 \r\nQ 31.78125 56 36.171875 55.265625 \r\nQ 40.578125 54.546875 44.28125 53.078125 \r\nz\r\n\" id=\"DejaVuSans-115\"/>\r\n     </defs>\r\n     <g transform=\"translate(212.8125 702.914687)scale(0.1 -0.1)\">\r\n      <use xlink:href=\"#DejaVuSans-65\"/>\r\n      <use x=\"68.408203\" xlink:href=\"#DejaVuSans-110\"/>\r\n      <use x=\"131.787109\" xlink:href=\"#DejaVuSans-110\"/>\r\n      <use x=\"195.166016\" xlink:href=\"#DejaVuSans-117\"/>\r\n      <use x=\"258.544922\" xlink:href=\"#DejaVuSans-97\"/>\r\n      <use x=\"319.824219\" xlink:href=\"#DejaVuSans-108\"/>\r\n      <use x=\"347.607422\" xlink:href=\"#DejaVuSans-32\"/>\r\n      <use x=\"379.394531\" xlink:href=\"#DejaVuSans-83\"/>\r\n      <use x=\"442.871094\" xlink:href=\"#DejaVuSans-97\"/>\r\n      <use x=\"504.150391\" xlink:href=\"#DejaVuSans-108\"/>\r\n      <use x=\"531.933594\" xlink:href=\"#DejaVuSans-97\"/>\r\n      <use x=\"593.212891\" xlink:href=\"#DejaVuSans-114\"/>\r\n      <use x=\"634.326172\" xlink:href=\"#DejaVuSans-105\"/>\r\n      <use x=\"662.109375\" xlink:href=\"#DejaVuSans-101\"/>\r\n      <use x=\"723.632812\" xlink:href=\"#DejaVuSans-115\"/>\r\n     </g>\r\n    </g>\r\n   </g>\r\n   <g id=\"matplotlib.axis_2\">\r\n    <g id=\"ytick_1\">\r\n     <g id=\"line2d_7\">\r\n      <defs>\r\n       <path d=\"M 0 0 \r\nL -3.5 0 \r\n\" id=\"m08da5ed0f1\" style=\"stroke:#000000;stroke-width:0.8;\"/>\r\n      </defs>\r\n      <g>\r\n       <use style=\"stroke:#000000;stroke-width:0.8;\" x=\"84.198438\" xlink:href=\"#m08da5ed0f1\" y=\"610.103793\"/>\r\n      </g>\r\n     </g>\r\n     <g id=\"text_8\">\r\n      <!-- Overall -->\r\n      <defs>\r\n       <path d=\"M 39.40625 66.21875 \r\nQ 28.65625 66.21875 22.328125 58.203125 \r\nQ 16.015625 50.203125 16.015625 36.375 \r\nQ 16.015625 22.609375 22.328125 14.59375 \r\nQ 28.65625 6.59375 39.40625 6.59375 \r\nQ 50.140625 6.59375 56.421875 14.59375 \r\nQ 62.703125 22.609375 62.703125 36.375 \r\nQ 62.703125 50.203125 56.421875 58.203125 \r\nQ 50.140625 66.21875 39.40625 66.21875 \r\nz\r\nM 39.40625 74.21875 \r\nQ 54.734375 74.21875 63.90625 63.9375 \r\nQ 73.09375 53.65625 73.09375 36.375 \r\nQ 73.09375 19.140625 63.90625 8.859375 \r\nQ 54.734375 -1.421875 39.40625 -1.421875 \r\nQ 24.03125 -1.421875 14.8125 8.828125 \r\nQ 5.609375 19.09375 5.609375 36.375 \r\nQ 5.609375 53.65625 14.8125 63.9375 \r\nQ 24.03125 74.21875 39.40625 74.21875 \r\nz\r\n\" id=\"DejaVuSans-79\"/>\r\n       <path d=\"M 2.984375 54.6875 \r\nL 12.5 54.6875 \r\nL 29.59375 8.796875 \r\nL 46.6875 54.6875 \r\nL 56.203125 54.6875 \r\nL 35.6875 0 \r\nL 23.484375 0 \r\nz\r\n\" id=\"DejaVuSans-118\"/>\r\n      </defs>\r\n      <g transform=\"translate(41.459375 613.903012)scale(0.1 -0.1)\">\r\n       <use xlink:href=\"#DejaVuSans-79\"/>\r\n       <use x=\"78.710938\" xlink:href=\"#DejaVuSans-118\"/>\r\n       <use x=\"137.890625\" xlink:href=\"#DejaVuSans-101\"/>\r\n       <use x=\"199.414062\" xlink:href=\"#DejaVuSans-114\"/>\r\n       <use x=\"240.527344\" xlink:href=\"#DejaVuSans-97\"/>\r\n       <use x=\"301.806641\" xlink:href=\"#DejaVuSans-108\"/>\r\n       <use x=\"329.589844\" xlink:href=\"#DejaVuSans-108\"/>\r\n      </g>\r\n     </g>\r\n    </g>\r\n    <g id=\"ytick_2\">\r\n     <g id=\"line2d_8\">\r\n      <g>\r\n       <use style=\"stroke:#000000;stroke-width:0.8;\" x=\"84.198438\" xlink:href=\"#m08da5ed0f1\" y=\"522.895237\"/>\r\n      </g>\r\n     </g>\r\n     <g id=\"text_9\">\r\n      <!-- Engineer -->\r\n      <defs>\r\n       <path d=\"M 9.8125 72.90625 \r\nL 55.90625 72.90625 \r\nL 55.90625 64.59375 \r\nL 19.671875 64.59375 \r\nL 19.671875 43.015625 \r\nL 54.390625 43.015625 \r\nL 54.390625 34.71875 \r\nL 19.671875 34.71875 \r\nL 19.671875 8.296875 \r\nL 56.78125 8.296875 \r\nL 56.78125 0 \r\nL 9.8125 0 \r\nz\r\n\" id=\"DejaVuSans-69\"/>\r\n       <path d=\"M 45.40625 27.984375 \r\nQ 45.40625 37.75 41.375 43.109375 \r\nQ 37.359375 48.484375 30.078125 48.484375 \r\nQ 22.859375 48.484375 18.828125 43.109375 \r\nQ 14.796875 37.75 14.796875 27.984375 \r\nQ 14.796875 18.265625 18.828125 12.890625 \r\nQ 22.859375 7.515625 30.078125 7.515625 \r\nQ 37.359375 7.515625 41.375 12.890625 \r\nQ 45.40625 18.265625 45.40625 27.984375 \r\nz\r\nM 54.390625 6.78125 \r\nQ 54.390625 -7.171875 48.1875 -13.984375 \r\nQ 42 -20.796875 29.203125 -20.796875 \r\nQ 24.46875 -20.796875 20.265625 -20.09375 \r\nQ 16.0625 -19.390625 12.109375 -17.921875 \r\nL 12.109375 -9.1875 \r\nQ 16.0625 -11.328125 19.921875 -12.34375 \r\nQ 23.78125 -13.375 27.78125 -13.375 \r\nQ 36.625 -13.375 41.015625 -8.765625 \r\nQ 45.40625 -4.15625 45.40625 5.171875 \r\nL 45.40625 9.625 \r\nQ 42.625 4.78125 38.28125 2.390625 \r\nQ 33.9375 0 27.875 0 \r\nQ 17.828125 0 11.671875 7.65625 \r\nQ 5.515625 15.328125 5.515625 27.984375 \r\nQ 5.515625 40.671875 11.671875 48.328125 \r\nQ 17.828125 56 27.875 56 \r\nQ 33.9375 56 38.28125 53.609375 \r\nQ 42.625 51.21875 45.40625 46.390625 \r\nL 45.40625 54.6875 \r\nL 54.390625 54.6875 \r\nz\r\n\" id=\"DejaVuSans-103\"/>\r\n      </defs>\r\n      <g transform=\"translate(32.660938 526.694456)scale(0.1 -0.1)\">\r\n       <use xlink:href=\"#DejaVuSans-69\"/>\r\n       <use x=\"63.183594\" xlink:href=\"#DejaVuSans-110\"/>\r\n       <use x=\"126.5625\" xlink:href=\"#DejaVuSans-103\"/>\r\n       <use x=\"190.039062\" xlink:href=\"#DejaVuSans-105\"/>\r\n       <use x=\"217.822266\" xlink:href=\"#DejaVuSans-110\"/>\r\n       <use x=\"281.201172\" xlink:href=\"#DejaVuSans-101\"/>\r\n       <use x=\"342.724609\" xlink:href=\"#DejaVuSans-101\"/>\r\n       <use x=\"404.248047\" xlink:href=\"#DejaVuSans-114\"/>\r\n      </g>\r\n     </g>\r\n    </g>\r\n    <g id=\"ytick_3\">\r\n     <g id=\"line2d_9\">\r\n      <g>\r\n       <use style=\"stroke:#000000;stroke-width:0.8;\" x=\"84.198438\" xlink:href=\"#m08da5ed0f1\" y=\"435.686681\"/>\r\n      </g>\r\n     </g>\r\n     <g id=\"text_10\">\r\n      <!-- Developer -->\r\n      <defs>\r\n       <path d=\"M 19.671875 64.796875 \r\nL 19.671875 8.109375 \r\nL 31.59375 8.109375 \r\nQ 46.6875 8.109375 53.6875 14.9375 \r\nQ 60.6875 21.78125 60.6875 36.53125 \r\nQ 60.6875 51.171875 53.6875 57.984375 \r\nQ 46.6875 64.796875 31.59375 64.796875 \r\nz\r\nM 9.8125 72.90625 \r\nL 30.078125 72.90625 \r\nQ 51.265625 72.90625 61.171875 64.09375 \r\nQ 71.09375 55.28125 71.09375 36.53125 \r\nQ 71.09375 17.671875 61.125 8.828125 \r\nQ 51.171875 0 30.078125 0 \r\nL 9.8125 0 \r\nz\r\n\" id=\"DejaVuSans-68\"/>\r\n       <path d=\"M 30.609375 48.390625 \r\nQ 23.390625 48.390625 19.1875 42.75 \r\nQ 14.984375 37.109375 14.984375 27.296875 \r\nQ 14.984375 17.484375 19.15625 11.84375 \r\nQ 23.34375 6.203125 30.609375 6.203125 \r\nQ 37.796875 6.203125 41.984375 11.859375 \r\nQ 46.1875 17.53125 46.1875 27.296875 \r\nQ 46.1875 37.015625 41.984375 42.703125 \r\nQ 37.796875 48.390625 30.609375 48.390625 \r\nz\r\nM 30.609375 56 \r\nQ 42.328125 56 49.015625 48.375 \r\nQ 55.71875 40.765625 55.71875 27.296875 \r\nQ 55.71875 13.875 49.015625 6.21875 \r\nQ 42.328125 -1.421875 30.609375 -1.421875 \r\nQ 18.84375 -1.421875 12.171875 6.21875 \r\nQ 5.515625 13.875 5.515625 27.296875 \r\nQ 5.515625 40.765625 12.171875 48.375 \r\nQ 18.84375 56 30.609375 56 \r\nz\r\n\" id=\"DejaVuSans-111\"/>\r\n       <path d=\"M 18.109375 8.203125 \r\nL 18.109375 -20.796875 \r\nL 9.078125 -20.796875 \r\nL 9.078125 54.6875 \r\nL 18.109375 54.6875 \r\nL 18.109375 46.390625 \r\nQ 20.953125 51.265625 25.265625 53.625 \r\nQ 29.59375 56 35.59375 56 \r\nQ 45.5625 56 51.78125 48.09375 \r\nQ 58.015625 40.1875 58.015625 27.296875 \r\nQ 58.015625 14.40625 51.78125 6.484375 \r\nQ 45.5625 -1.421875 35.59375 -1.421875 \r\nQ 29.59375 -1.421875 25.265625 0.953125 \r\nQ 20.953125 3.328125 18.109375 8.203125 \r\nz\r\nM 48.6875 27.296875 \r\nQ 48.6875 37.203125 44.609375 42.84375 \r\nQ 40.53125 48.484375 33.40625 48.484375 \r\nQ 26.265625 48.484375 22.1875 42.84375 \r\nQ 18.109375 37.203125 18.109375 27.296875 \r\nQ 18.109375 17.390625 22.1875 11.75 \r\nQ 26.265625 6.109375 33.40625 6.109375 \r\nQ 40.53125 6.109375 44.609375 11.75 \r\nQ 48.6875 17.390625 48.6875 27.296875 \r\nz\r\n\" id=\"DejaVuSans-112\"/>\r\n      </defs>\r\n      <g transform=\"translate(25.764063 439.4859)scale(0.1 -0.1)\">\r\n       <use xlink:href=\"#DejaVuSans-68\"/>\r\n       <use x=\"77.001953\" xlink:href=\"#DejaVuSans-101\"/>\r\n       <use x=\"138.525391\" xlink:href=\"#DejaVuSans-118\"/>\r\n       <use x=\"197.705078\" xlink:href=\"#DejaVuSans-101\"/>\r\n       <use x=\"259.228516\" xlink:href=\"#DejaVuSans-108\"/>\r\n       <use x=\"287.011719\" xlink:href=\"#DejaVuSans-111\"/>\r\n       <use x=\"348.193359\" xlink:href=\"#DejaVuSans-112\"/>\r\n       <use x=\"411.669922\" xlink:href=\"#DejaVuSans-101\"/>\r\n       <use x=\"473.193359\" xlink:href=\"#DejaVuSans-114\"/>\r\n      </g>\r\n     </g>\r\n    </g>\r\n    <g id=\"ytick_4\">\r\n     <g id=\"line2d_10\">\r\n      <g>\r\n       <use style=\"stroke:#000000;stroke-width:0.8;\" x=\"84.198438\" xlink:href=\"#m08da5ed0f1\" y=\"348.478125\"/>\r\n      </g>\r\n     </g>\r\n     <g id=\"text_11\">\r\n      <!-- Data Scientist -->\r\n      <defs>\r\n       <path d=\"M 18.3125 70.21875 \r\nL 18.3125 54.6875 \r\nL 36.8125 54.6875 \r\nL 36.8125 47.703125 \r\nL 18.3125 47.703125 \r\nL 18.3125 18.015625 \r\nQ 18.3125 11.328125 20.140625 9.421875 \r\nQ 21.96875 7.515625 27.59375 7.515625 \r\nL 36.8125 7.515625 \r\nL 36.8125 0 \r\nL 27.59375 0 \r\nQ 17.1875 0 13.234375 3.875 \r\nQ 9.28125 7.765625 9.28125 18.015625 \r\nL 9.28125 47.703125 \r\nL 2.6875 47.703125 \r\nL 2.6875 54.6875 \r\nL 9.28125 54.6875 \r\nL 9.28125 70.21875 \r\nz\r\n\" id=\"DejaVuSans-116\"/>\r\n       <path d=\"M 48.78125 52.59375 \r\nL 48.78125 44.1875 \r\nQ 44.96875 46.296875 41.140625 47.34375 \r\nQ 37.3125 48.390625 33.40625 48.390625 \r\nQ 24.65625 48.390625 19.8125 42.84375 \r\nQ 14.984375 37.3125 14.984375 27.296875 \r\nQ 14.984375 17.28125 19.8125 11.734375 \r\nQ 24.65625 6.203125 33.40625 6.203125 \r\nQ 37.3125 6.203125 41.140625 7.25 \r\nQ 44.96875 8.296875 48.78125 10.40625 \r\nL 48.78125 2.09375 \r\nQ 45.015625 0.34375 40.984375 -0.53125 \r\nQ 36.96875 -1.421875 32.421875 -1.421875 \r\nQ 20.0625 -1.421875 12.78125 6.34375 \r\nQ 5.515625 14.109375 5.515625 27.296875 \r\nQ 5.515625 40.671875 12.859375 48.328125 \r\nQ 20.21875 56 33.015625 56 \r\nQ 37.15625 56 41.109375 55.140625 \r\nQ 45.0625 54.296875 48.78125 52.59375 \r\nz\r\n\" id=\"DejaVuSans-99\"/>\r\n      </defs>\r\n      <g transform=\"translate(7.2 352.277344)scale(0.1 -0.1)\">\r\n       <use xlink:href=\"#DejaVuSans-68\"/>\r\n       <use x=\"77.001953\" xlink:href=\"#DejaVuSans-97\"/>\r\n       <use x=\"138.28125\" xlink:href=\"#DejaVuSans-116\"/>\r\n       <use x=\"177.490234\" xlink:href=\"#DejaVuSans-97\"/>\r\n       <use x=\"238.769531\" xlink:href=\"#DejaVuSans-32\"/>\r\n       <use x=\"270.556641\" xlink:href=\"#DejaVuSans-83\"/>\r\n       <use x=\"334.033203\" xlink:href=\"#DejaVuSans-99\"/>\r\n       <use x=\"389.013672\" xlink:href=\"#DejaVuSans-105\"/>\r\n       <use x=\"416.796875\" xlink:href=\"#DejaVuSans-101\"/>\r\n       <use x=\"478.320312\" xlink:href=\"#DejaVuSans-110\"/>\r\n       <use x=\"541.699219\" xlink:href=\"#DejaVuSans-116\"/>\r\n       <use x=\"580.908203\" xlink:href=\"#DejaVuSans-105\"/>\r\n       <use x=\"608.691406\" xlink:href=\"#DejaVuSans-115\"/>\r\n       <use x=\"660.791016\" xlink:href=\"#DejaVuSans-116\"/>\r\n      </g>\r\n     </g>\r\n    </g>\r\n    <g id=\"ytick_5\">\r\n     <g id=\"line2d_11\">\r\n      <g>\r\n       <use style=\"stroke:#000000;stroke-width:0.8;\" x=\"84.198438\" xlink:href=\"#m08da5ed0f1\" y=\"261.269569\"/>\r\n      </g>\r\n     </g>\r\n     <g id=\"text_12\">\r\n      <!-- DBA -->\r\n      <defs>\r\n       <path d=\"M 19.671875 34.8125 \r\nL 19.671875 8.109375 \r\nL 35.5 8.109375 \r\nQ 43.453125 8.109375 47.28125 11.40625 \r\nQ 51.125 14.703125 51.125 21.484375 \r\nQ 51.125 28.328125 47.28125 31.5625 \r\nQ 43.453125 34.8125 35.5 34.8125 \r\nz\r\nM 19.671875 64.796875 \r\nL 19.671875 42.828125 \r\nL 34.28125 42.828125 \r\nQ 41.5 42.828125 45.03125 45.53125 \r\nQ 48.578125 48.25 48.578125 53.8125 \r\nQ 48.578125 59.328125 45.03125 62.0625 \r\nQ 41.5 64.796875 34.28125 64.796875 \r\nz\r\nM 9.8125 72.90625 \r\nL 35.015625 72.90625 \r\nQ 46.296875 72.90625 52.390625 68.21875 \r\nQ 58.5 63.53125 58.5 54.890625 \r\nQ 58.5 48.1875 55.375 44.234375 \r\nQ 52.25 40.28125 46.1875 39.3125 \r\nQ 53.46875 37.75 57.5 32.78125 \r\nQ 61.53125 27.828125 61.53125 20.40625 \r\nQ 61.53125 10.640625 54.890625 5.3125 \r\nQ 48.25 0 35.984375 0 \r\nL 9.8125 0 \r\nz\r\n\" id=\"DejaVuSans-66\"/>\r\n      </defs>\r\n      <g transform=\"translate(55.796875 265.068788)scale(0.1 -0.1)\">\r\n       <use xlink:href=\"#DejaVuSans-68\"/>\r\n       <use x=\"77.001953\" xlink:href=\"#DejaVuSans-66\"/>\r\n       <use x=\"145.605469\" xlink:href=\"#DejaVuSans-65\"/>\r\n      </g>\r\n     </g>\r\n    </g>\r\n    <g id=\"ytick_6\">\r\n     <g id=\"line2d_12\">\r\n      <g>\r\n       <use style=\"stroke:#000000;stroke-width:0.8;\" x=\"84.198438\" xlink:href=\"#m08da5ed0f1\" y=\"174.061013\"/>\r\n      </g>\r\n     </g>\r\n     <g id=\"text_13\">\r\n      <!-- Architect -->\r\n      <defs>\r\n       <path d=\"M 54.890625 33.015625 \r\nL 54.890625 0 \r\nL 45.90625 0 \r\nL 45.90625 32.71875 \r\nQ 45.90625 40.484375 42.875 44.328125 \r\nQ 39.84375 48.1875 33.796875 48.1875 \r\nQ 26.515625 48.1875 22.3125 43.546875 \r\nQ 18.109375 38.921875 18.109375 30.90625 \r\nL 18.109375 0 \r\nL 9.078125 0 \r\nL 9.078125 75.984375 \r\nL 18.109375 75.984375 \r\nL 18.109375 46.1875 \r\nQ 21.34375 51.125 25.703125 53.5625 \r\nQ 30.078125 56 35.796875 56 \r\nQ 45.21875 56 50.046875 50.171875 \r\nQ 54.890625 44.34375 54.890625 33.015625 \r\nz\r\n\" id=\"DejaVuSans-104\"/>\r\n      </defs>\r\n      <g transform=\"translate(32.365625 177.860231)scale(0.1 -0.1)\">\r\n       <use xlink:href=\"#DejaVuSans-65\"/>\r\n       <use x=\"68.408203\" xlink:href=\"#DejaVuSans-114\"/>\r\n       <use x=\"107.271484\" xlink:href=\"#DejaVuSans-99\"/>\r\n       <use x=\"162.251953\" xlink:href=\"#DejaVuSans-104\"/>\r\n       <use x=\"225.630859\" xlink:href=\"#DejaVuSans-105\"/>\r\n       <use x=\"253.414062\" xlink:href=\"#DejaVuSans-116\"/>\r\n       <use x=\"292.623047\" xlink:href=\"#DejaVuSans-101\"/>\r\n       <use x=\"354.146484\" xlink:href=\"#DejaVuSans-99\"/>\r\n       <use x=\"409.126953\" xlink:href=\"#DejaVuSans-116\"/>\r\n      </g>\r\n     </g>\r\n    </g>\r\n    <g id=\"ytick_7\">\r\n     <g id=\"line2d_13\">\r\n      <g>\r\n       <use style=\"stroke:#000000;stroke-width:0.8;\" x=\"84.198438\" xlink:href=\"#m08da5ed0f1\" y=\"86.852457\"/>\r\n      </g>\r\n     </g>\r\n     <g id=\"text_14\">\r\n      <!-- Analyst -->\r\n      <defs>\r\n       <path d=\"M 32.171875 -5.078125 \r\nQ 28.375 -14.84375 24.75 -17.8125 \r\nQ 21.140625 -20.796875 15.09375 -20.796875 \r\nL 7.90625 -20.796875 \r\nL 7.90625 -13.28125 \r\nL 13.1875 -13.28125 \r\nQ 16.890625 -13.28125 18.9375 -11.515625 \r\nQ 21 -9.765625 23.484375 -3.21875 \r\nL 25.09375 0.875 \r\nL 2.984375 54.6875 \r\nL 12.5 54.6875 \r\nL 29.59375 11.921875 \r\nL 46.6875 54.6875 \r\nL 56.203125 54.6875 \r\nz\r\n\" id=\"DejaVuSans-121\"/>\r\n      </defs>\r\n      <g transform=\"translate(40.065625 90.651675)scale(0.1 -0.1)\">\r\n       <use xlink:href=\"#DejaVuSans-65\"/>\r\n       <use x=\"68.408203\" xlink:href=\"#DejaVuSans-110\"/>\r\n       <use x=\"131.787109\" xlink:href=\"#DejaVuSans-97\"/>\r\n       <use x=\"193.066406\" xlink:href=\"#DejaVuSans-108\"/>\r\n       <use x=\"220.849609\" xlink:href=\"#DejaVuSans-121\"/>\r\n       <use x=\"280.029297\" xlink:href=\"#DejaVuSans-115\"/>\r\n       <use x=\"332.128906\" xlink:href=\"#DejaVuSans-116\"/>\r\n      </g>\r\n     </g>\r\n    </g>\r\n   </g>\r\n   <g id=\"patch_17\">\r\n    <path d=\"M 84.198438 674.638125 \r\nL 84.198438 22.318125 \r\n\" style=\"fill:none;stroke:#000000;stroke-linecap:square;stroke-linejoin:miter;stroke-width:0.8;\"/>\r\n   </g>\r\n   <g id=\"patch_18\">\r\n    <path d=\"M 418.998438 674.638125 \r\nL 418.998438 22.318125 \r\n\" style=\"fill:none;stroke:#000000;stroke-linecap:square;stroke-linejoin:miter;stroke-width:0.8;\"/>\r\n   </g>\r\n   <g id=\"patch_19\">\r\n    <path d=\"M 84.198438 674.638125 \r\nL 418.998438 674.638125 \r\n\" style=\"fill:none;stroke:#000000;stroke-linecap:square;stroke-linejoin:miter;stroke-width:0.8;\"/>\r\n   </g>\r\n   <g id=\"patch_20\">\r\n    <path d=\"M 84.198438 22.318125 \r\nL 418.998438 22.318125 \r\n\" style=\"fill:none;stroke:#000000;stroke-linecap:square;stroke-linejoin:miter;stroke-width:0.8;\"/>\r\n   </g>\r\n   <g id=\"text_15\">\r\n    <!-- Median Salaries by Company -->\r\n    <defs>\r\n     <path d=\"M 9.8125 72.90625 \r\nL 24.515625 72.90625 \r\nL 43.109375 23.296875 \r\nL 61.8125 72.90625 \r\nL 76.515625 72.90625 \r\nL 76.515625 0 \r\nL 66.890625 0 \r\nL 66.890625 64.015625 \r\nL 48.09375 14.015625 \r\nL 38.1875 14.015625 \r\nL 19.390625 64.015625 \r\nL 19.390625 0 \r\nL 9.8125 0 \r\nz\r\n\" id=\"DejaVuSans-77\"/>\r\n     <path d=\"M 45.40625 46.390625 \r\nL 45.40625 75.984375 \r\nL 54.390625 75.984375 \r\nL 54.390625 0 \r\nL 45.40625 0 \r\nL 45.40625 8.203125 \r\nQ 42.578125 3.328125 38.25 0.953125 \r\nQ 33.9375 -1.421875 27.875 -1.421875 \r\nQ 17.96875 -1.421875 11.734375 6.484375 \r\nQ 5.515625 14.40625 5.515625 27.296875 \r\nQ 5.515625 40.1875 11.734375 48.09375 \r\nQ 17.96875 56 27.875 56 \r\nQ 33.9375 56 38.25 53.625 \r\nQ 42.578125 51.265625 45.40625 46.390625 \r\nz\r\nM 14.796875 27.296875 \r\nQ 14.796875 17.390625 18.875 11.75 \r\nQ 22.953125 6.109375 30.078125 6.109375 \r\nQ 37.203125 6.109375 41.296875 11.75 \r\nQ 45.40625 17.390625 45.40625 27.296875 \r\nQ 45.40625 37.203125 41.296875 42.84375 \r\nQ 37.203125 48.484375 30.078125 48.484375 \r\nQ 22.953125 48.484375 18.875 42.84375 \r\nQ 14.796875 37.203125 14.796875 27.296875 \r\nz\r\n\" id=\"DejaVuSans-100\"/>\r\n     <path d=\"M 48.6875 27.296875 \r\nQ 48.6875 37.203125 44.609375 42.84375 \r\nQ 40.53125 48.484375 33.40625 48.484375 \r\nQ 26.265625 48.484375 22.1875 42.84375 \r\nQ 18.109375 37.203125 18.109375 27.296875 \r\nQ 18.109375 17.390625 22.1875 11.75 \r\nQ 26.265625 6.109375 33.40625 6.109375 \r\nQ 40.53125 6.109375 44.609375 11.75 \r\nQ 48.6875 17.390625 48.6875 27.296875 \r\nz\r\nM 18.109375 46.390625 \r\nQ 20.953125 51.265625 25.265625 53.625 \r\nQ 29.59375 56 35.59375 56 \r\nQ 45.5625 56 51.78125 48.09375 \r\nQ 58.015625 40.1875 58.015625 27.296875 \r\nQ 58.015625 14.40625 51.78125 6.484375 \r\nQ 45.5625 -1.421875 35.59375 -1.421875 \r\nQ 29.59375 -1.421875 25.265625 0.953125 \r\nQ 20.953125 3.328125 18.109375 8.203125 \r\nL 18.109375 0 \r\nL 9.078125 0 \r\nL 9.078125 75.984375 \r\nL 18.109375 75.984375 \r\nz\r\n\" id=\"DejaVuSans-98\"/>\r\n     <path d=\"M 64.40625 67.28125 \r\nL 64.40625 56.890625 \r\nQ 59.421875 61.53125 53.78125 63.8125 \r\nQ 48.140625 66.109375 41.796875 66.109375 \r\nQ 29.296875 66.109375 22.65625 58.46875 \r\nQ 16.015625 50.828125 16.015625 36.375 \r\nQ 16.015625 21.96875 22.65625 14.328125 \r\nQ 29.296875 6.6875 41.796875 6.6875 \r\nQ 48.140625 6.6875 53.78125 8.984375 \r\nQ 59.421875 11.28125 64.40625 15.921875 \r\nL 64.40625 5.609375 \r\nQ 59.234375 2.09375 53.4375 0.328125 \r\nQ 47.65625 -1.421875 41.21875 -1.421875 \r\nQ 24.65625 -1.421875 15.125 8.703125 \r\nQ 5.609375 18.84375 5.609375 36.375 \r\nQ 5.609375 53.953125 15.125 64.078125 \r\nQ 24.65625 74.21875 41.21875 74.21875 \r\nQ 47.75 74.21875 53.53125 72.484375 \r\nQ 59.328125 70.75 64.40625 67.28125 \r\nz\r\n\" id=\"DejaVuSans-67\"/>\r\n     <path d=\"M 52 44.1875 \r\nQ 55.375 50.25 60.0625 53.125 \r\nQ 64.75 56 71.09375 56 \r\nQ 79.640625 56 84.28125 50.015625 \r\nQ 88.921875 44.046875 88.921875 33.015625 \r\nL 88.921875 0 \r\nL 79.890625 0 \r\nL 79.890625 32.71875 \r\nQ 79.890625 40.578125 77.09375 44.375 \r\nQ 74.3125 48.1875 68.609375 48.1875 \r\nQ 61.625 48.1875 57.5625 43.546875 \r\nQ 53.515625 38.921875 53.515625 30.90625 \r\nL 53.515625 0 \r\nL 44.484375 0 \r\nL 44.484375 32.71875 \r\nQ 44.484375 40.625 41.703125 44.40625 \r\nQ 38.921875 48.1875 33.109375 48.1875 \r\nQ 26.21875 48.1875 22.15625 43.53125 \r\nQ 18.109375 38.875 18.109375 30.90625 \r\nL 18.109375 0 \r\nL 9.078125 0 \r\nL 9.078125 54.6875 \r\nL 18.109375 54.6875 \r\nL 18.109375 46.1875 \r\nQ 21.1875 51.21875 25.484375 53.609375 \r\nQ 29.78125 56 35.6875 56 \r\nQ 41.65625 56 45.828125 52.96875 \r\nQ 50 49.953125 52 44.1875 \r\nz\r\n\" id=\"DejaVuSans-109\"/>\r\n    </defs>\r\n    <g transform=\"translate(164.367813 16.318125)scale(0.12 -0.12)\">\r\n     <use xlink:href=\"#DejaVuSans-77\"/>\r\n     <use x=\"86.279297\" xlink:href=\"#DejaVuSans-101\"/>\r\n     <use x=\"147.802734\" xlink:href=\"#DejaVuSans-100\"/>\r\n     <use x=\"211.279297\" xlink:href=\"#DejaVuSans-105\"/>\r\n     <use x=\"239.0625\" xlink:href=\"#DejaVuSans-97\"/>\r\n     <use x=\"300.341797\" xlink:href=\"#DejaVuSans-110\"/>\r\n     <use x=\"363.720703\" xlink:href=\"#DejaVuSans-32\"/>\r\n     <use x=\"395.507812\" xlink:href=\"#DejaVuSans-83\"/>\r\n     <use x=\"458.984375\" xlink:href=\"#DejaVuSans-97\"/>\r\n     <use x=\"520.263672\" xlink:href=\"#DejaVuSans-108\"/>\r\n     <use x=\"548.046875\" xlink:href=\"#DejaVuSans-97\"/>\r\n     <use x=\"609.326172\" xlink:href=\"#DejaVuSans-114\"/>\r\n     <use x=\"650.439453\" xlink:href=\"#DejaVuSans-105\"/>\r\n     <use x=\"678.222656\" xlink:href=\"#DejaVuSans-101\"/>\r\n     <use x=\"739.746094\" xlink:href=\"#DejaVuSans-115\"/>\r\n     <use x=\"791.845703\" xlink:href=\"#DejaVuSans-32\"/>\r\n     <use x=\"823.632812\" xlink:href=\"#DejaVuSans-98\"/>\r\n     <use x=\"887.109375\" xlink:href=\"#DejaVuSans-121\"/>\r\n     <use x=\"946.289062\" xlink:href=\"#DejaVuSans-32\"/>\r\n     <use x=\"978.076172\" xlink:href=\"#DejaVuSans-67\"/>\r\n     <use x=\"1047.900391\" xlink:href=\"#DejaVuSans-111\"/>\r\n     <use x=\"1109.082031\" xlink:href=\"#DejaVuSans-109\"/>\r\n     <use x=\"1206.494141\" xlink:href=\"#DejaVuSans-112\"/>\r\n     <use x=\"1269.970703\" xlink:href=\"#DejaVuSans-97\"/>\r\n     <use x=\"1331.25\" xlink:href=\"#DejaVuSans-110\"/>\r\n     <use x=\"1394.628906\" xlink:href=\"#DejaVuSans-121\"/>\r\n    </g>\r\n   </g>\r\n   <g id=\"legend_1\">\r\n    <g id=\"patch_21\">\r\n     <path d=\"M 318.151563 59.674375 \r\nL 411.998438 59.674375 \r\nQ 413.998438 59.674375 413.998438 57.674375 \r\nL 413.998438 29.318125 \r\nQ 413.998438 27.318125 411.998438 27.318125 \r\nL 318.151563 27.318125 \r\nQ 316.151563 27.318125 316.151563 29.318125 \r\nL 316.151563 57.674375 \r\nQ 316.151563 59.674375 318.151563 59.674375 \r\nz\r\n\" style=\"fill:#ffffff;opacity:0.8;stroke:#cccccc;stroke-linejoin:miter;\"/>\r\n    </g>\r\n    <g id=\"patch_22\">\r\n     <path d=\"M 320.151563 38.916562 \r\nL 340.151563 38.916562 \r\nL 340.151563 31.916562 \r\nL 320.151563 31.916562 \r\nz\r\n\" style=\"fill:#5f9ea0;\"/>\r\n    </g>\r\n    <g id=\"text_16\">\r\n     <!-- Early Career -->\r\n     <g transform=\"translate(348.151563 38.916562)scale(0.1 -0.1)\">\r\n      <use xlink:href=\"#DejaVuSans-69\"/>\r\n      <use x=\"63.183594\" xlink:href=\"#DejaVuSans-97\"/>\r\n      <use x=\"124.462891\" xlink:href=\"#DejaVuSans-114\"/>\r\n      <use x=\"165.576172\" xlink:href=\"#DejaVuSans-108\"/>\r\n      <use x=\"193.359375\" xlink:href=\"#DejaVuSans-121\"/>\r\n      <use x=\"252.539062\" xlink:href=\"#DejaVuSans-32\"/>\r\n      <use x=\"284.326172\" xlink:href=\"#DejaVuSans-67\"/>\r\n      <use x=\"354.150391\" xlink:href=\"#DejaVuSans-97\"/>\r\n      <use x=\"415.429688\" xlink:href=\"#DejaVuSans-114\"/>\r\n      <use x=\"454.292969\" xlink:href=\"#DejaVuSans-101\"/>\r\n      <use x=\"515.816406\" xlink:href=\"#DejaVuSans-101\"/>\r\n      <use x=\"577.339844\" xlink:href=\"#DejaVuSans-114\"/>\r\n     </g>\r\n    </g>\r\n    <g id=\"patch_23\">\r\n     <path d=\"M 320.151563 53.594687 \r\nL 340.151563 53.594687 \r\nL 340.151563 46.594687 \r\nL 320.151563 46.594687 \r\nz\r\n\" style=\"fill:#000080;\"/>\r\n    </g>\r\n    <g id=\"text_17\">\r\n     <!-- Mid Career -->\r\n     <g transform=\"translate(348.151563 53.594687)scale(0.1 -0.1)\">\r\n      <use xlink:href=\"#DejaVuSans-77\"/>\r\n      <use x=\"86.279297\" xlink:href=\"#DejaVuSans-105\"/>\r\n      <use x=\"114.0625\" xlink:href=\"#DejaVuSans-100\"/>\r\n      <use x=\"177.539062\" xlink:href=\"#DejaVuSans-32\"/>\r\n      <use x=\"209.326172\" xlink:href=\"#DejaVuSans-67\"/>\r\n      <use x=\"279.150391\" xlink:href=\"#DejaVuSans-97\"/>\r\n      <use x=\"340.429688\" xlink:href=\"#DejaVuSans-114\"/>\r\n      <use x=\"379.292969\" xlink:href=\"#DejaVuSans-101\"/>\r\n      <use x=\"440.816406\" xlink:href=\"#DejaVuSans-101\"/>\r\n      <use x=\"502.339844\" xlink:href=\"#DejaVuSans-114\"/>\r\n     </g>\r\n    </g>\r\n   </g>\r\n  </g>\r\n </g>\r\n <defs>\r\n  <clipPath id=\"p909f25b0fd\">\r\n   <rect height=\"652.32\" width=\"334.8\" x=\"84.198438\" y=\"22.318125\"/>\r\n  </clipPath>\r\n </defs>\r\n</svg>\r\n",
      "image/png": "[encoded data removed]"
     },
     "metadata": {
      "needs_background": "light"
     }
    }
   ],
   "source": [
    "x = salary_pivot[\"Job Title\"]\n",
    "y1 = salary_pivot[\"Early Career Median Pay\"]\n",
    "y2 = salary_pivot[\"Mid-Career Median Pay\"]\n",
    "width = len(x)      # the width of the bars: can also be len(x) sequence\n",
    "\n",
    "fig, ax = plt.subplots(figsize=(6,12))\n",
    "\n",
    "plt.barh(x, y1, label='Early Career',color='cadetblue')\n",
    "plt.barh(x, y2, left=y1,label='Mid Career',color='navy')\n",
    "# plt.xticks(rotation=90)\n",
    "ax.set_xlabel('Annual Salaries')\n",
    "ax.set_title('Median Salaries by Company')\n",
    "ax.legend()\n",
    "\n",
    "plt.show()"
   ]
  },
  {
   "cell_type": "code",
   "execution_count": null,
   "metadata": {},
   "outputs": [],
   "source": []
  }
 ]
}