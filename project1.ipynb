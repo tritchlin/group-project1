{
 "metadata": {
  "language_info": {
   "codemirror_mode": {
    "name": "ipython",
    "version": 3
   },
   "file_extension": ".py",
   "mimetype": "text/x-python",
   "name": "python",
   "nbconvert_exporter": "python",
   "pygments_lexer": "ipython3",
   "version": "3.8.8"
  },
  "orig_nbformat": 4,
  "kernelspec": {
   "name": "python3",
   "display_name": "Python 3.8.8 64-bit ('base': conda)"
  },
  "interpreter": {
   "hash": "dca0ade3e726a953b501b15e8e990130d2b7799f14cfd9f4271676035ebe5511"
  }
 },
 "nbformat": 4,
 "nbformat_minor": 2,
 "cells": [
  {
   "cell_type": "code",
   "execution_count": 1,
   "metadata": {},
   "outputs": [],
   "source": [
    "import matplotlib.pyplot as plt\n",
    "import pandas as pd\n",
    "import numpy as np\n",
    "import requests\n",
    "import time\n",
    "from scipy.stats import linregress"
   ]
  },
  {
   "cell_type": "code",
   "execution_count": 54,
   "metadata": {},
   "outputs": [
    {
     "output_type": "execute_result",
     "data": {
      "text/plain": [
       "      company  year                race gender          job_category count\n",
       "0     23andMe  2016  Hispanic_or_Latino   male            Executives     0\n",
       "1     23andMe  2016  Hispanic_or_Latino   male              Managers     1\n",
       "2     23andMe  2016  Hispanic_or_Latino   male         Professionals     7\n",
       "3     23andMe  2016  Hispanic_or_Latino   male           Technicians     0\n",
       "4     23andMe  2016  Hispanic_or_Latino   male         Sales workers     0\n",
       "...       ...   ...                 ...    ...                   ...   ...\n",
       "4495  Sanmina  2016      Overall_totals    NaN  laborers and helpers     4\n",
       "4496  Sanmina  2016      Overall_totals    NaN       Service workers    57\n",
       "4497  Sanmina  2016      Overall_totals    NaN                Totals  5205\n",
       "4498  Sanmina  2016      Overall_totals    NaN       Previous_totals  5615\n",
       "4499  Sanmina  2016      Overall_totals    NaN              Managers   591\n",
       "\n",
       "[4500 rows x 6 columns]"
      ],
      "text/html": "<div>\n<style scoped>\n    .dataframe tbody tr th:only-of-type {\n        vertical-align: middle;\n    }\n\n    .dataframe tbody tr th {\n        vertical-align: top;\n    }\n\n    .dataframe thead th {\n        text-align: right;\n    }\n</style>\n<table border=\"1\" class=\"dataframe\">\n  <thead>\n    <tr style=\"text-align: right;\">\n      <th></th>\n      <th>company</th>\n      <th>year</th>\n      <th>race</th>\n      <th>gender</th>\n      <th>job_category</th>\n      <th>count</th>\n    </tr>\n  </thead>\n  <tbody>\n    <tr>\n      <th>0</th>\n      <td>23andMe</td>\n      <td>2016</td>\n      <td>Hispanic_or_Latino</td>\n      <td>male</td>\n      <td>Executives</td>\n      <td>0</td>\n    </tr>\n    <tr>\n      <th>1</th>\n      <td>23andMe</td>\n      <td>2016</td>\n      <td>Hispanic_or_Latino</td>\n      <td>male</td>\n      <td>Managers</td>\n      <td>1</td>\n    </tr>\n    <tr>\n      <th>2</th>\n      <td>23andMe</td>\n      <td>2016</td>\n      <td>Hispanic_or_Latino</td>\n      <td>male</td>\n      <td>Professionals</td>\n      <td>7</td>\n    </tr>\n    <tr>\n      <th>3</th>\n      <td>23andMe</td>\n      <td>2016</td>\n      <td>Hispanic_or_Latino</td>\n      <td>male</td>\n      <td>Technicians</td>\n      <td>0</td>\n    </tr>\n    <tr>\n      <th>4</th>\n      <td>23andMe</td>\n      <td>2016</td>\n      <td>Hispanic_or_Latino</td>\n      <td>male</td>\n      <td>Sales workers</td>\n      <td>0</td>\n    </tr>\n    <tr>\n      <th>...</th>\n      <td>...</td>\n      <td>...</td>\n      <td>...</td>\n      <td>...</td>\n      <td>...</td>\n      <td>...</td>\n    </tr>\n    <tr>\n      <th>4495</th>\n      <td>Sanmina</td>\n      <td>2016</td>\n      <td>Overall_totals</td>\n      <td>NaN</td>\n      <td>laborers and helpers</td>\n      <td>4</td>\n    </tr>\n    <tr>\n      <th>4496</th>\n      <td>Sanmina</td>\n      <td>2016</td>\n      <td>Overall_totals</td>\n      <td>NaN</td>\n      <td>Service workers</td>\n      <td>57</td>\n    </tr>\n    <tr>\n      <th>4497</th>\n      <td>Sanmina</td>\n      <td>2016</td>\n      <td>Overall_totals</td>\n      <td>NaN</td>\n      <td>Totals</td>\n      <td>5205</td>\n    </tr>\n    <tr>\n      <th>4498</th>\n      <td>Sanmina</td>\n      <td>2016</td>\n      <td>Overall_totals</td>\n      <td>NaN</td>\n      <td>Previous_totals</td>\n      <td>5615</td>\n    </tr>\n    <tr>\n      <th>4499</th>\n      <td>Sanmina</td>\n      <td>2016</td>\n      <td>Overall_totals</td>\n      <td>NaN</td>\n      <td>Managers</td>\n      <td>591</td>\n    </tr>\n  </tbody>\n</table>\n<p>4500 rows × 6 columns</p>\n</div>"
     },
     "metadata": {},
     "execution_count": 54
    }
   ],
   "source": [
    "#Import tables from Data and convert them to dataframes.\n",
    "reveal_data =  pd.read_csv(\"Data/Reveal_EEO1_for_2016.csv\")\n",
    "tech_sector_data = pd.read_csv(\"Data/Tech_sector_diversity_demographics_2016.csv\")\n",
    "reveal_data_df = pd.DataFrame(reveal_data)\n",
    "tech_sector_data_df = pd.DataFrame(tech_sector_data)\n",
    "  "
   ]
  },
  {
   "cell_type": "code",
   "execution_count": 73,
   "metadata": {},
   "outputs": [
    {
     "output_type": "stream",
     "name": "stderr",
     "text": [
      "<ipython-input-73-264255d4e4d9>:5: SettingWithCopyWarning: \nA value is trying to be set on a copy of a slice from a DataFrame.\nTry using .loc[row_indexer,col_indexer] = value instead\n\nSee the caveats in the documentation: https://pandas.pydata.org/pandas-docs/stable/user_guide/indexing.html#returning-a-view-versus-a-copy\n  female_data_professionals [\"count\"] = pd.to_numeric(female_data_professionals[\"count\"])\n"
     ]
    },
    {
     "output_type": "execute_result",
     "data": {
      "text/plain": [
       "company         object\n",
       "year             int64\n",
       "race            object\n",
       "gender          object\n",
       "job_category    object\n",
       "count            int64\n",
       "dtype: object"
      ]
     },
     "metadata": {},
     "execution_count": 73
    }
   ],
   "source": [
    "female_data = reveal_data_df[reveal_data_df[\"gender\"]==\"female\"]\n",
    "female_data_professionals = female_data[female_data[\"job_category\"]==\"Professionals\"]\n",
    "\n",
    "# #Convert count column's values to numerric.\n",
    "female_data_professionals [\"count\"] = pd.to_numeric(female_data_professionals[\"count\"])\n",
    "female_data_professionals.dtypes"
   ]
  },
  {
   "cell_type": "code",
   "execution_count": 74,
   "metadata": {},
   "outputs": [
    {
     "output_type": "execute_result",
     "data": {
      "text/plain": [
       "                                     count\n",
       "race                                      \n",
       "American_Indian_Alaskan_Native         171\n",
       "Asian                                23610\n",
       "Black_or_African_American             2562\n",
       "Hispanic_or_Latino                    3379\n",
       "Native_Hawaiian_or_Pacific_Islander    311\n",
       "Two_or_more_races                      983\n",
       "White                                29432"
      ],
      "text/html": "<div>\n<style scoped>\n    .dataframe tbody tr th:only-of-type {\n        vertical-align: middle;\n    }\n\n    .dataframe tbody tr th {\n        vertical-align: top;\n    }\n\n    .dataframe thead th {\n        text-align: right;\n    }\n</style>\n<table border=\"1\" class=\"dataframe\">\n  <thead>\n    <tr style=\"text-align: right;\">\n      <th></th>\n      <th>count</th>\n    </tr>\n    <tr>\n      <th>race</th>\n      <th></th>\n    </tr>\n  </thead>\n  <tbody>\n    <tr>\n      <th>American_Indian_Alaskan_Native</th>\n      <td>171</td>\n    </tr>\n    <tr>\n      <th>Asian</th>\n      <td>23610</td>\n    </tr>\n    <tr>\n      <th>Black_or_African_American</th>\n      <td>2562</td>\n    </tr>\n    <tr>\n      <th>Hispanic_or_Latino</th>\n      <td>3379</td>\n    </tr>\n    <tr>\n      <th>Native_Hawaiian_or_Pacific_Islander</th>\n      <td>311</td>\n    </tr>\n    <tr>\n      <th>Two_or_more_races</th>\n      <td>983</td>\n    </tr>\n    <tr>\n      <th>White</th>\n      <td>29432</td>\n    </tr>\n  </tbody>\n</table>\n</div>"
     },
     "metadata": {},
     "execution_count": 74
    }
   ],
   "source": [
    "race_data =female_data_professionals.groupby(\"race\")[\"count\"]\n",
    "race_data.sum().to_frame()"
   ]
  },
  {
   "cell_type": "code",
   "execution_count": null,
   "metadata": {},
   "outputs": [],
   "source": []
  }
 ]
}