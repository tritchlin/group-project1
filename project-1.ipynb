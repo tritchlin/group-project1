{
 "cells": [
  {
   "cell_type": "code",
   "execution_count": 60,
   "metadata": {},
   "outputs": [],
   "source": [
    "import matplotlib.pyplot as plt\n",
    "import pandas as pd\n",
    "import numpy as np\n",
    "import requests\n",
    "import time\n",
    "from scipy.stats import linregress"
   ]
  },
  {
   "cell_type": "code",
   "execution_count": 61,
   "metadata": {},
   "outputs": [],
   "source": [
    "#Import tables from Data and convert them to dataframes.\n",
    "reveal_data =  pd.read_csv(\"Downloads/Reveal_EEO1_for_2016.csv\")\n",
    "tech_sector_data = pd.read_csv(\"Downloads/Tech_sector_diversity_demographics_2016.csv\")\n",
    "reveal_data_df = pd.DataFrame(reveal_data)\n",
    "tech_sector_data_df = pd.DataFrame(tech_sector_data)"
   ]
  },
  {
   "cell_type": "code",
   "execution_count": 63,
   "metadata": {},
   "outputs": [
    {
     "data": {
      "text/plain": "job_category       object\nrace_ethnicity     object\ngender             object\ncount               int64\npercentage        float64\ndtype: object"
     },
     "execution_count": 63,
     "metadata": {},
     "output_type": "execute_result"
    }
   ],
   "source": [
    "female_data = tech_sector_data_df[tech_sector_data_df[\"gender\"]==\"female\"]\n",
    "female_data_professionals = female_data[female_data[\"job_category\"]==\"Professionals\"]\n",
    "\n",
    "female_data = tech_sector_data_df[tech_sector_data_df[\"gender\"]==\"female\"]\n",
    "female_data_professionals = female_data[female_data[\"job_category\"]==\"Managers\"]\n",
    "\n",
    "female_data = tech_sector_data_df[tech_sector_data_df[\"gender\"]==\"female\"]\n",
    "female_data_professionals = female_data[female_data[\"job_category\"]==\"Executives\"]\n",
    "\n",
    "\n",
    "# #Convert count column's values to numerric.\n",
    "female_data_professionals [\"count\"] = pd.to_numeric(female_data_professionals[\"count\"])\n",
    "female_data_professionals.dtypes"
   ]
  },
  {
   "cell_type": "code",
   "execution_count": 64,
   "metadata": {},
   "outputs": [
    {
     "data": {
      "text/html": "<div>\n<style scoped>\n    .dataframe tbody tr th:only-of-type {\n        vertical-align: middle;\n    }\n\n    .dataframe tbody tr th {\n        vertical-align: top;\n    }\n\n    .dataframe thead th {\n        text-align: right;\n    }\n</style>\n<table border=\"1\" class=\"dataframe\">\n  <thead>\n    <tr style=\"text-align: right;\">\n      <th></th>\n      <th>Total Positions</th>\n    </tr>\n  </thead>\n  <tbody>\n    <tr>\n      <th>0</th>\n      <td>12</td>\n    </tr>\n  </tbody>\n</table>\n</div>",
      "text/plain": "   Total Positions\n0               12"
     },
     "execution_count": 64,
     "metadata": {},
     "output_type": "execute_result"
    }
   ],
   "source": [
    "# Calculate the Number of Employment levels\n",
    "position_demographics = reveal_data.loc[:, [\"job_category\"]]\n",
    "position_demographics = position_demographics.drop_duplicates()\n",
    "num_positions = position_demographics.count()[0]\n",
    "\n",
    "# Display the total number of positions\n",
    "pd.DataFrame({\"Total Positions\": [num_positions]})\n"
   ]
  },
  {
   "cell_type": "code",
   "execution_count": 65,
   "metadata": {},
   "outputs": [],
   "source": [
    "tech_sector_data_df = tech_sector_data_df.loc[reveal_data_df[\"count\"] != \"na\",:]\n",
    "tech_sector_data_df[\"count\"]= pd.to_numeric(tech_sector_data_df[\"count\"])\n",
    "tech_sector_data_df\n",
    "\n",
    "# Run basic calculations\n",
    "employment_level_counts = tech_sector_data_df.groupby(\"job_category\")[\"count\"].sum().to_frame().reset_index()\n",
    "\n",
    "tech_sector_data_df = tech_sector_data_df[tech_sector_data_df[\"job_category\"].isin([\"Professionals\", \"Managers\",\"Executives\"])]\n"
   ]
  },
  {
   "cell_type": "code",
   "execution_count": 66,
   "metadata": {},
   "outputs": [
    {
     "data": {
      "text/html": "<div>\n<style scoped>\n    .dataframe tbody tr th:only-of-type {\n        vertical-align: middle;\n    }\n\n    .dataframe tbody tr th {\n        vertical-align: top;\n    }\n\n    .dataframe thead th {\n        text-align: right;\n    }\n</style>\n<table border=\"1\" class=\"dataframe\">\n  <thead>\n    <tr style=\"text-align: right;\">\n      <th></th>\n      <th>job_category</th>\n      <th>count</th>\n    </tr>\n  </thead>\n  <tbody>\n    <tr>\n      <th>0</th>\n      <td>All workers</td>\n      <td>1937985</td>\n    </tr>\n    <tr>\n      <th>1</th>\n      <td>Executives</td>\n      <td>29759</td>\n    </tr>\n    <tr>\n      <th>2</th>\n      <td>Managers</td>\n      <td>290776</td>\n    </tr>\n    <tr>\n      <th>3</th>\n      <td>Professionals</td>\n      <td>1020840</td>\n    </tr>\n  </tbody>\n</table>\n</div>",
      "text/plain": "    job_category    count\n0    All workers  1937985\n1     Executives    29759\n2       Managers   290776\n3  Professionals  1020840"
     },
     "execution_count": 66,
     "metadata": {},
     "output_type": "execute_result"
    }
   ],
   "source": [
    "employment_level_counts"
   ]
  },
  {
   "cell_type": "code",
   "execution_count": 67,
   "metadata": {},
   "outputs": [
    {
     "data": {
      "image/png": "[encoded data removed]",
      "text/plain": "<Figure size 432x288 with 1 Axes>"
     },
     "metadata": {},
     "output_type": "display_data"
    }
   ],
   "source": [
    "counts =tech_sector_data_df.job_category.value_counts()\n",
    "plt.pie(counts.values,labels=counts.index.values,autopct='%1.1f%%')\n",
    "\n",
    "plt.show()"
   ]
  },
  {
   "cell_type": "code",
   "execution_count": 68,
   "metadata": {},
   "outputs": [
    {
     "data": {
      "text/html": "<div>\n<style scoped>\n    .dataframe tbody tr th:only-of-type {\n        vertical-align: middle;\n    }\n\n    .dataframe tbody tr th {\n        vertical-align: top;\n    }\n\n    .dataframe thead th {\n        text-align: right;\n    }\n</style>\n<table border=\"1\" class=\"dataframe\">\n  <thead>\n    <tr style=\"text-align: right;\">\n      <th></th>\n      <th>gender</th>\n      <th>count</th>\n    </tr>\n  </thead>\n  <tbody>\n    <tr>\n      <th>0</th>\n      <td>Both</td>\n      <td>461175</td>\n    </tr>\n    <tr>\n      <th>1</th>\n      <td>Female</td>\n      <td>242294</td>\n    </tr>\n    <tr>\n      <th>2</th>\n      <td>Male</td>\n      <td>637906</td>\n    </tr>\n  </tbody>\n</table>\n</div>",
      "text/plain": "   gender   count\n0    Both  461175\n1  Female  242294\n2    Male  637906"
     },
     "execution_count": 68,
     "metadata": {},
     "output_type": "execute_result"
    }
   ],
   "source": [
    "# Run basic calculations\n",
    "gender_data = tech_sector_data_df.groupby(\"job_category\")[\"count\"].sum().to_frame().reset_index()\n",
    "gender_data = tech_sector_data_df.groupby(\"gender\")[\"count\"].sum().to_frame().reset_index()\n",
    "\n",
    "tech_sector_data_df = tech_sector_data_df[tech_sector_data_df[\"job_category\"].isin([\"Professionals\", \"Managers\",\"Executives\"])]\n",
    "tech_sector_data_df = tech_sector_data_df[tech_sector_data_df[\"gender\"].isin([\"Female\", \"Male\",\"Both\"])]\n",
    "\n",
    "\n",
    "gender_data\n",
    "\n"
   ]
  },
  {
   "cell_type": "code",
   "execution_count": 69,
   "metadata": {},
   "outputs": [
    {
     "data": {
      "image/png": "[encoded data removed]",
      "text/plain": "<Figure size 432x288 with 1 Axes>"
     },
     "metadata": {},
     "output_type": "display_data"
    }
   ],
   "source": [
    "counts =tech_sector_data_df.gender.value_counts()\n",
    "plt.pie(counts.values,labels=counts.index.values,autopct='%1.1f%%')\n",
    "\n",
    "plt.show()"
   ]
  },
  {
   "cell_type": "code",
   "execution_count": null,
   "metadata": {},
   "outputs": [],
   "source": []
  }
 ],
 "metadata": {
  "kernelspec": {
   "display_name": "Python 3.6.10 64-bit ('PythonData': conda)",
   "name": "python3610jvsc74a57bd05e88ae0d8b4ee161d9389281caa7937fbc45e035e0c0b705f449214ecaa902c3"
  },
  "language_info": {
   "name": "python",
   "version": ""
  },
  "metadata": {
   "interpreter": {
    "hash": "5e88ae0d8b4ee161d9389281caa7937fbc45e035e0c0b705f449214ecaa902c3"
   }
  }
 },
 "nbformat": 4,
 "nbformat_minor": 4
}