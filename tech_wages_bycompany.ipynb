{
 "metadata": {
  "language_info": {
   "codemirror_mode": {
    "name": "ipython",
    "version": 3
   },
   "file_extension": ".py",
   "mimetype": "text/x-python",
   "name": "python",
   "nbconvert_exporter": "python",
   "pygments_lexer": "ipython3",
   "version": "3.6.10"
  },
  "orig_nbformat": 4,
  "kernelspec": {
   "name": "python3",
   "display_name": "Python 3.6.10 64-bit ('PythonData': conda)"
  },
  "interpreter": {
   "hash": "03e16bf20b38c5bc3bf00c976c15238982088169e9834c6084af3096887b3e40"
  }
 },
 "nbformat": 4,
 "nbformat_minor": 2,
 "cells": [
  {
   "cell_type": "code",
   "execution_count": 1,
   "metadata": {},
   "outputs": [],
   "source": [
    "# Dependencies and Setup\n",
    "import matplotlib.pyplot as plt\n",
    "import pandas as pd\n",
    "import numpy as np\n",
    "import json"
   ]
  },
  {
   "cell_type": "code",
   "execution_count": 2,
   "metadata": {},
   "outputs": [
    {
     "output_type": "execute_result",
     "data": {
      "text/plain": [
       "         Date          Type              Company   Female %    Male %   \\\n",
       "0        2014       Country      U.S. Population       50.79     49.21   \n",
       "1        2014  Social Media             Facebook       31.00     69.00   \n",
       "2        2014  Social Media            Instagram       31.00     69.00   \n",
       "3        2014  Social Media              Google+       30.00     70.00   \n",
       "4        2014  Social Media              YouTube       30.00     70.00   \n",
       "..        ...           ...                  ...         ...       ...   \n",
       "157  May 2018          Tech              Netflix       43.00     57.00   \n",
       "158  May 2018          Tech                 Yelp       54.00     46.00   \n",
       "159  May 2018        Entity  DiversityInc top 50       44.00     56.00   \n",
       "160  May 2018        Entity     Fortune 500 CEOs        6.00     94.00   \n",
       "161  May 2018    Government          US Congress       20.00     80.00   \n",
       "\n",
       "      % White    % Asian    % Latino    % Black    % Multi   % Other   \\\n",
       "0         64.0        4.0        16.0       12.0        1.0     3.00    \n",
       "1         57.0       34.0         4.0        2.0        3.0      -      \n",
       "2         57.0       34.0         4.0        2.0        3.0      -      \n",
       "3         61.0       30.0         3.0        2.0        4.0       NaN   \n",
       "4         61.0       30.0         3.0        2.0        4.0       NaN   \n",
       "..         ...        ...         ...        ...        ...       ...   \n",
       "157       49.0       24.0         6.0        4.0        NaN     4.00    \n",
       "158       62.0       15.0        10.0        6.0        5.0     2.00    \n",
       "159       78.0        6.0         7.0        9.0        NaN       NaN   \n",
       "160       73.0       21.0         3.0        2.0        0.5     0.50    \n",
       "161       80.0        3.0         7.0        9.0        NaN     1.00    \n",
       "\n",
       "      % Undeclared   \n",
       "0               NaN  \n",
       "1               NaN  \n",
       "2               NaN  \n",
       "3               NaN  \n",
       "4               NaN  \n",
       "..              ...  \n",
       "157            13.0  \n",
       "158             NaN  \n",
       "159             NaN  \n",
       "160             NaN  \n",
       "161             NaN  \n",
       "\n",
       "[162 rows x 12 columns]"
      ],
      "text/html": "<div>\n<style scoped>\n    .dataframe tbody tr th:only-of-type {\n        vertical-align: middle;\n    }\n\n    .dataframe tbody tr th {\n        vertical-align: top;\n    }\n\n    .dataframe thead th {\n        text-align: right;\n    }\n</style>\n<table border=\"1\" class=\"dataframe\">\n  <thead>\n    <tr style=\"text-align: right;\">\n      <th></th>\n      <th>Date</th>\n      <th>Type</th>\n      <th>Company</th>\n      <th>Female %</th>\n      <th>Male %</th>\n      <th>% White</th>\n      <th>% Asian</th>\n      <th>% Latino</th>\n      <th>% Black</th>\n      <th>% Multi</th>\n      <th>% Other</th>\n      <th>% Undeclared</th>\n    </tr>\n  </thead>\n  <tbody>\n    <tr>\n      <th>0</th>\n      <td>2014</td>\n      <td>Country</td>\n      <td>U.S. Population</td>\n      <td>50.79</td>\n      <td>49.21</td>\n      <td>64.0</td>\n      <td>4.0</td>\n      <td>16.0</td>\n      <td>12.0</td>\n      <td>1.0</td>\n      <td>3.00</td>\n      <td>NaN</td>\n    </tr>\n    <tr>\n      <th>1</th>\n      <td>2014</td>\n      <td>Social Media</td>\n      <td>Facebook</td>\n      <td>31.00</td>\n      <td>69.00</td>\n      <td>57.0</td>\n      <td>34.0</td>\n      <td>4.0</td>\n      <td>2.0</td>\n      <td>3.0</td>\n      <td>-</td>\n      <td>NaN</td>\n    </tr>\n    <tr>\n      <th>2</th>\n      <td>2014</td>\n      <td>Social Media</td>\n      <td>Instagram</td>\n      <td>31.00</td>\n      <td>69.00</td>\n      <td>57.0</td>\n      <td>34.0</td>\n      <td>4.0</td>\n      <td>2.0</td>\n      <td>3.0</td>\n      <td>-</td>\n      <td>NaN</td>\n    </tr>\n    <tr>\n      <th>3</th>\n      <td>2014</td>\n      <td>Social Media</td>\n      <td>Google+</td>\n      <td>30.00</td>\n      <td>70.00</td>\n      <td>61.0</td>\n      <td>30.0</td>\n      <td>3.0</td>\n      <td>2.0</td>\n      <td>4.0</td>\n      <td>NaN</td>\n      <td>NaN</td>\n    </tr>\n    <tr>\n      <th>4</th>\n      <td>2014</td>\n      <td>Social Media</td>\n      <td>YouTube</td>\n      <td>30.00</td>\n      <td>70.00</td>\n      <td>61.0</td>\n      <td>30.0</td>\n      <td>3.0</td>\n      <td>2.0</td>\n      <td>4.0</td>\n      <td>NaN</td>\n      <td>NaN</td>\n    </tr>\n    <tr>\n      <th>...</th>\n      <td>...</td>\n      <td>...</td>\n      <td>...</td>\n      <td>...</td>\n      <td>...</td>\n      <td>...</td>\n      <td>...</td>\n      <td>...</td>\n      <td>...</td>\n      <td>...</td>\n      <td>...</td>\n      <td>...</td>\n    </tr>\n    <tr>\n      <th>157</th>\n      <td>May 2018</td>\n      <td>Tech</td>\n      <td>Netflix</td>\n      <td>43.00</td>\n      <td>57.00</td>\n      <td>49.0</td>\n      <td>24.0</td>\n      <td>6.0</td>\n      <td>4.0</td>\n      <td>NaN</td>\n      <td>4.00</td>\n      <td>13.0</td>\n    </tr>\n    <tr>\n      <th>158</th>\n      <td>May 2018</td>\n      <td>Tech</td>\n      <td>Yelp</td>\n      <td>54.00</td>\n      <td>46.00</td>\n      <td>62.0</td>\n      <td>15.0</td>\n      <td>10.0</td>\n      <td>6.0</td>\n      <td>5.0</td>\n      <td>2.00</td>\n      <td>NaN</td>\n    </tr>\n    <tr>\n      <th>159</th>\n      <td>May 2018</td>\n      <td>Entity</td>\n      <td>DiversityInc top 50</td>\n      <td>44.00</td>\n      <td>56.00</td>\n      <td>78.0</td>\n      <td>6.0</td>\n      <td>7.0</td>\n      <td>9.0</td>\n      <td>NaN</td>\n      <td>NaN</td>\n      <td>NaN</td>\n    </tr>\n    <tr>\n      <th>160</th>\n      <td>May 2018</td>\n      <td>Entity</td>\n      <td>Fortune 500 CEOs</td>\n      <td>6.00</td>\n      <td>94.00</td>\n      <td>73.0</td>\n      <td>21.0</td>\n      <td>3.0</td>\n      <td>2.0</td>\n      <td>0.5</td>\n      <td>0.50</td>\n      <td>NaN</td>\n    </tr>\n    <tr>\n      <th>161</th>\n      <td>May 2018</td>\n      <td>Government</td>\n      <td>US Congress</td>\n      <td>20.00</td>\n      <td>80.00</td>\n      <td>80.0</td>\n      <td>3.0</td>\n      <td>7.0</td>\n      <td>9.0</td>\n      <td>NaN</td>\n      <td>1.00</td>\n      <td>NaN</td>\n    </tr>\n  </tbody>\n</table>\n<p>162 rows × 12 columns</p>\n</div>"
     },
     "metadata": {},
     "execution_count": 2
    }
   ],
   "source": [
    "# Load the csv exported in Part I to a DataFrame\n",
    "diversity_df = pd.read_csv(\"Data\\Employee Diversity in Tech.csv\",sep=\"\\t\")\n",
    "tech_salaries = pd.read_csv(\"Data\\Top tech companies comparison 2014_2015.csv\")\n",
    "\n",
    "# salary_survey\n",
    "diversity_df"
   ]
  },
  {
   "cell_type": "code",
   "execution_count": 3,
   "metadata": {},
   "outputs": [
    {
     "output_type": "execute_result",
     "data": {
      "text/plain": [
       "               Female %     Male %    % White    % Asian    % Latino   \\\n",
       "Company                                                                 \n",
       "AirBnB         41.150000  59.000000     49.810  36.360000    7.440000   \n",
       "Amazon         37.800000  62.200000     55.200  13.000000   10.600000   \n",
       "Apple          31.400000  68.600000     54.600  18.800000   12.000000   \n",
       "Cisco          23.400000  76.600000     53.600  37.000000    5.000000   \n",
       "Dell           29.200000  71.070000     68.650   9.110000   11.140000   \n",
       "Etsy           52.500000  47.500000     79.000  10.500000    4.000000   \n",
       "Google         30.600000  69.400000     57.800  32.800000    3.400000   \n",
       "Groupon        45.800000  54.200000     67.400  17.000000    6.200000   \n",
       "HP             34.600000  65.400000     72.400   8.400000   11.600000   \n",
       "Indiegogo      47.000000  53.000000     61.600  25.000000    7.600000   \n",
       "Ingram Micro   37.600000  62.532000     58.618  11.912000   17.020000   \n",
       "Intel          25.500000  74.744000     55.646  30.930000    8.738000   \n",
       "Microsoft      27.400000  72.600000     58.120  29.740000    5.460000   \n",
       "Netflix        43.000000  57.000000     49.000  24.000000    6.000000   \n",
       "Nvidia         16.430000  83.570000     37.600  44.400000    3.000000   \n",
       "Pandora        49.000000  51.000000     68.600  13.600000    7.400000   \n",
       "Salesforce     29.780000  70.140000     66.138  22.774000    3.980000   \n",
       "Slack          44.700000  55.300000     58.700  24.400000    6.900000   \n",
       "Uber           36.733333  63.266667     49.400  31.366667    5.766667   \n",
       "Yahoo!         37.000000  62.400000     47.400  41.800000    4.000000   \n",
       "Yelp           54.000000  46.000000     62.000  15.000000   10.000000   \n",
       "eBay           41.200000  58.800000     56.600  30.600000    5.000000   \n",
       "\n",
       "               % Black    % Multi    % Undeclared   \n",
       "Company                                             \n",
       "AirBnB         3.450000      2.520             NaN  \n",
       "Amazon        17.400000        NaN             NaN  \n",
       "Apple          8.400000      2.400            4.20  \n",
       "Cisco          4.000000      1.000             NaN  \n",
       "Dell          10.040000        NaN             NaN  \n",
       "Etsy           3.000000      3.500             NaN  \n",
       "Google         2.200000      3.600             NaN  \n",
       "Groupon        5.600000        NaN             NaN  \n",
       "HP             5.800000      1.400             NaN  \n",
       "Indiegogo      2.800000        NaN             NaN  \n",
       "Ingram Micro  11.678000      1.000             NaN  \n",
       "Intel          3.766000      0.600             NaN  \n",
       "Microsoft      3.700000      1.520             NaN  \n",
       "Netflix        4.000000        NaN           13.00  \n",
       "Nvidia         1.000000     14.000             NaN  \n",
       "Pandora        3.800000      5.600             NaN  \n",
       "Salesforce     2.306000      2.312            1.99  \n",
       "Slack          4.900000      4.400             NaN  \n",
       "Uber           8.566667      4.300             NaN  \n",
       "Yahoo!         2.000000      2.000            1.00  \n",
       "Yelp           6.000000      5.000             NaN  \n",
       "eBay           5.600000      1.000             NaN  "
      ],
      "text/html": "<div>\n<style scoped>\n    .dataframe tbody tr th:only-of-type {\n        vertical-align: middle;\n    }\n\n    .dataframe tbody tr th {\n        vertical-align: top;\n    }\n\n    .dataframe thead th {\n        text-align: right;\n    }\n</style>\n<table border=\"1\" class=\"dataframe\">\n  <thead>\n    <tr style=\"text-align: right;\">\n      <th></th>\n      <th>Female %</th>\n      <th>Male %</th>\n      <th>% White</th>\n      <th>% Asian</th>\n      <th>% Latino</th>\n      <th>% Black</th>\n      <th>% Multi</th>\n      <th>% Undeclared</th>\n    </tr>\n    <tr>\n      <th>Company</th>\n      <th></th>\n      <th></th>\n      <th></th>\n      <th></th>\n      <th></th>\n      <th></th>\n      <th></th>\n      <th></th>\n    </tr>\n  </thead>\n  <tbody>\n    <tr>\n      <th>AirBnB</th>\n      <td>41.150000</td>\n      <td>59.000000</td>\n      <td>49.810</td>\n      <td>36.360000</td>\n      <td>7.440000</td>\n      <td>3.450000</td>\n      <td>2.520</td>\n      <td>NaN</td>\n    </tr>\n    <tr>\n      <th>Amazon</th>\n      <td>37.800000</td>\n      <td>62.200000</td>\n      <td>55.200</td>\n      <td>13.000000</td>\n      <td>10.600000</td>\n      <td>17.400000</td>\n      <td>NaN</td>\n      <td>NaN</td>\n    </tr>\n    <tr>\n      <th>Apple</th>\n      <td>31.400000</td>\n      <td>68.600000</td>\n      <td>54.600</td>\n      <td>18.800000</td>\n      <td>12.000000</td>\n      <td>8.400000</td>\n      <td>2.400</td>\n      <td>4.20</td>\n    </tr>\n    <tr>\n      <th>Cisco</th>\n      <td>23.400000</td>\n      <td>76.600000</td>\n      <td>53.600</td>\n      <td>37.000000</td>\n      <td>5.000000</td>\n      <td>4.000000</td>\n      <td>1.000</td>\n      <td>NaN</td>\n    </tr>\n    <tr>\n      <th>Dell</th>\n      <td>29.200000</td>\n      <td>71.070000</td>\n      <td>68.650</td>\n      <td>9.110000</td>\n      <td>11.140000</td>\n      <td>10.040000</td>\n      <td>NaN</td>\n      <td>NaN</td>\n    </tr>\n    <tr>\n      <th>Etsy</th>\n      <td>52.500000</td>\n      <td>47.500000</td>\n      <td>79.000</td>\n      <td>10.500000</td>\n      <td>4.000000</td>\n      <td>3.000000</td>\n      <td>3.500</td>\n      <td>NaN</td>\n    </tr>\n    <tr>\n      <th>Google</th>\n      <td>30.600000</td>\n      <td>69.400000</td>\n      <td>57.800</td>\n      <td>32.800000</td>\n      <td>3.400000</td>\n      <td>2.200000</td>\n      <td>3.600</td>\n      <td>NaN</td>\n    </tr>\n    <tr>\n      <th>Groupon</th>\n      <td>45.800000</td>\n      <td>54.200000</td>\n      <td>67.400</td>\n      <td>17.000000</td>\n      <td>6.200000</td>\n      <td>5.600000</td>\n      <td>NaN</td>\n      <td>NaN</td>\n    </tr>\n    <tr>\n      <th>HP</th>\n      <td>34.600000</td>\n      <td>65.400000</td>\n      <td>72.400</td>\n      <td>8.400000</td>\n      <td>11.600000</td>\n      <td>5.800000</td>\n      <td>1.400</td>\n      <td>NaN</td>\n    </tr>\n    <tr>\n      <th>Indiegogo</th>\n      <td>47.000000</td>\n      <td>53.000000</td>\n      <td>61.600</td>\n      <td>25.000000</td>\n      <td>7.600000</td>\n      <td>2.800000</td>\n      <td>NaN</td>\n      <td>NaN</td>\n    </tr>\n    <tr>\n      <th>Ingram Micro</th>\n      <td>37.600000</td>\n      <td>62.532000</td>\n      <td>58.618</td>\n      <td>11.912000</td>\n      <td>17.020000</td>\n      <td>11.678000</td>\n      <td>1.000</td>\n      <td>NaN</td>\n    </tr>\n    <tr>\n      <th>Intel</th>\n      <td>25.500000</td>\n      <td>74.744000</td>\n      <td>55.646</td>\n      <td>30.930000</td>\n      <td>8.738000</td>\n      <td>3.766000</td>\n      <td>0.600</td>\n      <td>NaN</td>\n    </tr>\n    <tr>\n      <th>Microsoft</th>\n      <td>27.400000</td>\n      <td>72.600000</td>\n      <td>58.120</td>\n      <td>29.740000</td>\n      <td>5.460000</td>\n      <td>3.700000</td>\n      <td>1.520</td>\n      <td>NaN</td>\n    </tr>\n    <tr>\n      <th>Netflix</th>\n      <td>43.000000</td>\n      <td>57.000000</td>\n      <td>49.000</td>\n      <td>24.000000</td>\n      <td>6.000000</td>\n      <td>4.000000</td>\n      <td>NaN</td>\n      <td>13.00</td>\n    </tr>\n    <tr>\n      <th>Nvidia</th>\n      <td>16.430000</td>\n      <td>83.570000</td>\n      <td>37.600</td>\n      <td>44.400000</td>\n      <td>3.000000</td>\n      <td>1.000000</td>\n      <td>14.000</td>\n      <td>NaN</td>\n    </tr>\n    <tr>\n      <th>Pandora</th>\n      <td>49.000000</td>\n      <td>51.000000</td>\n      <td>68.600</td>\n      <td>13.600000</td>\n      <td>7.400000</td>\n      <td>3.800000</td>\n      <td>5.600</td>\n      <td>NaN</td>\n    </tr>\n    <tr>\n      <th>Salesforce</th>\n      <td>29.780000</td>\n      <td>70.140000</td>\n      <td>66.138</td>\n      <td>22.774000</td>\n      <td>3.980000</td>\n      <td>2.306000</td>\n      <td>2.312</td>\n      <td>1.99</td>\n    </tr>\n    <tr>\n      <th>Slack</th>\n      <td>44.700000</td>\n      <td>55.300000</td>\n      <td>58.700</td>\n      <td>24.400000</td>\n      <td>6.900000</td>\n      <td>4.900000</td>\n      <td>4.400</td>\n      <td>NaN</td>\n    </tr>\n    <tr>\n      <th>Uber</th>\n      <td>36.733333</td>\n      <td>63.266667</td>\n      <td>49.400</td>\n      <td>31.366667</td>\n      <td>5.766667</td>\n      <td>8.566667</td>\n      <td>4.300</td>\n      <td>NaN</td>\n    </tr>\n    <tr>\n      <th>Yahoo!</th>\n      <td>37.000000</td>\n      <td>62.400000</td>\n      <td>47.400</td>\n      <td>41.800000</td>\n      <td>4.000000</td>\n      <td>2.000000</td>\n      <td>2.000</td>\n      <td>1.00</td>\n    </tr>\n    <tr>\n      <th>Yelp</th>\n      <td>54.000000</td>\n      <td>46.000000</td>\n      <td>62.000</td>\n      <td>15.000000</td>\n      <td>10.000000</td>\n      <td>6.000000</td>\n      <td>5.000</td>\n      <td>NaN</td>\n    </tr>\n    <tr>\n      <th>eBay</th>\n      <td>41.200000</td>\n      <td>58.800000</td>\n      <td>56.600</td>\n      <td>30.600000</td>\n      <td>5.000000</td>\n      <td>5.600000</td>\n      <td>1.000</td>\n      <td>NaN</td>\n    </tr>\n  </tbody>\n</table>\n</div>"
     },
     "metadata": {},
     "execution_count": 3
    }
   ],
   "source": [
    "tech_diversity = diversity_df[diversity_df[\"Type\"] == \"Tech\"]\n",
    "tech_div_summary = tech_diversity.groupby(\"Company\").mean()\n",
    "tech_div_summary"
   ]
  },
  {
   "cell_type": "code",
   "execution_count": 4,
   "metadata": {},
   "outputs": [
    {
     "output_type": "execute_result",
     "data": {
      "text/plain": [
       "['Yahoo!',\n",
       " 'Google',\n",
       " 'Apple',\n",
       " 'Cisco',\n",
       " 'eBay',\n",
       " 'HP',\n",
       " 'Indiegogo',\n",
       " 'Nvidia',\n",
       " 'Dell',\n",
       " 'Ingram Micro',\n",
       " 'Intel',\n",
       " 'Groupon',\n",
       " 'Amazon',\n",
       " 'Salesforce',\n",
       " 'Pandora',\n",
       " 'Microsoft',\n",
       " 'Etsy',\n",
       " 'Uber',\n",
       " 'Slack',\n",
       " 'AirBnB',\n",
       " 'Netflix',\n",
       " 'Yelp']"
      ]
     },
     "metadata": {},
     "execution_count": 4
    }
   ],
   "source": [
    "tech_companies = list(tech_diversity[\"Company\"].unique())\n",
    "tech_companies"
   ]
  },
  {
   "cell_type": "code",
   "execution_count": 5,
   "metadata": {},
   "outputs": [
    {
     "output_type": "execute_result",
     "data": {
      "text/plain": [
       "   Employer Name Early Career Median Pay Mid-Career Median Pay  Median Age  \\\n",
       "0             HP                 $65,400              $104,200          38   \n",
       "1         Oracle                 $71,400              $126,400          37   \n",
       "2            IBM                 $72,700              $112,700          36   \n",
       "3      Microsoft                $102,500              $139,700          33   \n",
       "4       Qualcomm                 $94,400              $132,500          33   \n",
       "5          Cisco                 $83,800              $134,700          33   \n",
       "6           eBay                 $88,900              $136,000          33   \n",
       "7        Samsung                 $65,900              $143,000          33   \n",
       "8          Intel                 $85,800              $129,400          32   \n",
       "9          Adobe                 $91,900              $141,900          31   \n",
       "10         Apple                 $91,300              $145,400          31   \n",
       "11        Amazon                 $81,900              $130,400          30   \n",
       "12        Google                $106,900              $151,600          30   \n",
       "13    Salesforce                 $84,800              $154,600          30   \n",
       "14         Tesla                 $81,400              $118,500          30   \n",
       "15      LinkedIn                $110,800              $159,600          29   \n",
       "16        SpaceX                 $78,500                   NA           29   \n",
       "17      Facebook                $116,800              $149,300          29   \n",
       "\n",
       "    Years of Experience  Years with Company % Female % High Job Satisfaction  \\\n",
       "0                   7.7                 6.3      32%                     64%   \n",
       "1                   9.0                 5.3      29%                     64%   \n",
       "2                   7.4                 7.1      25%                     59%   \n",
       "3                   6.4                 4.8      27%                     72%   \n",
       "4                   7.7                 4.3      20%                     69%   \n",
       "5                   6.7                 4.0      23%                     76%   \n",
       "6                   6.9                 2.7      43%                     78%   \n",
       "7                   6.0                 2.3      37%                     64%   \n",
       "8                   5.5                 5.0      25%                     72%   \n",
       "9                   5.2                 3.3      28%                     84%   \n",
       "10                  6.0                 2.7      31%                     73%   \n",
       "11                  5.2                 2.0      26%                     69%   \n",
       "12                  5.2                 2.0      30%                     89%   \n",
       "13                  5.3                 1.8      30%                     89%   \n",
       "14                  5.6                 1.6      20%                     70%   \n",
       "15                  5.0                 NaN      42%                     NaN   \n",
       "16                  6.1                 2.3      14%                     73%   \n",
       "17                  4.3                 1.1      32%                     96%   \n",
       "\n",
       "   % High Job Meaning % High Job Stress  \n",
       "0                 41%               56%  \n",
       "1                 32%               56%  \n",
       "2                 40%               62%  \n",
       "3                 59%               58%  \n",
       "4                 50%               62%  \n",
       "5                 60%               52%  \n",
       "6                 55%               66%  \n",
       "7                 36%               69%  \n",
       "8                 66%               61%  \n",
       "9                 24%               47%  \n",
       "10                74%               66%  \n",
       "11                42%               66%  \n",
       "12                72%               53%  \n",
       "13                54%               55%  \n",
       "14                89%               70%  \n",
       "15                NaN               NaN  \n",
       "16                92%               88%  \n",
       "17                78%               44%  "
      ],
      "text/html": "<div>\n<style scoped>\n    .dataframe tbody tr th:only-of-type {\n        vertical-align: middle;\n    }\n\n    .dataframe tbody tr th {\n        vertical-align: top;\n    }\n\n    .dataframe thead th {\n        text-align: right;\n    }\n</style>\n<table border=\"1\" class=\"dataframe\">\n  <thead>\n    <tr style=\"text-align: right;\">\n      <th></th>\n      <th>Employer Name</th>\n      <th>Early Career Median Pay</th>\n      <th>Mid-Career Median Pay</th>\n      <th>Median Age</th>\n      <th>Years of Experience</th>\n      <th>Years with Company</th>\n      <th>% Female</th>\n      <th>% High Job Satisfaction</th>\n      <th>% High Job Meaning</th>\n      <th>% High Job Stress</th>\n    </tr>\n  </thead>\n  <tbody>\n    <tr>\n      <th>0</th>\n      <td>HP</td>\n      <td>$65,400</td>\n      <td>$104,200</td>\n      <td>38</td>\n      <td>7.7</td>\n      <td>6.3</td>\n      <td>32%</td>\n      <td>64%</td>\n      <td>41%</td>\n      <td>56%</td>\n    </tr>\n    <tr>\n      <th>1</th>\n      <td>Oracle</td>\n      <td>$71,400</td>\n      <td>$126,400</td>\n      <td>37</td>\n      <td>9.0</td>\n      <td>5.3</td>\n      <td>29%</td>\n      <td>64%</td>\n      <td>32%</td>\n      <td>56%</td>\n    </tr>\n    <tr>\n      <th>2</th>\n      <td>IBM</td>\n      <td>$72,700</td>\n      <td>$112,700</td>\n      <td>36</td>\n      <td>7.4</td>\n      <td>7.1</td>\n      <td>25%</td>\n      <td>59%</td>\n      <td>40%</td>\n      <td>62%</td>\n    </tr>\n    <tr>\n      <th>3</th>\n      <td>Microsoft</td>\n      <td>$102,500</td>\n      <td>$139,700</td>\n      <td>33</td>\n      <td>6.4</td>\n      <td>4.8</td>\n      <td>27%</td>\n      <td>72%</td>\n      <td>59%</td>\n      <td>58%</td>\n    </tr>\n    <tr>\n      <th>4</th>\n      <td>Qualcomm</td>\n      <td>$94,400</td>\n      <td>$132,500</td>\n      <td>33</td>\n      <td>7.7</td>\n      <td>4.3</td>\n      <td>20%</td>\n      <td>69%</td>\n      <td>50%</td>\n      <td>62%</td>\n    </tr>\n    <tr>\n      <th>5</th>\n      <td>Cisco</td>\n      <td>$83,800</td>\n      <td>$134,700</td>\n      <td>33</td>\n      <td>6.7</td>\n      <td>4.0</td>\n      <td>23%</td>\n      <td>76%</td>\n      <td>60%</td>\n      <td>52%</td>\n    </tr>\n    <tr>\n      <th>6</th>\n      <td>eBay</td>\n      <td>$88,900</td>\n      <td>$136,000</td>\n      <td>33</td>\n      <td>6.9</td>\n      <td>2.7</td>\n      <td>43%</td>\n      <td>78%</td>\n      <td>55%</td>\n      <td>66%</td>\n    </tr>\n    <tr>\n      <th>7</th>\n      <td>Samsung</td>\n      <td>$65,900</td>\n      <td>$143,000</td>\n      <td>33</td>\n      <td>6.0</td>\n      <td>2.3</td>\n      <td>37%</td>\n      <td>64%</td>\n      <td>36%</td>\n      <td>69%</td>\n    </tr>\n    <tr>\n      <th>8</th>\n      <td>Intel</td>\n      <td>$85,800</td>\n      <td>$129,400</td>\n      <td>32</td>\n      <td>5.5</td>\n      <td>5.0</td>\n      <td>25%</td>\n      <td>72%</td>\n      <td>66%</td>\n      <td>61%</td>\n    </tr>\n    <tr>\n      <th>9</th>\n      <td>Adobe</td>\n      <td>$91,900</td>\n      <td>$141,900</td>\n      <td>31</td>\n      <td>5.2</td>\n      <td>3.3</td>\n      <td>28%</td>\n      <td>84%</td>\n      <td>24%</td>\n      <td>47%</td>\n    </tr>\n    <tr>\n      <th>10</th>\n      <td>Apple</td>\n      <td>$91,300</td>\n      <td>$145,400</td>\n      <td>31</td>\n      <td>6.0</td>\n      <td>2.7</td>\n      <td>31%</td>\n      <td>73%</td>\n      <td>74%</td>\n      <td>66%</td>\n    </tr>\n    <tr>\n      <th>11</th>\n      <td>Amazon</td>\n      <td>$81,900</td>\n      <td>$130,400</td>\n      <td>30</td>\n      <td>5.2</td>\n      <td>2.0</td>\n      <td>26%</td>\n      <td>69%</td>\n      <td>42%</td>\n      <td>66%</td>\n    </tr>\n    <tr>\n      <th>12</th>\n      <td>Google</td>\n      <td>$106,900</td>\n      <td>$151,600</td>\n      <td>30</td>\n      <td>5.2</td>\n      <td>2.0</td>\n      <td>30%</td>\n      <td>89%</td>\n      <td>72%</td>\n      <td>53%</td>\n    </tr>\n    <tr>\n      <th>13</th>\n      <td>Salesforce</td>\n      <td>$84,800</td>\n      <td>$154,600</td>\n      <td>30</td>\n      <td>5.3</td>\n      <td>1.8</td>\n      <td>30%</td>\n      <td>89%</td>\n      <td>54%</td>\n      <td>55%</td>\n    </tr>\n    <tr>\n      <th>14</th>\n      <td>Tesla</td>\n      <td>$81,400</td>\n      <td>$118,500</td>\n      <td>30</td>\n      <td>5.6</td>\n      <td>1.6</td>\n      <td>20%</td>\n      <td>70%</td>\n      <td>89%</td>\n      <td>70%</td>\n    </tr>\n    <tr>\n      <th>15</th>\n      <td>LinkedIn</td>\n      <td>$110,800</td>\n      <td>$159,600</td>\n      <td>29</td>\n      <td>5.0</td>\n      <td>NaN</td>\n      <td>42%</td>\n      <td>NaN</td>\n      <td>NaN</td>\n      <td>NaN</td>\n    </tr>\n    <tr>\n      <th>16</th>\n      <td>SpaceX</td>\n      <td>$78,500</td>\n      <td>NA</td>\n      <td>29</td>\n      <td>6.1</td>\n      <td>2.3</td>\n      <td>14%</td>\n      <td>73%</td>\n      <td>92%</td>\n      <td>88%</td>\n    </tr>\n    <tr>\n      <th>17</th>\n      <td>Facebook</td>\n      <td>$116,800</td>\n      <td>$149,300</td>\n      <td>29</td>\n      <td>4.3</td>\n      <td>1.1</td>\n      <td>32%</td>\n      <td>96%</td>\n      <td>78%</td>\n      <td>44%</td>\n    </tr>\n  </tbody>\n</table>\n</div>"
     },
     "metadata": {},
     "execution_count": 5
    }
   ],
   "source": [
    "# tech_salaries_df = tech_salaries_df.dropna(subset =[\"NA\",\"NaN\"])\n",
    "# \n",
    "\n",
    "# tech_salaries = tech_salaries[[\"Early Career Median Pay\",\"Mid-Career Median Pay\"]].apply(pd.to_numeric)\n",
    "\n",
    "# tech_salaries = tech_salaries[tech_salaries[\"Mid-Career Median Pay\"]!=\"NA\"]\n",
    "\n",
    "# # tech_salaries.drop(tech_salaries[[\"Mid-Career Median Pay\"]==\"NA\"])\n",
    "tech_salaries"
   ]
  },
  {
   "cell_type": "code",
   "execution_count": 6,
   "metadata": {},
   "outputs": [
    {
     "output_type": "error",
     "ename": "ValueError",
     "evalue": "invalid literal for int() with base 10: ' NA '",
     "traceback": [
      "\u001b[1;31m---------------------------------------------------------------------------\u001b[0m",
      "\u001b[1;31mValueError\u001b[0m                                Traceback (most recent call last)",
      "\u001b[1;32m<ipython-input-6-e9dfd9c66144>\u001b[0m in \u001b[0;36m<module>\u001b[1;34m\u001b[0m\n\u001b[0;32m      1\u001b[0m \u001b[1;31m# tech_salaries = tech_salaries.replace(\"$\",'')\u001b[0m\u001b[1;33m\u001b[0m\u001b[1;33m\u001b[0m\u001b[1;33m\u001b[0m\u001b[0m\n\u001b[0;32m      2\u001b[0m \u001b[1;33m\u001b[0m\u001b[0m\n\u001b[1;32m----> 3\u001b[1;33m \u001b[0mtech_salaries\u001b[0m\u001b[1;33m[\u001b[0m\u001b[1;33m[\u001b[0m\u001b[1;34m\"Early Career Median Pay\"\u001b[0m\u001b[1;33m,\u001b[0m\u001b[1;34m\"Mid-Career Median Pay\"\u001b[0m\u001b[1;33m]\u001b[0m\u001b[1;33m]\u001b[0m \u001b[1;33m=\u001b[0m \u001b[0mtech_salaries\u001b[0m\u001b[1;33m[\u001b[0m\u001b[1;33m[\u001b[0m\u001b[1;34m\"Early Career Median Pay\"\u001b[0m\u001b[1;33m,\u001b[0m\u001b[1;34m\"Mid-Career Median Pay\"\u001b[0m\u001b[1;33m]\u001b[0m\u001b[1;33m]\u001b[0m\u001b[1;33m.\u001b[0m\u001b[0mreplace\u001b[0m\u001b[1;33m(\u001b[0m\u001b[1;34m'[\\$\\,\\.]'\u001b[0m\u001b[1;33m,\u001b[0m\u001b[1;34m\"\"\u001b[0m\u001b[1;33m,\u001b[0m\u001b[0mregex\u001b[0m\u001b[1;33m=\u001b[0m\u001b[1;32mTrue\u001b[0m\u001b[1;33m)\u001b[0m\u001b[1;33m.\u001b[0m\u001b[0mastype\u001b[0m\u001b[1;33m(\u001b[0m\u001b[0mint\u001b[0m\u001b[1;33m)\u001b[0m\u001b[1;33m\u001b[0m\u001b[1;33m\u001b[0m\u001b[0m\n\u001b[0m",
      "\u001b[1;32m~\\anaconda3\\envs\\PythonData\\lib\\site-packages\\pandas\\core\\generic.py\u001b[0m in \u001b[0;36mastype\u001b[1;34m(self, dtype, copy, errors)\u001b[0m\n\u001b[0;32m   5696\u001b[0m         \u001b[1;32melse\u001b[0m\u001b[1;33m:\u001b[0m\u001b[1;33m\u001b[0m\u001b[1;33m\u001b[0m\u001b[0m\n\u001b[0;32m   5697\u001b[0m             \u001b[1;31m# else, only a single dtype is given\u001b[0m\u001b[1;33m\u001b[0m\u001b[1;33m\u001b[0m\u001b[1;33m\u001b[0m\u001b[0m\n\u001b[1;32m-> 5698\u001b[1;33m             \u001b[0mnew_data\u001b[0m \u001b[1;33m=\u001b[0m \u001b[0mself\u001b[0m\u001b[1;33m.\u001b[0m\u001b[0m_data\u001b[0m\u001b[1;33m.\u001b[0m\u001b[0mastype\u001b[0m\u001b[1;33m(\u001b[0m\u001b[0mdtype\u001b[0m\u001b[1;33m=\u001b[0m\u001b[0mdtype\u001b[0m\u001b[1;33m,\u001b[0m \u001b[0mcopy\u001b[0m\u001b[1;33m=\u001b[0m\u001b[0mcopy\u001b[0m\u001b[1;33m,\u001b[0m \u001b[0merrors\u001b[0m\u001b[1;33m=\u001b[0m\u001b[0merrors\u001b[0m\u001b[1;33m)\u001b[0m\u001b[1;33m\u001b[0m\u001b[1;33m\u001b[0m\u001b[0m\n\u001b[0m\u001b[0;32m   5699\u001b[0m             \u001b[1;32mreturn\u001b[0m \u001b[0mself\u001b[0m\u001b[1;33m.\u001b[0m\u001b[0m_constructor\u001b[0m\u001b[1;33m(\u001b[0m\u001b[0mnew_data\u001b[0m\u001b[1;33m)\u001b[0m\u001b[1;33m.\u001b[0m\u001b[0m__finalize__\u001b[0m\u001b[1;33m(\u001b[0m\u001b[0mself\u001b[0m\u001b[1;33m)\u001b[0m\u001b[1;33m\u001b[0m\u001b[1;33m\u001b[0m\u001b[0m\n\u001b[0;32m   5700\u001b[0m \u001b[1;33m\u001b[0m\u001b[0m\n",
      "\u001b[1;32m~\\anaconda3\\envs\\PythonData\\lib\\site-packages\\pandas\\core\\internals\\managers.py\u001b[0m in \u001b[0;36mastype\u001b[1;34m(self, dtype, copy, errors)\u001b[0m\n\u001b[0;32m    580\u001b[0m \u001b[1;33m\u001b[0m\u001b[0m\n\u001b[0;32m    581\u001b[0m     \u001b[1;32mdef\u001b[0m \u001b[0mastype\u001b[0m\u001b[1;33m(\u001b[0m\u001b[0mself\u001b[0m\u001b[1;33m,\u001b[0m \u001b[0mdtype\u001b[0m\u001b[1;33m,\u001b[0m \u001b[0mcopy\u001b[0m\u001b[1;33m:\u001b[0m \u001b[0mbool\u001b[0m \u001b[1;33m=\u001b[0m \u001b[1;32mFalse\u001b[0m\u001b[1;33m,\u001b[0m \u001b[0merrors\u001b[0m\u001b[1;33m:\u001b[0m \u001b[0mstr\u001b[0m \u001b[1;33m=\u001b[0m \u001b[1;34m\"raise\"\u001b[0m\u001b[1;33m)\u001b[0m\u001b[1;33m:\u001b[0m\u001b[1;33m\u001b[0m\u001b[1;33m\u001b[0m\u001b[0m\n\u001b[1;32m--> 582\u001b[1;33m         \u001b[1;32mreturn\u001b[0m \u001b[0mself\u001b[0m\u001b[1;33m.\u001b[0m\u001b[0mapply\u001b[0m\u001b[1;33m(\u001b[0m\u001b[1;34m\"astype\"\u001b[0m\u001b[1;33m,\u001b[0m \u001b[0mdtype\u001b[0m\u001b[1;33m=\u001b[0m\u001b[0mdtype\u001b[0m\u001b[1;33m,\u001b[0m \u001b[0mcopy\u001b[0m\u001b[1;33m=\u001b[0m\u001b[0mcopy\u001b[0m\u001b[1;33m,\u001b[0m \u001b[0merrors\u001b[0m\u001b[1;33m=\u001b[0m\u001b[0merrors\u001b[0m\u001b[1;33m)\u001b[0m\u001b[1;33m\u001b[0m\u001b[1;33m\u001b[0m\u001b[0m\n\u001b[0m\u001b[0;32m    583\u001b[0m \u001b[1;33m\u001b[0m\u001b[0m\n\u001b[0;32m    584\u001b[0m     \u001b[1;32mdef\u001b[0m \u001b[0mconvert\u001b[0m\u001b[1;33m(\u001b[0m\u001b[0mself\u001b[0m\u001b[1;33m,\u001b[0m \u001b[1;33m**\u001b[0m\u001b[0mkwargs\u001b[0m\u001b[1;33m)\u001b[0m\u001b[1;33m:\u001b[0m\u001b[1;33m\u001b[0m\u001b[1;33m\u001b[0m\u001b[0m\n",
      "\u001b[1;32m~\\anaconda3\\envs\\PythonData\\lib\\site-packages\\pandas\\core\\internals\\managers.py\u001b[0m in \u001b[0;36mapply\u001b[1;34m(self, f, filter, **kwargs)\u001b[0m\n\u001b[0;32m    440\u001b[0m                 \u001b[0mapplied\u001b[0m \u001b[1;33m=\u001b[0m \u001b[0mb\u001b[0m\u001b[1;33m.\u001b[0m\u001b[0mapply\u001b[0m\u001b[1;33m(\u001b[0m\u001b[0mf\u001b[0m\u001b[1;33m,\u001b[0m \u001b[1;33m**\u001b[0m\u001b[0mkwargs\u001b[0m\u001b[1;33m)\u001b[0m\u001b[1;33m\u001b[0m\u001b[1;33m\u001b[0m\u001b[0m\n\u001b[0;32m    441\u001b[0m             \u001b[1;32melse\u001b[0m\u001b[1;33m:\u001b[0m\u001b[1;33m\u001b[0m\u001b[1;33m\u001b[0m\u001b[0m\n\u001b[1;32m--> 442\u001b[1;33m                 \u001b[0mapplied\u001b[0m \u001b[1;33m=\u001b[0m \u001b[0mgetattr\u001b[0m\u001b[1;33m(\u001b[0m\u001b[0mb\u001b[0m\u001b[1;33m,\u001b[0m \u001b[0mf\u001b[0m\u001b[1;33m)\u001b[0m\u001b[1;33m(\u001b[0m\u001b[1;33m**\u001b[0m\u001b[0mkwargs\u001b[0m\u001b[1;33m)\u001b[0m\u001b[1;33m\u001b[0m\u001b[1;33m\u001b[0m\u001b[0m\n\u001b[0m\u001b[0;32m    443\u001b[0m             \u001b[0mresult_blocks\u001b[0m \u001b[1;33m=\u001b[0m \u001b[0m_extend_blocks\u001b[0m\u001b[1;33m(\u001b[0m\u001b[0mapplied\u001b[0m\u001b[1;33m,\u001b[0m \u001b[0mresult_blocks\u001b[0m\u001b[1;33m)\u001b[0m\u001b[1;33m\u001b[0m\u001b[1;33m\u001b[0m\u001b[0m\n\u001b[0;32m    444\u001b[0m \u001b[1;33m\u001b[0m\u001b[0m\n",
      "\u001b[1;32m~\\anaconda3\\envs\\PythonData\\lib\\site-packages\\pandas\\core\\internals\\blocks.py\u001b[0m in \u001b[0;36mastype\u001b[1;34m(self, dtype, copy, errors)\u001b[0m\n\u001b[0;32m    623\u001b[0m             \u001b[0mvals1d\u001b[0m \u001b[1;33m=\u001b[0m \u001b[0mvalues\u001b[0m\u001b[1;33m.\u001b[0m\u001b[0mravel\u001b[0m\u001b[1;33m(\u001b[0m\u001b[1;33m)\u001b[0m\u001b[1;33m\u001b[0m\u001b[1;33m\u001b[0m\u001b[0m\n\u001b[0;32m    624\u001b[0m             \u001b[1;32mtry\u001b[0m\u001b[1;33m:\u001b[0m\u001b[1;33m\u001b[0m\u001b[1;33m\u001b[0m\u001b[0m\n\u001b[1;32m--> 625\u001b[1;33m                 \u001b[0mvalues\u001b[0m \u001b[1;33m=\u001b[0m \u001b[0mastype_nansafe\u001b[0m\u001b[1;33m(\u001b[0m\u001b[0mvals1d\u001b[0m\u001b[1;33m,\u001b[0m \u001b[0mdtype\u001b[0m\u001b[1;33m,\u001b[0m \u001b[0mcopy\u001b[0m\u001b[1;33m=\u001b[0m\u001b[1;32mTrue\u001b[0m\u001b[1;33m)\u001b[0m\u001b[1;33m\u001b[0m\u001b[1;33m\u001b[0m\u001b[0m\n\u001b[0m\u001b[0;32m    626\u001b[0m             \u001b[1;32mexcept\u001b[0m \u001b[1;33m(\u001b[0m\u001b[0mValueError\u001b[0m\u001b[1;33m,\u001b[0m \u001b[0mTypeError\u001b[0m\u001b[1;33m)\u001b[0m\u001b[1;33m:\u001b[0m\u001b[1;33m\u001b[0m\u001b[1;33m\u001b[0m\u001b[0m\n\u001b[0;32m    627\u001b[0m                 \u001b[1;31m# e.g. astype_nansafe can fail on object-dtype of strings\u001b[0m\u001b[1;33m\u001b[0m\u001b[1;33m\u001b[0m\u001b[1;33m\u001b[0m\u001b[0m\n",
      "\u001b[1;32m~\\anaconda3\\envs\\PythonData\\lib\\site-packages\\pandas\\core\\dtypes\\cast.py\u001b[0m in \u001b[0;36mastype_nansafe\u001b[1;34m(arr, dtype, copy, skipna)\u001b[0m\n\u001b[0;32m    872\u001b[0m         \u001b[1;31m# work around NumPy brokenness, #1987\u001b[0m\u001b[1;33m\u001b[0m\u001b[1;33m\u001b[0m\u001b[1;33m\u001b[0m\u001b[0m\n\u001b[0;32m    873\u001b[0m         \u001b[1;32mif\u001b[0m \u001b[0mnp\u001b[0m\u001b[1;33m.\u001b[0m\u001b[0missubdtype\u001b[0m\u001b[1;33m(\u001b[0m\u001b[0mdtype\u001b[0m\u001b[1;33m.\u001b[0m\u001b[0mtype\u001b[0m\u001b[1;33m,\u001b[0m \u001b[0mnp\u001b[0m\u001b[1;33m.\u001b[0m\u001b[0minteger\u001b[0m\u001b[1;33m)\u001b[0m\u001b[1;33m:\u001b[0m\u001b[1;33m\u001b[0m\u001b[1;33m\u001b[0m\u001b[0m\n\u001b[1;32m--> 874\u001b[1;33m             \u001b[1;32mreturn\u001b[0m \u001b[0mlib\u001b[0m\u001b[1;33m.\u001b[0m\u001b[0mastype_intsafe\u001b[0m\u001b[1;33m(\u001b[0m\u001b[0marr\u001b[0m\u001b[1;33m.\u001b[0m\u001b[0mravel\u001b[0m\u001b[1;33m(\u001b[0m\u001b[1;33m)\u001b[0m\u001b[1;33m,\u001b[0m \u001b[0mdtype\u001b[0m\u001b[1;33m)\u001b[0m\u001b[1;33m.\u001b[0m\u001b[0mreshape\u001b[0m\u001b[1;33m(\u001b[0m\u001b[0marr\u001b[0m\u001b[1;33m.\u001b[0m\u001b[0mshape\u001b[0m\u001b[1;33m)\u001b[0m\u001b[1;33m\u001b[0m\u001b[1;33m\u001b[0m\u001b[0m\n\u001b[0m\u001b[0;32m    875\u001b[0m \u001b[1;33m\u001b[0m\u001b[0m\n\u001b[0;32m    876\u001b[0m         \u001b[1;31m# if we have a datetime/timedelta array of objects\u001b[0m\u001b[1;33m\u001b[0m\u001b[1;33m\u001b[0m\u001b[1;33m\u001b[0m\u001b[0m\n",
      "\u001b[1;32mpandas\\_libs\\lib.pyx\u001b[0m in \u001b[0;36mpandas._libs.lib.astype_intsafe\u001b[1;34m()\u001b[0m\n",
      "\u001b[1;31mValueError\u001b[0m: invalid literal for int() with base 10: ' NA '"
     ]
    }
   ],
   "source": [
    "# tech_salaries = tech_salaries.replace(\"$\",'')\n",
    "\n",
    "tech_salaries[[\"Early Career Median Pay\",\"Mid-Career Median Pay\"]] = tech_salaries[[\"Early Career Median Pay\",\"Mid-Career Median Pay\"]].replace('[\\$\\,\\.]',\"\",regex=True).astype(int)"
   ]
  },
  {
   "cell_type": "code",
   "execution_count": 13,
   "metadata": {},
   "outputs": [
    {
     "output_type": "execute_result",
     "data": {
      "text/plain": [
       "   Employer Name  Early Career Median Pay Mid-Career Median Pay  Median Age  \\\n",
       "0             HP                    65400              $104,200          38   \n",
       "1         Oracle                    71400              $126,400          37   \n",
       "2            IBM                    72700              $112,700          36   \n",
       "3      Microsoft                   102500              $139,700          33   \n",
       "4       Qualcomm                    94400              $132,500          33   \n",
       "5          Cisco                    83800              $134,700          33   \n",
       "6           eBay                    88900              $136,000          33   \n",
       "7        Samsung                    65900              $143,000          33   \n",
       "8          Intel                    85800              $129,400          32   \n",
       "9          Adobe                    91900              $141,900          31   \n",
       "10         Apple                    91300              $145,400          31   \n",
       "11        Amazon                    81900              $130,400          30   \n",
       "12        Google                   106900              $151,600          30   \n",
       "13    Salesforce                    84800              $154,600          30   \n",
       "14         Tesla                    81400              $118,500          30   \n",
       "15      LinkedIn                   110800              $159,600          29   \n",
       "16        SpaceX                    78500                   NA           29   \n",
       "17      Facebook                   116800              $149,300          29   \n",
       "\n",
       "    Years of Experience  Years with Company % Female % High Job Satisfaction  \\\n",
       "0                   7.7                 6.3      32%                     64%   \n",
       "1                   9.0                 5.3      29%                     64%   \n",
       "2                   7.4                 7.1      25%                     59%   \n",
       "3                   6.4                 4.8      27%                     72%   \n",
       "4                   7.7                 4.3      20%                     69%   \n",
       "5                   6.7                 4.0      23%                     76%   \n",
       "6                   6.9                 2.7      43%                     78%   \n",
       "7                   6.0                 2.3      37%                     64%   \n",
       "8                   5.5                 5.0      25%                     72%   \n",
       "9                   5.2                 3.3      28%                     84%   \n",
       "10                  6.0                 2.7      31%                     73%   \n",
       "11                  5.2                 2.0      26%                     69%   \n",
       "12                  5.2                 2.0      30%                     89%   \n",
       "13                  5.3                 1.8      30%                     89%   \n",
       "14                  5.6                 1.6      20%                     70%   \n",
       "15                  5.0                 NaN      42%                     NaN   \n",
       "16                  6.1                 2.3      14%                     73%   \n",
       "17                  4.3                 1.1      32%                     96%   \n",
       "\n",
       "   % High Job Meaning % High Job Stress  \n",
       "0                 41%               56%  \n",
       "1                 32%               56%  \n",
       "2                 40%               62%  \n",
       "3                 59%               58%  \n",
       "4                 50%               62%  \n",
       "5                 60%               52%  \n",
       "6                 55%               66%  \n",
       "7                 36%               69%  \n",
       "8                 66%               61%  \n",
       "9                 24%               47%  \n",
       "10                74%               66%  \n",
       "11                42%               66%  \n",
       "12                72%               53%  \n",
       "13                54%               55%  \n",
       "14                89%               70%  \n",
       "15                NaN               NaN  \n",
       "16                92%               88%  \n",
       "17                78%               44%  "
      ],
      "text/html": "<div>\n<style scoped>\n    .dataframe tbody tr th:only-of-type {\n        vertical-align: middle;\n    }\n\n    .dataframe tbody tr th {\n        vertical-align: top;\n    }\n\n    .dataframe thead th {\n        text-align: right;\n    }\n</style>\n<table border=\"1\" class=\"dataframe\">\n  <thead>\n    <tr style=\"text-align: right;\">\n      <th></th>\n      <th>Employer Name</th>\n      <th>Early Career Median Pay</th>\n      <th>Mid-Career Median Pay</th>\n      <th>Median Age</th>\n      <th>Years of Experience</th>\n      <th>Years with Company</th>\n      <th>% Female</th>\n      <th>% High Job Satisfaction</th>\n      <th>% High Job Meaning</th>\n      <th>% High Job Stress</th>\n    </tr>\n  </thead>\n  <tbody>\n    <tr>\n      <th>0</th>\n      <td>HP</td>\n      <td>65400</td>\n      <td>$104,200</td>\n      <td>38</td>\n      <td>7.7</td>\n      <td>6.3</td>\n      <td>32%</td>\n      <td>64%</td>\n      <td>41%</td>\n      <td>56%</td>\n    </tr>\n    <tr>\n      <th>1</th>\n      <td>Oracle</td>\n      <td>71400</td>\n      <td>$126,400</td>\n      <td>37</td>\n      <td>9.0</td>\n      <td>5.3</td>\n      <td>29%</td>\n      <td>64%</td>\n      <td>32%</td>\n      <td>56%</td>\n    </tr>\n    <tr>\n      <th>2</th>\n      <td>IBM</td>\n      <td>72700</td>\n      <td>$112,700</td>\n      <td>36</td>\n      <td>7.4</td>\n      <td>7.1</td>\n      <td>25%</td>\n      <td>59%</td>\n      <td>40%</td>\n      <td>62%</td>\n    </tr>\n    <tr>\n      <th>3</th>\n      <td>Microsoft</td>\n      <td>102500</td>\n      <td>$139,700</td>\n      <td>33</td>\n      <td>6.4</td>\n      <td>4.8</td>\n      <td>27%</td>\n      <td>72%</td>\n      <td>59%</td>\n      <td>58%</td>\n    </tr>\n    <tr>\n      <th>4</th>\n      <td>Qualcomm</td>\n      <td>94400</td>\n      <td>$132,500</td>\n      <td>33</td>\n      <td>7.7</td>\n      <td>4.3</td>\n      <td>20%</td>\n      <td>69%</td>\n      <td>50%</td>\n      <td>62%</td>\n    </tr>\n    <tr>\n      <th>5</th>\n      <td>Cisco</td>\n      <td>83800</td>\n      <td>$134,700</td>\n      <td>33</td>\n      <td>6.7</td>\n      <td>4.0</td>\n      <td>23%</td>\n      <td>76%</td>\n      <td>60%</td>\n      <td>52%</td>\n    </tr>\n    <tr>\n      <th>6</th>\n      <td>eBay</td>\n      <td>88900</td>\n      <td>$136,000</td>\n      <td>33</td>\n      <td>6.9</td>\n      <td>2.7</td>\n      <td>43%</td>\n      <td>78%</td>\n      <td>55%</td>\n      <td>66%</td>\n    </tr>\n    <tr>\n      <th>7</th>\n      <td>Samsung</td>\n      <td>65900</td>\n      <td>$143,000</td>\n      <td>33</td>\n      <td>6.0</td>\n      <td>2.3</td>\n      <td>37%</td>\n      <td>64%</td>\n      <td>36%</td>\n      <td>69%</td>\n    </tr>\n    <tr>\n      <th>8</th>\n      <td>Intel</td>\n      <td>85800</td>\n      <td>$129,400</td>\n      <td>32</td>\n      <td>5.5</td>\n      <td>5.0</td>\n      <td>25%</td>\n      <td>72%</td>\n      <td>66%</td>\n      <td>61%</td>\n    </tr>\n    <tr>\n      <th>9</th>\n      <td>Adobe</td>\n      <td>91900</td>\n      <td>$141,900</td>\n      <td>31</td>\n      <td>5.2</td>\n      <td>3.3</td>\n      <td>28%</td>\n      <td>84%</td>\n      <td>24%</td>\n      <td>47%</td>\n    </tr>\n    <tr>\n      <th>10</th>\n      <td>Apple</td>\n      <td>91300</td>\n      <td>$145,400</td>\n      <td>31</td>\n      <td>6.0</td>\n      <td>2.7</td>\n      <td>31%</td>\n      <td>73%</td>\n      <td>74%</td>\n      <td>66%</td>\n    </tr>\n    <tr>\n      <th>11</th>\n      <td>Amazon</td>\n      <td>81900</td>\n      <td>$130,400</td>\n      <td>30</td>\n      <td>5.2</td>\n      <td>2.0</td>\n      <td>26%</td>\n      <td>69%</td>\n      <td>42%</td>\n      <td>66%</td>\n    </tr>\n    <tr>\n      <th>12</th>\n      <td>Google</td>\n      <td>106900</td>\n      <td>$151,600</td>\n      <td>30</td>\n      <td>5.2</td>\n      <td>2.0</td>\n      <td>30%</td>\n      <td>89%</td>\n      <td>72%</td>\n      <td>53%</td>\n    </tr>\n    <tr>\n      <th>13</th>\n      <td>Salesforce</td>\n      <td>84800</td>\n      <td>$154,600</td>\n      <td>30</td>\n      <td>5.3</td>\n      <td>1.8</td>\n      <td>30%</td>\n      <td>89%</td>\n      <td>54%</td>\n      <td>55%</td>\n    </tr>\n    <tr>\n      <th>14</th>\n      <td>Tesla</td>\n      <td>81400</td>\n      <td>$118,500</td>\n      <td>30</td>\n      <td>5.6</td>\n      <td>1.6</td>\n      <td>20%</td>\n      <td>70%</td>\n      <td>89%</td>\n      <td>70%</td>\n    </tr>\n    <tr>\n      <th>15</th>\n      <td>LinkedIn</td>\n      <td>110800</td>\n      <td>$159,600</td>\n      <td>29</td>\n      <td>5.0</td>\n      <td>NaN</td>\n      <td>42%</td>\n      <td>NaN</td>\n      <td>NaN</td>\n      <td>NaN</td>\n    </tr>\n    <tr>\n      <th>16</th>\n      <td>SpaceX</td>\n      <td>78500</td>\n      <td>NA</td>\n      <td>29</td>\n      <td>6.1</td>\n      <td>2.3</td>\n      <td>14%</td>\n      <td>73%</td>\n      <td>92%</td>\n      <td>88%</td>\n    </tr>\n    <tr>\n      <th>17</th>\n      <td>Facebook</td>\n      <td>116800</td>\n      <td>$149,300</td>\n      <td>29</td>\n      <td>4.3</td>\n      <td>1.1</td>\n      <td>32%</td>\n      <td>96%</td>\n      <td>78%</td>\n      <td>44%</td>\n    </tr>\n  </tbody>\n</table>\n</div>"
     },
     "metadata": {},
     "execution_count": 13
    }
   ],
   "source": [
    "tech_salaries"
   ]
  },
  {
   "cell_type": "code",
   "execution_count": 7,
   "metadata": {},
   "outputs": [
    {
     "output_type": "error",
     "ename": "TypeError",
     "evalue": "only size-1 arrays can be converted to Python scalars",
     "traceback": [
      "\u001b[1;31m---------------------------------------------------------------------------\u001b[0m",
      "\u001b[1;31mTypeError\u001b[0m                                 Traceback (most recent call last)",
      "\u001b[1;32m<ipython-input-7-a0b1968357f8>\u001b[0m in \u001b[0;36m<module>\u001b[1;34m\u001b[0m\n\u001b[0;32m      7\u001b[0m \u001b[1;33m\u001b[0m\u001b[0m\n\u001b[0;32m      8\u001b[0m \u001b[0mplt\u001b[0m\u001b[1;33m.\u001b[0m\u001b[0mbar\u001b[0m\u001b[1;33m(\u001b[0m\u001b[0mx\u001b[0m\u001b[1;33m,\u001b[0m \u001b[0my1\u001b[0m\u001b[1;33m,\u001b[0m \u001b[0mlabel\u001b[0m\u001b[1;33m=\u001b[0m\u001b[1;34m'Early Career'\u001b[0m\u001b[1;33m,\u001b[0m\u001b[0mcolor\u001b[0m\u001b[1;33m=\u001b[0m\u001b[1;34m'b'\u001b[0m\u001b[1;33m)\u001b[0m\u001b[1;33m\u001b[0m\u001b[1;33m\u001b[0m\u001b[0m\n\u001b[1;32m----> 9\u001b[1;33m \u001b[0mplt\u001b[0m\u001b[1;33m.\u001b[0m\u001b[0mbar\u001b[0m\u001b[1;33m(\u001b[0m\u001b[0mx\u001b[0m\u001b[1;33m,\u001b[0m \u001b[0my2\u001b[0m\u001b[1;33m,\u001b[0m \u001b[0mbottom\u001b[0m\u001b[1;33m=\u001b[0m\u001b[0my1\u001b[0m\u001b[1;33m,\u001b[0m\u001b[0mcolor\u001b[0m\u001b[1;33m=\u001b[0m\u001b[1;34m'y'\u001b[0m\u001b[1;33m)\u001b[0m\u001b[1;33m\u001b[0m\u001b[1;33m\u001b[0m\u001b[0m\n\u001b[0m\u001b[0;32m     10\u001b[0m \u001b[1;33m\u001b[0m\u001b[0m\n\u001b[0;32m     11\u001b[0m \u001b[1;31m# ax.set_ylabel('Annual Salaries')\u001b[0m\u001b[1;33m\u001b[0m\u001b[1;33m\u001b[0m\u001b[1;33m\u001b[0m\u001b[0m\n",
      "\u001b[1;32m~\\anaconda3\\envs\\PythonData\\lib\\site-packages\\matplotlib\\pyplot.py\u001b[0m in \u001b[0;36mbar\u001b[1;34m(x, height, width, bottom, align, data, **kwargs)\u001b[0m\n\u001b[0;32m   2407\u001b[0m     return gca().bar(\n\u001b[0;32m   2408\u001b[0m         \u001b[0mx\u001b[0m\u001b[1;33m,\u001b[0m \u001b[0mheight\u001b[0m\u001b[1;33m,\u001b[0m \u001b[0mwidth\u001b[0m\u001b[1;33m=\u001b[0m\u001b[0mwidth\u001b[0m\u001b[1;33m,\u001b[0m \u001b[0mbottom\u001b[0m\u001b[1;33m=\u001b[0m\u001b[0mbottom\u001b[0m\u001b[1;33m,\u001b[0m \u001b[0malign\u001b[0m\u001b[1;33m=\u001b[0m\u001b[0malign\u001b[0m\u001b[1;33m,\u001b[0m\u001b[1;33m\u001b[0m\u001b[1;33m\u001b[0m\u001b[0m\n\u001b[1;32m-> 2409\u001b[1;33m         **({\"data\": data} if data is not None else {}), **kwargs)\n\u001b[0m\u001b[0;32m   2410\u001b[0m \u001b[1;33m\u001b[0m\u001b[0m\n\u001b[0;32m   2411\u001b[0m \u001b[1;33m\u001b[0m\u001b[0m\n",
      "\u001b[1;32m~\\anaconda3\\envs\\PythonData\\lib\\site-packages\\matplotlib\\__init__.py\u001b[0m in \u001b[0;36minner\u001b[1;34m(ax, data, *args, **kwargs)\u001b[0m\n\u001b[0;32m   1563\u001b[0m     \u001b[1;32mdef\u001b[0m \u001b[0minner\u001b[0m\u001b[1;33m(\u001b[0m\u001b[0max\u001b[0m\u001b[1;33m,\u001b[0m \u001b[1;33m*\u001b[0m\u001b[0margs\u001b[0m\u001b[1;33m,\u001b[0m \u001b[0mdata\u001b[0m\u001b[1;33m=\u001b[0m\u001b[1;32mNone\u001b[0m\u001b[1;33m,\u001b[0m \u001b[1;33m**\u001b[0m\u001b[0mkwargs\u001b[0m\u001b[1;33m)\u001b[0m\u001b[1;33m:\u001b[0m\u001b[1;33m\u001b[0m\u001b[1;33m\u001b[0m\u001b[0m\n\u001b[0;32m   1564\u001b[0m         \u001b[1;32mif\u001b[0m \u001b[0mdata\u001b[0m \u001b[1;32mis\u001b[0m \u001b[1;32mNone\u001b[0m\u001b[1;33m:\u001b[0m\u001b[1;33m\u001b[0m\u001b[1;33m\u001b[0m\u001b[0m\n\u001b[1;32m-> 1565\u001b[1;33m             \u001b[1;32mreturn\u001b[0m \u001b[0mfunc\u001b[0m\u001b[1;33m(\u001b[0m\u001b[0max\u001b[0m\u001b[1;33m,\u001b[0m \u001b[1;33m*\u001b[0m\u001b[0mmap\u001b[0m\u001b[1;33m(\u001b[0m\u001b[0msanitize_sequence\u001b[0m\u001b[1;33m,\u001b[0m \u001b[0margs\u001b[0m\u001b[1;33m)\u001b[0m\u001b[1;33m,\u001b[0m \u001b[1;33m**\u001b[0m\u001b[0mkwargs\u001b[0m\u001b[1;33m)\u001b[0m\u001b[1;33m\u001b[0m\u001b[1;33m\u001b[0m\u001b[0m\n\u001b[0m\u001b[0;32m   1566\u001b[0m \u001b[1;33m\u001b[0m\u001b[0m\n\u001b[0;32m   1567\u001b[0m         \u001b[0mbound\u001b[0m \u001b[1;33m=\u001b[0m \u001b[0mnew_sig\u001b[0m\u001b[1;33m.\u001b[0m\u001b[0mbind\u001b[0m\u001b[1;33m(\u001b[0m\u001b[0max\u001b[0m\u001b[1;33m,\u001b[0m \u001b[1;33m*\u001b[0m\u001b[0margs\u001b[0m\u001b[1;33m,\u001b[0m \u001b[1;33m**\u001b[0m\u001b[0mkwargs\u001b[0m\u001b[1;33m)\u001b[0m\u001b[1;33m\u001b[0m\u001b[1;33m\u001b[0m\u001b[0m\n",
      "\u001b[1;32m~\\anaconda3\\envs\\PythonData\\lib\\site-packages\\matplotlib\\axes\\_axes.py\u001b[0m in \u001b[0;36mbar\u001b[1;34m(self, x, height, width, bottom, align, **kwargs)\u001b[0m\n\u001b[0;32m   2394\u001b[0m                 \u001b[0medgecolor\u001b[0m\u001b[1;33m=\u001b[0m\u001b[0me\u001b[0m\u001b[1;33m,\u001b[0m\u001b[1;33m\u001b[0m\u001b[1;33m\u001b[0m\u001b[0m\n\u001b[0;32m   2395\u001b[0m                 \u001b[0mlinewidth\u001b[0m\u001b[1;33m=\u001b[0m\u001b[0mlw\u001b[0m\u001b[1;33m,\u001b[0m\u001b[1;33m\u001b[0m\u001b[1;33m\u001b[0m\u001b[0m\n\u001b[1;32m-> 2396\u001b[1;33m                 \u001b[0mlabel\u001b[0m\u001b[1;33m=\u001b[0m\u001b[1;34m'_nolegend_'\u001b[0m\u001b[1;33m,\u001b[0m\u001b[1;33m\u001b[0m\u001b[1;33m\u001b[0m\u001b[0m\n\u001b[0m\u001b[0;32m   2397\u001b[0m                 )\n\u001b[0;32m   2398\u001b[0m             \u001b[0mr\u001b[0m\u001b[1;33m.\u001b[0m\u001b[0mupdate\u001b[0m\u001b[1;33m(\u001b[0m\u001b[0mkwargs\u001b[0m\u001b[1;33m)\u001b[0m\u001b[1;33m\u001b[0m\u001b[1;33m\u001b[0m\u001b[0m\n",
      "\u001b[1;32m~\\anaconda3\\envs\\PythonData\\lib\\site-packages\\matplotlib\\patches.py\u001b[0m in \u001b[0;36m__init__\u001b[1;34m(self, xy, width, height, angle, **kwargs)\u001b[0m\n\u001b[0;32m    725\u001b[0m         \"\"\"\n\u001b[0;32m    726\u001b[0m \u001b[1;33m\u001b[0m\u001b[0m\n\u001b[1;32m--> 727\u001b[1;33m         \u001b[0mPatch\u001b[0m\u001b[1;33m.\u001b[0m\u001b[0m__init__\u001b[0m\u001b[1;33m(\u001b[0m\u001b[0mself\u001b[0m\u001b[1;33m,\u001b[0m \u001b[1;33m**\u001b[0m\u001b[0mkwargs\u001b[0m\u001b[1;33m)\u001b[0m\u001b[1;33m\u001b[0m\u001b[1;33m\u001b[0m\u001b[0m\n\u001b[0m\u001b[0;32m    728\u001b[0m \u001b[1;33m\u001b[0m\u001b[0m\n\u001b[0;32m    729\u001b[0m         \u001b[0mself\u001b[0m\u001b[1;33m.\u001b[0m\u001b[0m_x0\u001b[0m \u001b[1;33m=\u001b[0m \u001b[0mxy\u001b[0m\u001b[1;33m[\u001b[0m\u001b[1;36m0\u001b[0m\u001b[1;33m]\u001b[0m\u001b[1;33m\u001b[0m\u001b[1;33m\u001b[0m\u001b[0m\n",
      "\u001b[1;32m~\\anaconda3\\envs\\PythonData\\lib\\site-packages\\matplotlib\\patches.py\u001b[0m in \u001b[0;36m__init__\u001b[1;34m(self, edgecolor, facecolor, color, linewidth, linestyle, antialiased, hatch, fill, capstyle, joinstyle, **kwargs)\u001b[0m\n\u001b[0;32m     87\u001b[0m         \u001b[0mself\u001b[0m\u001b[1;33m.\u001b[0m\u001b[0mset_fill\u001b[0m\u001b[1;33m(\u001b[0m\u001b[0mfill\u001b[0m\u001b[1;33m)\u001b[0m\u001b[1;33m\u001b[0m\u001b[1;33m\u001b[0m\u001b[0m\n\u001b[0;32m     88\u001b[0m         \u001b[0mself\u001b[0m\u001b[1;33m.\u001b[0m\u001b[0mset_linestyle\u001b[0m\u001b[1;33m(\u001b[0m\u001b[0mlinestyle\u001b[0m\u001b[1;33m)\u001b[0m\u001b[1;33m\u001b[0m\u001b[1;33m\u001b[0m\u001b[0m\n\u001b[1;32m---> 89\u001b[1;33m         \u001b[0mself\u001b[0m\u001b[1;33m.\u001b[0m\u001b[0mset_linewidth\u001b[0m\u001b[1;33m(\u001b[0m\u001b[0mlinewidth\u001b[0m\u001b[1;33m)\u001b[0m\u001b[1;33m\u001b[0m\u001b[1;33m\u001b[0m\u001b[0m\n\u001b[0m\u001b[0;32m     90\u001b[0m         \u001b[0mself\u001b[0m\u001b[1;33m.\u001b[0m\u001b[0mset_antialiased\u001b[0m\u001b[1;33m(\u001b[0m\u001b[0mantialiased\u001b[0m\u001b[1;33m)\u001b[0m\u001b[1;33m\u001b[0m\u001b[1;33m\u001b[0m\u001b[0m\n\u001b[0;32m     91\u001b[0m         \u001b[0mself\u001b[0m\u001b[1;33m.\u001b[0m\u001b[0mset_hatch\u001b[0m\u001b[1;33m(\u001b[0m\u001b[0mhatch\u001b[0m\u001b[1;33m)\u001b[0m\u001b[1;33m\u001b[0m\u001b[1;33m\u001b[0m\u001b[0m\n",
      "\u001b[1;32m~\\anaconda3\\envs\\PythonData\\lib\\site-packages\\matplotlib\\patches.py\u001b[0m in \u001b[0;36mset_linewidth\u001b[1;34m(self, w)\u001b[0m\n\u001b[0;32m    393\u001b[0m                 \u001b[0mw\u001b[0m \u001b[1;33m=\u001b[0m \u001b[0mmpl\u001b[0m\u001b[1;33m.\u001b[0m\u001b[0mrcParams\u001b[0m\u001b[1;33m[\u001b[0m\u001b[1;34m'axes.linewidth'\u001b[0m\u001b[1;33m]\u001b[0m\u001b[1;33m\u001b[0m\u001b[1;33m\u001b[0m\u001b[0m\n\u001b[0;32m    394\u001b[0m \u001b[1;33m\u001b[0m\u001b[0m\n\u001b[1;32m--> 395\u001b[1;33m         \u001b[0mself\u001b[0m\u001b[1;33m.\u001b[0m\u001b[0m_linewidth\u001b[0m \u001b[1;33m=\u001b[0m \u001b[0mfloat\u001b[0m\u001b[1;33m(\u001b[0m\u001b[0mw\u001b[0m\u001b[1;33m)\u001b[0m\u001b[1;33m\u001b[0m\u001b[1;33m\u001b[0m\u001b[0m\n\u001b[0m\u001b[0;32m    396\u001b[0m         \u001b[1;31m# scale the dash pattern by the linewidth\u001b[0m\u001b[1;33m\u001b[0m\u001b[1;33m\u001b[0m\u001b[1;33m\u001b[0m\u001b[0m\n\u001b[0;32m    397\u001b[0m         \u001b[0moffset\u001b[0m\u001b[1;33m,\u001b[0m \u001b[0mls\u001b[0m \u001b[1;33m=\u001b[0m \u001b[0mself\u001b[0m\u001b[1;33m.\u001b[0m\u001b[0m_us_dashes\u001b[0m\u001b[1;33m\u001b[0m\u001b[1;33m\u001b[0m\u001b[0m\n",
      "\u001b[1;31mTypeError\u001b[0m: only size-1 arrays can be converted to Python scalars"
     ]
    }
   ],
   "source": [
    "x = tech_salaries[\"Employer Name\"]\n",
    "y1 = tech_salaries[\"Early Career Median Pay\"]\n",
    "y2 = tech_salaries[\"Mid-Career Median Pay\"]\n",
    "width = 0.5       # the width of the bars: can also be len(x) sequence\n",
    "\n",
    "fig, ax = plt.subplots()\n",
    "\n",
    "plt.bar(x, y1, label='Early Career',color='b')\n",
    "plt.bar(x, y2, bottom=y1,color='y')\n",
    "\n",
    "# ax.set_ylabel('Annual Salaries')\n",
    "# ax.set_title('Median Salaries by Company')\n",
    "# ax.legend()\n",
    "\n",
    "# plt.show()"
   ]
  },
  {
   "cell_type": "code",
   "execution_count": null,
   "metadata": {},
   "outputs": [],
   "source": []
  }
 ]
}